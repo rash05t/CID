{
 "cells": [
  {
   "cell_type": "code",
   "execution_count": 10,
   "metadata": {},
   "outputs": [],
   "source": [
    "import pandas as pd\n",
    "from googletrans import Translator"
   ]
  },
  {
   "cell_type": "code",
   "execution_count": 236,
   "metadata": {},
   "outputs": [
    {
     "name": "stdout",
     "output_type": "stream",
     "text": [
      "                                               hindi  complaint  category\n",
      "0  गांव भालौठ (रोहतक) के पास एक कार को ट्रक ने पी...        NaN  accident\n",
      "1  व्यक्ति ने बताया वह साइकिल पर घर जा रहा था कि ...        NaN  accident\n",
      "2  पंचकूला में कर्जे से परेशान हो क्र एक आदमी ने ...        NaN     theft\n",
      "3  बच्ची की मां ने बताया कि उसकी बेटा के एक सहपाठ...        NaN      rape\n",
      "4  पंचकुला का रहना वाला आरोपी पवन कुमार, (जो वर्त...        NaN     theft\n",
      "                                               hindi  complaint  category\n",
      "0  मिर्ज़ापुर में नव विवाहिता की गला दबाकर हत्या, ...        NaN    murder\n",
      "1  हरियाणा के बाउंसरों ने टोल कर्मी को मार डाला, ...        NaN    murder\n",
      "2  मासूम आदर्श उपाध्याय (5) पुत्र संजय उपाध्याय अ...        NaN      rape\n",
      "3  आज दिनांक 13.03.2023 को समय करीब 5.00 एएम पर ख...        NaN  accident\n",
      "4  आज दिनांक 19.03.2023 को समय करीब 7.15 बजे सांय...        NaN  accident\n"
     ]
    }
   ],
   "source": [
    "# translating the data into english\n",
    "# using google translate api\n",
    "df = pd.read_csv(\"shuffled data.csv\")\n",
    "print(df.head())\n",
    "test = pd.read_csv(\"shuffled test.csv\")\n",
    "print(test.head())"
   ]
  },
  {
   "cell_type": "code",
   "execution_count": 12,
   "metadata": {},
   "outputs": [],
   "source": [
    "def translate(data):\n",
    "    translator = Translator()\n",
    "    translations = {}\n",
    "        #print(column)\n",
    "       # print(unique)\n",
    "    for element in data['hindi']:\n",
    "            translations[element] = translator.translate(element).text\n",
    "    data['complaint'] = data['hindi'].map(translations)\n",
    "    return data"
   ]
  },
  {
   "cell_type": "code",
   "execution_count": 13,
   "metadata": {},
   "outputs": [
    {
     "name": "stdout",
     "output_type": "stream",
     "text": [
      "                                               hindi  \\\n",
      "0  गांव भालौठ (रोहतक) के पास एक कार को ट्रक ने पी...   \n",
      "1  व्यक्ति ने बताया वह साइकिल पर घर जा रहा था कि ...   \n",
      "2  पंचकूला में कर्जे से परेशान हो क्र एक आदमी ने ...   \n",
      "3  बच्ची की मां ने बताया कि उसकी बेटा के एक सहपाठ...   \n",
      "4  पंचकुला का रहना वाला आरोपी पवन कुमार, (जो वर्त...   \n",
      "\n",
      "                                           complaint  category  \n",
      "0  A car was hit from behind by a truck near vill...  accident  \n",
      "1  The person told that he was going home on a bi...  accident  \n",
      "2  Troubled by debt, a man along with his friend ...     theft  \n",
      "3  The girl's mother told that a classmate of her...      rape  \n",
      "4  Accused Pawan Kumar, a resident of Panchkula, ...     theft  \n",
      "                                               hindi  \\\n",
      "0  मिर्ज़ापुर में नव विवाहिता की गला दबाकर हत्या, ...   \n",
      "1  हरियाणा के बाउंसरों ने टोल कर्मी को मार डाला, ...   \n",
      "2  मासूम आदर्श उपाध्याय (5) पुत्र संजय उपाध्याय अ...   \n",
      "3  आज दिनांक 13.03.2023 को समय करीब 5.00 एएम पर ख...   \n",
      "4  आज दिनांक 19.03.2023 को समय करीब 7.15 बजे सांय...   \n",
      "\n",
      "                                           complaint  category  \n",
      "0  Newly married woman strangled to death in Mirz...    murder  \n",
      "1  Haryana's bouncers killed toll worker, Brijbhu...    murder  \n",
      "2  Innocent Adarsh ​​Upadhyay (5) son Sanjay Upad...      rape  \n",
      "3  Today, on 13.03.2023 at around 5.00 AM, the Vo...  accident  \n",
      "4  Today, on 19.03.2023, at around 7.15 pm, on Ji...  accident  \n"
     ]
    }
   ],
   "source": [
    "df= translate(df)\n",
    "test = translate(test)\n",
    "\n",
    "print(df.head())\n",
    "print(test.head())"
   ]
  },
  {
   "cell_type": "code",
   "execution_count": 164,
   "metadata": {},
   "outputs": [],
   "source": [
    "df.to_csv(\"translated data.csv\",encoding=\"utf-8\",index=False)\n",
    "test.to_csv(\"translated test.csv\",encoding=\"utf-8\",index=False)"
   ]
  },
  {
   "cell_type": "code",
   "execution_count": 237,
   "metadata": {},
   "outputs": [
    {
     "name": "stdout",
     "output_type": "stream",
     "text": [
      "                                               hindi  \\\n",
      "0  गांव भालौठ (रोहतक) के पास एक कार को ट्रक ने पी...   \n",
      "1  व्यक्ति ने बताया वह साइकिल पर घर जा रहा था कि ...   \n",
      "2  पंचकूला में कर्जे से परेशान हो क्र एक आदमी ने ...   \n",
      "3  बच्ची की मां ने बताया कि उसकी बेटा के एक सहपाठ...   \n",
      "4  पंचकुला का रहना वाला आरोपी पवन कुमार, (जो वर्त...   \n",
      "\n",
      "                                           complaint  category  \n",
      "0  A car was hit from behind by a truck near vill...  accident  \n",
      "1  The person told that he was going home on a bi...  accident  \n",
      "2  Troubled by debt, a man along with his friend ...     theft  \n",
      "3  The girl's mother told that a classmate of her...      rape  \n",
      "4  Accused Pawan Kumar, a resident of Panchkula, ...     theft  \n",
      "                                               hindi  \\\n",
      "0  मिर्ज़ापुर में नव विवाहिता की गला दबाकर हत्या, ...   \n",
      "1  हरियाणा के बाउंसरों ने टोल कर्मी को मार डाला, ...   \n",
      "2  मासूम आदर्श उपाध्याय (5) पुत्र संजय उपाध्याय अ...   \n",
      "3  आज दिनांक 13.03.2023 को समय करीब 5.00 एएम पर ख...   \n",
      "4  आज दिनांक 19.03.2023 को समय करीब 7.15 बजे सांय...   \n",
      "\n",
      "                                           complaint  category  \n",
      "0  Newly married woman strangled to death in Mirz...    murder  \n",
      "1  Haryana's bouncers killed toll worker, Brijbhu...    murder  \n",
      "2  Innocent Adarsh ​​Upadhyay (5) son Sanjay Upad...      rape  \n",
      "3  Today, on 13.03.2023 at around 5.00 AM, the Vo...  accident  \n",
      "4  Today, on 19.03.2023, at around 7.15 pm, on Ji...  accident  \n"
     ]
    }
   ],
   "source": [
    "translated_data= pd.read_csv(\"translated data.csv\")\n",
    "translated_test = pd.read_csv(\"translated test.csv\")\n",
    "\n",
    "\n",
    "df['complaint'] = translated_data['complaint']\n",
    "test['complaint'] = translated_test['complaint']\n",
    "\n",
    "print(df.head())\n",
    "print(test.head()) "
   ]
  },
  {
   "cell_type": "markdown",
   "metadata": {},
   "source": [
    "https://www.projectpro.io/recipes/do-text-classification"
   ]
  },
  {
   "cell_type": "code",
   "execution_count": 238,
   "metadata": {},
   "outputs": [],
   "source": [
    "import pandas as pd\n",
    "from sklearn.model_selection import train_test_split\n",
    "from sklearn.feature_extraction.text import CountVectorizer\n",
    "from sklearn.naive_bayes import MultinomialNB\n",
    "from sklearn.metrics import accuracy_score, precision_score, recall_score"
   ]
  },
  {
   "cell_type": "code",
   "execution_count": 239,
   "metadata": {},
   "outputs": [
    {
     "data": {
      "text/html": [
       "<div>\n",
       "<style scoped>\n",
       "    .dataframe tbody tr th:only-of-type {\n",
       "        vertical-align: middle;\n",
       "    }\n",
       "\n",
       "    .dataframe tbody tr th {\n",
       "        vertical-align: top;\n",
       "    }\n",
       "\n",
       "    .dataframe thead th {\n",
       "        text-align: right;\n",
       "    }\n",
       "</style>\n",
       "<table border=\"1\" class=\"dataframe\">\n",
       "  <thead>\n",
       "    <tr style=\"text-align: right;\">\n",
       "      <th></th>\n",
       "      <th>hindi</th>\n",
       "      <th>complaint</th>\n",
       "      <th>category</th>\n",
       "    </tr>\n",
       "  </thead>\n",
       "  <tbody>\n",
       "    <tr>\n",
       "      <th>0</th>\n",
       "      <td>गांव भालौठ (रोहतक) के पास एक कार को ट्रक ने पी...</td>\n",
       "      <td>A car was hit from behind by a truck near vill...</td>\n",
       "      <td>accident</td>\n",
       "    </tr>\n",
       "    <tr>\n",
       "      <th>1</th>\n",
       "      <td>व्यक्ति ने बताया वह साइकिल पर घर जा रहा था कि ...</td>\n",
       "      <td>The person told that he was going home on a bi...</td>\n",
       "      <td>accident</td>\n",
       "    </tr>\n",
       "    <tr>\n",
       "      <th>2</th>\n",
       "      <td>पंचकूला में कर्जे से परेशान हो क्र एक आदमी ने ...</td>\n",
       "      <td>Troubled by debt, a man along with his friend ...</td>\n",
       "      <td>theft</td>\n",
       "    </tr>\n",
       "    <tr>\n",
       "      <th>3</th>\n",
       "      <td>बच्ची की मां ने बताया कि उसकी बेटा के एक सहपाठ...</td>\n",
       "      <td>The girl's mother told that a classmate of her...</td>\n",
       "      <td>rape</td>\n",
       "    </tr>\n",
       "    <tr>\n",
       "      <th>4</th>\n",
       "      <td>पंचकुला का रहना वाला आरोपी पवन कुमार, (जो वर्त...</td>\n",
       "      <td>Accused Pawan Kumar, a resident of Panchkula, ...</td>\n",
       "      <td>theft</td>\n",
       "    </tr>\n",
       "  </tbody>\n",
       "</table>\n",
       "</div>"
      ],
      "text/plain": [
       "                                               hindi  \\\n",
       "0  गांव भालौठ (रोहतक) के पास एक कार को ट्रक ने पी...   \n",
       "1  व्यक्ति ने बताया वह साइकिल पर घर जा रहा था कि ...   \n",
       "2  पंचकूला में कर्जे से परेशान हो क्र एक आदमी ने ...   \n",
       "3  बच्ची की मां ने बताया कि उसकी बेटा के एक सहपाठ...   \n",
       "4  पंचकुला का रहना वाला आरोपी पवन कुमार, (जो वर्त...   \n",
       "\n",
       "                                           complaint  category  \n",
       "0  A car was hit from behind by a truck near vill...  accident  \n",
       "1  The person told that he was going home on a bi...  accident  \n",
       "2  Troubled by debt, a man along with his friend ...     theft  \n",
       "3  The girl's mother told that a classmate of her...      rape  \n",
       "4  Accused Pawan Kumar, a resident of Panchkula, ...     theft  "
      ]
     },
     "execution_count": 239,
     "metadata": {},
     "output_type": "execute_result"
    }
   ],
   "source": [
    "# df= pd.read_csv('complaint with manual labels.csv')\n",
    "df.head()"
   ]
  },
  {
   "cell_type": "code",
   "execution_count": 240,
   "metadata": {},
   "outputs": [],
   "source": [
    "df['category'] = df.category.map({'rape': 3, 'murder': 2, 'accident':1, 'theft':0})\n",
    "test['category'] = test.category.map({'rape': 3, 'murder': 2, 'accident':1, 'theft':0})\n"
   ]
  },
  {
   "cell_type": "code",
   "execution_count": 241,
   "metadata": {},
   "outputs": [
    {
     "name": "stdout",
     "output_type": "stream",
     "text": [
      "                                               hindi  \\\n",
      "0  गांव भालौठ (रोहतक) के पास एक कार को ट्रक ने पी...   \n",
      "1  व्यक्ति ने बताया वह साइकिल पर घर जा रहा था कि ...   \n",
      "2  पंचकूला में कर्जे से परेशान हो क्र एक आदमी ने ...   \n",
      "3  बच्ची की मां ने बताया कि उसकी बेटा के एक सहपाठ...   \n",
      "4  पंचकुला का रहना वाला आरोपी पवन कुमार, (जो वर्त...   \n",
      "\n",
      "                                           complaint  category  \n",
      "0  A car was hit from behind by a truck near vill...         1  \n",
      "1  The person told that he was going home on a bi...         1  \n",
      "2  Troubled by debt, a man along with his friend ...         0  \n",
      "3  The girl's mother told that a classmate of her...         3  \n",
      "4  Accused Pawan Kumar, a resident of Panchkula, ...         0  \n"
     ]
    },
    {
     "data": {
      "text/html": [
       "<div>\n",
       "<style scoped>\n",
       "    .dataframe tbody tr th:only-of-type {\n",
       "        vertical-align: middle;\n",
       "    }\n",
       "\n",
       "    .dataframe tbody tr th {\n",
       "        vertical-align: top;\n",
       "    }\n",
       "\n",
       "    .dataframe thead th {\n",
       "        text-align: right;\n",
       "    }\n",
       "</style>\n",
       "<table border=\"1\" class=\"dataframe\">\n",
       "  <thead>\n",
       "    <tr style=\"text-align: right;\">\n",
       "      <th></th>\n",
       "      <th>hindi</th>\n",
       "      <th>complaint</th>\n",
       "      <th>category</th>\n",
       "    </tr>\n",
       "  </thead>\n",
       "  <tbody>\n",
       "    <tr>\n",
       "      <th>347</th>\n",
       "      <td>गांव खरकडा (हांसी) से एक क्रूजर गाड़ी जिसमें 6...</td>\n",
       "      <td>A cruiser vehicle carrying 6 persons from vill...</td>\n",
       "      <td>1</td>\n",
       "    </tr>\n",
       "    <tr>\n",
       "      <th>348</th>\n",
       "      <td>शनिवार देर शाम को सेक्टर 14 में रहने वाले बजे ...</td>\n",
       "      <td>Singh, a resident of Sector 14, died on Saturd...</td>\n",
       "      <td>2</td>\n",
       "    </tr>\n",
       "    <tr>\n",
       "      <th>349</th>\n",
       "      <td>मुकेश वासी चरखी दादरी अपनी पत्नी व बेटे के साथ...</td>\n",
       "      <td>Mukesh resident of Charkhi Dadri along with hi...</td>\n",
       "      <td>1</td>\n",
       "    </tr>\n",
       "    <tr>\n",
       "      <th>350</th>\n",
       "      <td>लड़की के परिवारवालों का कहना है कि आरोपी की भाभ...</td>\n",
       "      <td>The family members of the girl say that the si...</td>\n",
       "      <td>3</td>\n",
       "    </tr>\n",
       "    <tr>\n",
       "      <th>351</th>\n",
       "      <td>हरियाणा में सोनीपत के गोहाना में एक छात्रा के ...</td>\n",
       "      <td>Gangrape case with a girl student in Gohana, S...</td>\n",
       "      <td>3</td>\n",
       "    </tr>\n",
       "  </tbody>\n",
       "</table>\n",
       "</div>"
      ],
      "text/plain": [
       "                                                 hindi  \\\n",
       "347  गांव खरकडा (हांसी) से एक क्रूजर गाड़ी जिसमें 6...   \n",
       "348  शनिवार देर शाम को सेक्टर 14 में रहने वाले बजे ...   \n",
       "349  मुकेश वासी चरखी दादरी अपनी पत्नी व बेटे के साथ...   \n",
       "350  लड़की के परिवारवालों का कहना है कि आरोपी की भाभ...   \n",
       "351  हरियाणा में सोनीपत के गोहाना में एक छात्रा के ...   \n",
       "\n",
       "                                             complaint  category  \n",
       "347  A cruiser vehicle carrying 6 persons from vill...         1  \n",
       "348  Singh, a resident of Sector 14, died on Saturd...         2  \n",
       "349  Mukesh resident of Charkhi Dadri along with hi...         1  \n",
       "350  The family members of the girl say that the si...         3  \n",
       "351  Gangrape case with a girl student in Gohana, S...         3  "
      ]
     },
     "execution_count": 241,
     "metadata": {},
     "output_type": "execute_result"
    }
   ],
   "source": [
    "print(df.head())\n",
    "df.tail()"
   ]
  },
  {
   "cell_type": "code",
   "execution_count": 242,
   "metadata": {},
   "outputs": [],
   "source": [
    "X_train, X_val, y_train, y_val = train_test_split(df['complaint'], df['category'], random_state=1)\n",
    "vectorizer = CountVectorizer(strip_accents='ascii', token_pattern=u'(?ui)\\\\b\\\\w*[a-z]+\\\\w*\\\\b', lowercase=True, stop_words='english')\n",
    "X_train_cv = vectorizer.fit_transform(X_train)\n",
    "X_val_cv = vectorizer.transform(X_val)"
   ]
  },
  {
   "cell_type": "code",
   "execution_count": 243,
   "metadata": {},
   "outputs": [
    {
     "name": "stdout",
     "output_type": "stream",
     "text": [
      "     10a  152d  16th  22nd  29th  aadhaar  abducted  abducting  absconded  \\\n",
      "0      0     0     0     0     0        0         0          0          0   \n",
      "1      0     0     0     0     0        0         0          0          0   \n",
      "2      0     0     0     0     0        0         0          0          0   \n",
      "3      0     0     0     0     0        0         0          0          0   \n",
      "4      0     0     0     0     0        0         0          0          0   \n",
      "..   ...   ...   ...   ...   ...      ...       ...        ...        ...   \n",
      "259    0     0     0     0     0        0         0          0          0   \n",
      "260    0     0     0     0     0        0         0          0          0   \n",
      "261    0     0     0     0     0        0         0          0          0   \n",
      "262    0     0     0     0     0        0         0          0          0   \n",
      "263    0     0     0     0     0        0         0          0          0   \n",
      "\n",
      "     absconding  ...  years  yes  yesterday  ymca  young  younger  youth  \\\n",
      "0             0  ...      0    0          0     0      0        0      0   \n",
      "1             0  ...      0    0          0     0      0        0      0   \n",
      "2             0  ...      0    0          0     0      0        0      0   \n",
      "3             0  ...      0    0          0     0      0        0      0   \n",
      "4             0  ...      0    0          0     0      0        0      0   \n",
      "..          ...  ...    ...  ...        ...   ...    ...      ...    ...   \n",
      "259           0  ...      0    0          0     0      0        0      0   \n",
      "260           0  ...      0    0          0     0      0        0      0   \n",
      "261           0  ...      0    0          0     0      0        0      0   \n",
      "262           0  ...      0    0          0     0      1        0      0   \n",
      "263           0  ...      0    0          0     0      1        0      0   \n",
      "\n",
      "     youths  youtube  zaid  \n",
      "0         0        0     0  \n",
      "1         0        0     0  \n",
      "2         0        0     0  \n",
      "3         0        0     0  \n",
      "4         0        0     0  \n",
      "..      ...      ...   ...  \n",
      "259       0        0     0  \n",
      "260       0        0     0  \n",
      "261       0        0     0  \n",
      "262       0        0     0  \n",
      "263       0        0     0  \n",
      "\n",
      "[264 rows x 1769 columns] \n",
      "\n",
      "\n",
      "top words:                0\n",
      "girl         80\n",
      "haryana      80\n",
      "s            79\n",
      "woman        71\n",
      "police       69\n",
      "...          ..\n",
      "insistence    1\n",
      "insecticide   1\n",
      "inquired      1\n",
      "injection     1\n",
      "zaid          1\n",
      "\n",
      "[1769 rows x 1 columns]\n"
     ]
    }
   ],
   "source": [
    "Word_frequency = pd.DataFrame(X_train_cv.toarray(), columns=vectorizer.get_feature_names_out())\n",
    "top_words = pd.DataFrame(Word_frequency.sum()).sort_values(0, ascending=False)\n",
    "print(Word_frequency, '\\n\\n')\n",
    "print(\"top words: \",top_words)"
   ]
  },
  {
   "cell_type": "code",
   "execution_count": 244,
   "metadata": {},
   "outputs": [],
   "source": [
    "naive_bayes = MultinomialNB()\n",
    "naive_bayes.fit(X_train_cv, y_train)\n",
    "predictions = naive_bayes.predict(X_val_cv)"
   ]
  },
  {
   "cell_type": "code",
   "execution_count": 245,
   "metadata": {},
   "outputs": [
    {
     "name": "stdout",
     "output_type": "stream",
     "text": [
      "Accuracy score for complaint Reviews model is:  0.9204545454545454 \n",
      "\n"
     ]
    }
   ],
   "source": [
    "print('Accuracy score for complaint Reviews model is: ', accuracy_score(y_val, predictions), '\\n')"
   ]
  },
  {
   "cell_type": "code",
   "execution_count": 246,
   "metadata": {},
   "outputs": [
    {
     "name": "stdout",
     "output_type": "stream",
     "text": [
      "                                               hindi  \\\n",
      "0  मिर्ज़ापुर में नव विवाहिता की गला दबाकर हत्या, ...   \n",
      "1  हरियाणा के बाउंसरों ने टोल कर्मी को मार डाला, ...   \n",
      "2  मासूम आदर्श उपाध्याय (5) पुत्र संजय उपाध्याय अ...   \n",
      "3  आज दिनांक 13.03.2023 को समय करीब 5.00 एएम पर ख...   \n",
      "4  आज दिनांक 19.03.2023 को समय करीब 7.15 बजे सांय...   \n",
      "\n",
      "                                           complaint  category  \n",
      "0  Newly married woman strangled to death in Mirz...         2  \n",
      "1  Haryana's bouncers killed toll worker, Brijbhu...         2  \n",
      "2  Innocent Adarsh ​​Upadhyay (5) son Sanjay Upad...         3  \n",
      "3  Today, on 13.03.2023 at around 5.00 AM, the Vo...         1  \n",
      "4  Today, on 19.03.2023, at around 7.15 pm, on Ji...         1  \n"
     ]
    }
   ],
   "source": [
    "# testing on unseen data\n",
    "# test= pd.read_csv('testdata.csv')\n",
    "print(test.head())\n"
   ]
  },
  {
   "cell_type": "code",
   "execution_count": 247,
   "metadata": {},
   "outputs": [
    {
     "name": "stdout",
     "output_type": "stream",
     "text": [
      "[2 2 2 1 1 0 3 2 1 0 3 0 0 2 1 3 1 1 3 3 1 1 3 1 3 0 0 1 2 0 2 0 3 1 2 0 0\n",
      " 0 1 1 0 1 0 0 2 3 3]\n"
     ]
    }
   ],
   "source": [
    "test_complaint= vectorizer.transform(test['complaint'])\n",
    "test_predictions = naive_bayes.predict(test_complaint)\n",
    "print(test_predictions)\n"
   ]
  },
  {
   "cell_type": "code",
   "execution_count": 248,
   "metadata": {},
   "outputs": [
    {
     "name": "stdout",
     "output_type": "stream",
     "text": [
      "Accuracy score for complaint Reviews model is:  0.851063829787234 \n",
      "\n"
     ]
    }
   ],
   "source": [
    "print('Accuracy score for complaint Reviews model is: ', accuracy_score(test['category'], test_predictions), '\\n')\n"
   ]
  },
  {
   "cell_type": "markdown",
   "metadata": {},
   "source": [
    "https://www.projectpro.io/article/10-nlp-techniques-every-data-scientist-should-know/415"
   ]
  },
  {
   "cell_type": "code",
   "execution_count": 249,
   "metadata": {},
   "outputs": [],
   "source": [
    "from nltk.tokenize import word_tokenize\n",
    "from nltk.stem import WordNetLemmatizer\n",
    "import pandas as pd"
   ]
  },
  {
   "cell_type": "code",
   "execution_count": 250,
   "metadata": {},
   "outputs": [
    {
     "data": {
      "text/html": [
       "<div>\n",
       "<style scoped>\n",
       "    .dataframe tbody tr th:only-of-type {\n",
       "        vertical-align: middle;\n",
       "    }\n",
       "\n",
       "    .dataframe tbody tr th {\n",
       "        vertical-align: top;\n",
       "    }\n",
       "\n",
       "    .dataframe thead th {\n",
       "        text-align: right;\n",
       "    }\n",
       "</style>\n",
       "<table border=\"1\" class=\"dataframe\">\n",
       "  <thead>\n",
       "    <tr style=\"text-align: right;\">\n",
       "      <th></th>\n",
       "      <th>hindi</th>\n",
       "      <th>complaint</th>\n",
       "      <th>category</th>\n",
       "    </tr>\n",
       "  </thead>\n",
       "  <tbody>\n",
       "    <tr>\n",
       "      <th>0</th>\n",
       "      <td>गांव भालौठ (रोहतक) के पास एक कार को ट्रक ने पी...</td>\n",
       "      <td>A car was hit from behind by a truck near vill...</td>\n",
       "      <td>1</td>\n",
       "    </tr>\n",
       "    <tr>\n",
       "      <th>1</th>\n",
       "      <td>व्यक्ति ने बताया वह साइकिल पर घर जा रहा था कि ...</td>\n",
       "      <td>The person told that he was going home on a bi...</td>\n",
       "      <td>1</td>\n",
       "    </tr>\n",
       "    <tr>\n",
       "      <th>2</th>\n",
       "      <td>पंचकूला में कर्जे से परेशान हो क्र एक आदमी ने ...</td>\n",
       "      <td>Troubled by debt, a man along with his friend ...</td>\n",
       "      <td>0</td>\n",
       "    </tr>\n",
       "    <tr>\n",
       "      <th>3</th>\n",
       "      <td>बच्ची की मां ने बताया कि उसकी बेटा के एक सहपाठ...</td>\n",
       "      <td>The girl's mother told that a classmate of her...</td>\n",
       "      <td>3</td>\n",
       "    </tr>\n",
       "    <tr>\n",
       "      <th>4</th>\n",
       "      <td>पंचकुला का रहना वाला आरोपी पवन कुमार, (जो वर्त...</td>\n",
       "      <td>Accused Pawan Kumar, a resident of Panchkula, ...</td>\n",
       "      <td>0</td>\n",
       "    </tr>\n",
       "  </tbody>\n",
       "</table>\n",
       "</div>"
      ],
      "text/plain": [
       "                                               hindi  \\\n",
       "0  गांव भालौठ (रोहतक) के पास एक कार को ट्रक ने पी...   \n",
       "1  व्यक्ति ने बताया वह साइकिल पर घर जा रहा था कि ...   \n",
       "2  पंचकूला में कर्जे से परेशान हो क्र एक आदमी ने ...   \n",
       "3  बच्ची की मां ने बताया कि उसकी बेटा के एक सहपाठ...   \n",
       "4  पंचकुला का रहना वाला आरोपी पवन कुमार, (जो वर्त...   \n",
       "\n",
       "                                           complaint  category  \n",
       "0  A car was hit from behind by a truck near vill...         1  \n",
       "1  The person told that he was going home on a bi...         1  \n",
       "2  Troubled by debt, a man along with his friend ...         0  \n",
       "3  The girl's mother told that a classmate of her...         3  \n",
       "4  Accused Pawan Kumar, a resident of Panchkula, ...         0  "
      ]
     },
     "execution_count": 250,
     "metadata": {},
     "output_type": "execute_result"
    }
   ],
   "source": [
    "# df= pd.read_csv('complaint with manual labels.csv')\n",
    "df.head()"
   ]
  },
  {
   "cell_type": "code",
   "execution_count": 251,
   "metadata": {},
   "outputs": [
    {
     "name": "stdout",
     "output_type": "stream",
     "text": [
      "['A', 'car', 'was', 'hit', 'from', 'behind', 'by', 'a', 'truck', 'near', 'village', 'Bhalauth', '(', 'Rohtak', ')', '.', 'In', 'which', 'both', 'the', 'people', 'in', 'the', 'car', 'died', 'on', 'the', 'spot', '.']\n"
     ]
    }
   ],
   "source": [
    "tokenized=[]\n",
    "for complaint in df['complaint']:\n",
    "    tokenized.append(word_tokenize(complaint))\n",
    "print(tokenized[0])\n"
   ]
  },
  {
   "cell_type": "code",
   "execution_count": 252,
   "metadata": {},
   "outputs": [],
   "source": [
    "import re\n",
    "\n",
    "def clean_string(text):\n",
    "    cleaned_text = re.sub(r\"\\\\n\", \"\", text) #to remove new line characters\n",
    "    cleaned_text = re.sub(r\"[^A-Za-z]\", \" \", cleaned_text) #to remove non alphabets\n",
    "    cleaned_text= cleaned_text.strip().lower() #to convert into lower case\n",
    "    return cleaned_text"
   ]
  },
  {
   "cell_type": "code",
   "execution_count": 253,
   "metadata": {},
   "outputs": [
    {
     "name": "stdout",
     "output_type": "stream",
     "text": [
      "a car was hit from behind by a truck near village bhalauth  rohtak   in which both the people in the car died on the spot\n"
     ]
    }
   ],
   "source": [
    "cleaned_text=[]\n",
    "for complaint in df['complaint']:\n",
    "    cleaned_text.append(clean_string(complaint))\n",
    "print(cleaned_text[0])"
   ]
  },
  {
   "cell_type": "code",
   "execution_count": 254,
   "metadata": {},
   "outputs": [
    {
     "name": "stdout",
     "output_type": "stream",
     "text": [
      "['a', 'car', 'was', 'hit', 'from', 'behind', 'by', 'a', 'truck', 'near', 'village', 'bhalauth', 'rohtak', 'in', 'which', 'both', 'the', 'people', 'in', 'the', 'car', 'died', 'on', 'the', 'spot']\n"
     ]
    }
   ],
   "source": [
    "tokenized=[]\n",
    "for complaint in cleaned_text:\n",
    "    tokenized.append(word_tokenize(complaint))\n",
    "print(tokenized[0])"
   ]
  },
  {
   "cell_type": "code",
   "execution_count": null,
   "metadata": {},
   "outputs": [],
   "source": [
    "pip install spacy\n"
   ]
  },
  {
   "cell_type": "code",
   "execution_count": null,
   "metadata": {},
   "outputs": [],
   "source": [
    "!python -m spacy download en_core_web_sm"
   ]
  },
  {
   "cell_type": "code",
   "execution_count": 187,
   "metadata": {},
   "outputs": [],
   "source": [
    "import spacy\n",
    "\n",
    "nlp = spacy.load('en_core_web_sm')\n"
   ]
  },
  {
   "cell_type": "code",
   "execution_count": 255,
   "metadata": {},
   "outputs": [
    {
     "name": "stdout",
     "output_type": "stream",
     "text": [
      "['a', 'car', 'be', 'hit', 'from', 'behind', 'by', 'a', 'truck', 'near', 'village', 'bhalauth', 'rohtak', 'in', 'which', 'both', 'the', 'people', 'in', 'the', 'car', 'die', 'on', 'the', 'spot']\n"
     ]
    }
   ],
   "source": [
    "lemmatized=[]\n",
    "for complaint in tokenized:\n",
    "    c=[]\n",
    "    for word in complaint:\n",
    "        doc= nlp(word)\n",
    "        for token in doc:\n",
    "            c.append(token.lemma_)\n",
    "    lemmatized.append(c)\n",
    "print(lemmatized[0])\n"
   ]
  },
  {
   "cell_type": "code",
   "execution_count": 256,
   "metadata": {},
   "outputs": [
    {
     "name": "stdout",
     "output_type": "stream",
     "text": [
      "326\n",
      "['whatever', 'further', \"'d\", 'latter', 'because', 'five', 'used', 'do', 'both', 'get', 'on', 'say', 'anyway', 'make', 'were', 'everywhere', 'most', 'her', 'others', 'now', 'upon', 'might', 'really', 'all', 'throughout', 'via', 'of', 'there', 'several', 'nevertheless', 'he', 'keep', 'sometimes', 'somehow', 'then', 'ca', 'full', 'nothing', 'fifteen', 'hereafter', 'whereas', 'or', 'even', 'many', 'whenever', 'up', 'well', 'for', 'thence', 'will', 'hence', 'each', 'but', 'few', 'have', 'done', 'once', 'empty', 'twenty', 'wherein', 'eleven', 'behind', 'below', 'an', 'they', '‘ve', 'whole', 'this', 'still', 'wherever', 'thru', 'becoming', 'yet', 'we', 'third', 'it', 'less', '‘d', 'any', 'be', 'elsewhere', 'latterly', 'anyhow', 'does', 'onto', '’re', 'alone', 'though', 'whom', 'those', 'and', 'four', 'at', 'being', 'ever', 'none', 'part', 'has', 'afterwards', 'due']\n"
     ]
    }
   ],
   "source": [
    "from spacy.lang.en.stop_words import STOP_WORDS\n",
    "stop_words= list(STOP_WORDS)\n",
    "print(len(stop_words))\n",
    "print(stop_words[:100])\n"
   ]
  },
  {
   "cell_type": "code",
   "execution_count": 257,
   "metadata": {},
   "outputs": [
    {
     "name": "stdout",
     "output_type": "stream",
     "text": [
      "['car', 'hit', 'truck', 'near', 'village', 'bhalauth', 'rohtak', 'people', 'car', 'die', 'spot']\n"
     ]
    }
   ],
   "source": [
    "stop_words_removed=[]\n",
    "for complaint in lemmatized:\n",
    "    c=[]\n",
    "    for word in complaint:\n",
    "        if word not in stop_words:\n",
    "            c.append(word)\n",
    "    stop_words_removed.append(c)\n",
    "print(stop_words_removed[0])"
   ]
  },
  {
   "cell_type": "code",
   "execution_count": 258,
   "metadata": {},
   "outputs": [],
   "source": [
    "from sklearn.feature_extraction.text import TfidfVectorizer\n",
    "vectorizer = TfidfVectorizer()\n",
    "X = vectorizer.fit_transform(df['complaint'])"
   ]
  },
  {
   "cell_type": "code",
   "execution_count": 259,
   "metadata": {},
   "outputs": [
    {
     "name": "stdout",
     "output_type": "stream",
     "text": [
      "A car was hit from behind by a truck near village Bhalauth (Rohtak). In which both the people in the car died on the spot.\n"
     ]
    }
   ],
   "source": [
    "print(df['complaint'][0])"
   ]
  },
  {
   "cell_type": "code",
   "execution_count": 260,
   "metadata": {},
   "outputs": [
    {
     "name": "stdout",
     "output_type": "stream",
     "text": [
      "              TF-IDF\n",
      "car         0.420364\n",
      "bhalauth    0.395230\n",
      "behind      0.286088\n",
      "truck       0.262099\n",
      "both        0.247813\n",
      "rohtak      0.238865\n",
      "the         0.222037\n",
      "spot        0.213841\n",
      "hit         0.205057\n",
      "people      0.193112\n",
      "near        0.189150\n",
      "which       0.186639\n",
      "village     0.177478\n",
      "died        0.174354\n",
      "in          0.150594\n",
      "from        0.148735\n",
      "by          0.146067\n",
      "on          0.112326\n",
      "was         0.111559\n",
      "pen         0.000000\n",
      "pilgrimage  0.000000\n",
      "pictures    0.000000\n",
      "pickup      0.000000\n",
      "pick        0.000000\n",
      "photos      0.000000\n"
     ]
    }
   ],
   "source": [
    "tf= pd.DataFrame(X[0].T.todense(), index=vectorizer.get_feature_names_out(), columns=[\"TF-IDF\"])\n",
    "tf= tf.sort_values('TF-IDF', ascending=False)\n",
    "print(tf.head(25))\n"
   ]
  },
  {
   "cell_type": "code",
   "execution_count": null,
   "metadata": {},
   "outputs": [],
   "source": [
    "pip install gensim==3.4.0"
   ]
  },
  {
   "cell_type": "code",
   "execution_count": 261,
   "metadata": {},
   "outputs": [],
   "source": [
    "from gensim.summarization import keywords\n",
    "from gensim.summarization.summarizer import summarize\n"
   ]
  },
  {
   "cell_type": "code",
   "execution_count": 262,
   "metadata": {},
   "outputs": [
    {
     "data": {
      "text/plain": [
       "[('delhi', 0.432316536983411),\n",
       " ('vehicles', 0.38992664187029497),\n",
       " ('police', 0.33600724098084955),\n",
       " ('mode', 0.2965639248027598)]"
      ]
     },
     "execution_count": 262,
     "metadata": {},
     "output_type": "execute_result"
    }
   ],
   "source": [
    "complaint_text= df['complaint'][51]\n",
    "keywords(complaint_text, lemmatize=True, scores= True)"
   ]
  },
  {
   "cell_type": "code",
   "execution_count": 155,
   "metadata": {},
   "outputs": [],
   "source": [
    "import gensim.downloader as api\n",
    "\n",
    "wv = api.load('word2vec-google-news-300')"
   ]
  },
  {
   "cell_type": "code",
   "execution_count": 263,
   "metadata": {},
   "outputs": [],
   "source": [
    "model= wv"
   ]
  },
  {
   "cell_type": "code",
   "execution_count": 264,
   "metadata": {},
   "outputs": [
    {
     "name": "stdout",
     "output_type": "stream",
     "text": [
      "0.6510957 0.06271608\n"
     ]
    }
   ],
   "source": [
    "from sklearn.metrics.pairwise import cosine_similarity\n",
    "d1= cosine_similarity(model['king'].reshape(1, -1), model['queen'].reshape(1, -1))[0][0]\n",
    "d2= cosine_similarity(model['king'].reshape(1, -1), model['walked'].reshape(1, -1))[0][0]\n",
    "print(d1, d2)"
   ]
  },
  {
   "cell_type": "code",
   "execution_count": 265,
   "metadata": {},
   "outputs": [
    {
     "name": "stdout",
     "output_type": "stream",
     "text": [
      "[ 1.24457464e-01  2.29220912e-02  2.19862200e-02  5.24359792e-02\n",
      "  2.90934253e-03 -4.16802317e-02  2.72759330e-02 -1.36555985e-01\n",
      "  1.59257680e-01  1.14203557e-01  1.18679471e-01 -9.93923619e-02\n",
      " -1.09781899e-01 -4.60171178e-02 -6.01535365e-02 -2.72352435e-02\n",
      " -9.57217738e-02  8.19227397e-02  3.92795131e-02 -4.18701172e-02\n",
      " -1.82562936e-02 -2.49159075e-02 -8.00645649e-02 -1.09015573e-02\n",
      "  1.29743785e-01 -1.46430120e-01 -8.74294713e-02  9.44010392e-02\n",
      "  1.56222880e-01 -1.12820096e-01 -8.01730677e-02  3.01649310e-02\n",
      " -7.16688335e-02 -5.64236101e-03 -7.49715194e-02 -2.15352383e-02\n",
      "  9.58387554e-02 -2.58992519e-02 -8.14954937e-02  4.68343087e-02\n",
      " -1.06743705e-02 -7.09906667e-02  1.29692927e-01 -3.23215052e-02\n",
      " -1.41760930e-01 -2.77167428e-02 -6.19269460e-02  1.32242842e-02\n",
      "  9.08610001e-02  2.24619973e-02 -7.48155415e-02  1.60427511e-01\n",
      "  1.57931864e-01 -3.38541679e-02 -8.87044296e-02 -8.77278671e-02\n",
      " -1.30242240e-02  1.27939865e-01  3.75094935e-02 -5.24902344e-02\n",
      "  4.78108712e-02 -3.89404297e-02 -1.72932938e-01 -1.38617624e-02\n",
      " -8.38216115e-03  9.80089009e-02  1.68999564e-02 -5.99500863e-03\n",
      " -3.37185338e-02  9.26784948e-02  2.31361389e-03  1.26647949e-02\n",
      "  4.51219343e-02  5.41839600e-02 -1.68077260e-01 -2.61230469e-02\n",
      " -8.87925923e-02 -6.86848983e-02  2.71945540e-03 -1.01725258e-04\n",
      "  1.71888560e-01 -3.51291224e-02 -8.81279819e-03  1.25976562e-01\n",
      "  6.39512809e-03 -2.16606986e-02 -8.02951381e-02  5.80681711e-02\n",
      " -3.50341797e-02 -4.61612269e-02  5.68169504e-02  1.90497506e-02\n",
      "  8.76871776e-03 -1.27685547e-01 -9.67746302e-02 -9.38585028e-03\n",
      "  8.30078125e-02 -8.11767578e-02  1.62339956e-01 -8.47676620e-02\n",
      " -9.31803361e-02 -5.31412773e-02  1.51894465e-01  1.44863546e-01\n",
      "  6.77829310e-02 -1.61458328e-01 -7.61990026e-02 -1.55083552e-01\n",
      " -9.65711847e-03 -9.31328684e-02 -1.16210938e-01 -1.04654945e-01\n",
      "  1.39499241e-02 -9.99009907e-02  9.64626744e-02 -1.20361328e-01\n",
      "  3.31285270e-03 -5.84852435e-02 -8.20515975e-02  1.12481013e-01\n",
      " -6.55653179e-02  7.19401017e-02 -7.84776509e-02 -3.25927734e-02\n",
      "  2.34459769e-02  1.05387367e-01 -5.28971374e-04 -1.41343862e-01\n",
      " -3.57360840e-02  1.12575954e-02 -3.97406667e-02 -1.30032003e-01\n",
      "  4.28602425e-03 -4.79329415e-02  2.69639753e-02  3.07820644e-02\n",
      "  4.96148020e-02 -1.64208308e-01  6.93088118e-03  1.27305776e-01\n",
      "  9.22987238e-03 -4.70055491e-02  8.38080496e-02  2.70860456e-02\n",
      " -3.79333496e-02  1.02910362e-01  3.94015834e-02 -2.61874720e-02\n",
      " -1.61037862e-01 -1.75618485e-01  9.85378698e-02  4.01475690e-02\n",
      " -4.22092006e-02  8.74837209e-03 -9.82666016e-03  3.18366140e-02\n",
      " -1.33409292e-01  3.95643450e-02 -7.38389790e-02 -9.35194269e-03\n",
      " -7.64431432e-02  5.67186140e-02  1.49739580e-02 -8.85416642e-02\n",
      " -1.83105469e-03 -6.79253489e-02  1.93888351e-01 -6.99123815e-02\n",
      "  7.92236328e-02 -1.48763016e-01 -1.07594810e-01 -2.55805124e-02\n",
      " -2.74997279e-02 -1.18313260e-01 -8.91723633e-02 -6.43717423e-02\n",
      "  1.02060951e-01 -2.62586810e-02 -1.17255315e-01  1.24321833e-01\n",
      " -8.91164169e-02 -2.43326817e-02 -3.98220494e-02 -3.32709402e-02\n",
      "  1.87700056e-02 -4.71191406e-02  4.54915352e-02  1.30330399e-01\n",
      "  3.17382812e-02  1.66282237e-01  6.87594935e-02  1.13661028e-02\n",
      " -7.33473003e-02  1.32758245e-01 -3.80079485e-02  5.20426445e-02\n",
      "  3.03141270e-02 -5.50130196e-02 -3.95643450e-02  1.20307077e-02\n",
      " -2.30577262e-03 -7.47731552e-02 -1.18150502e-01 -1.06194392e-01\n",
      "  3.29318568e-02 -1.66693792e-01 -3.85606550e-02  1.93820521e-02\n",
      "  8.86976421e-02 -3.91438790e-02  6.01128489e-02 -1.00301104e-02\n",
      " -9.35872421e-02  6.36054128e-02 -1.27020940e-01  2.30984166e-02\n",
      " -5.51757812e-02  5.14729805e-02 -9.32345912e-02 -1.11931693e-02\n",
      " -6.61892369e-02  3.04633249e-02  1.35694712e-01  1.24782987e-03\n",
      "  9.91210938e-02 -5.23139089e-02  6.92274272e-02  6.09741211e-02\n",
      " -1.87242292e-02 -4.25143763e-02  5.18934466e-02 -2.24880651e-02\n",
      " -7.50054270e-02 -9.44010448e-03 -7.81860352e-02 -3.24435756e-02\n",
      " -4.45014089e-02 -4.71191406e-02  1.23491079e-01  2.06163190e-02\n",
      "  1.26505539e-01 -6.32324219e-02 -1.27522781e-01 -1.88788518e-01\n",
      " -4.80821403e-03  3.61853689e-02  8.28043595e-02 -2.82524955e-02\n",
      "  1.11518010e-01 -1.08330622e-01  4.19921875e-02  5.75086810e-02\n",
      "  8.26500803e-02  3.78146693e-02 -2.55805124e-02 -1.75238717e-02\n",
      "  1.01453997e-02  9.19596385e-03 -3.43237966e-02 -1.58345535e-01\n",
      " -4.17955182e-02 -1.26030818e-01  3.53190117e-02  6.60925955e-02\n",
      "  1.16805181e-01  1.75292969e-01 -9.71950963e-02 -2.33459473e-03\n",
      " -1.22178823e-01  4.35791016e-02 -4.55729179e-02 -5.56394793e-02\n",
      "  3.52783203e-02 -1.03895403e-02 -1.34006077e-02 -5.69254570e-02\n",
      " -5.40771484e-02 -1.16427951e-01 -1.54656302e-02 -2.95274518e-02\n",
      " -4.20994237e-02  8.01595021e-03  2.85780169e-02 -1.18323434e-02\n",
      " -2.89984811e-02 -1.32378470e-02 -8.97352397e-02 -2.40224209e-02\n",
      "  7.01904297e-03  1.06906466e-01 -7.27403462e-02  5.16425222e-02\n",
      " -1.61810979e-01 -2.87543405e-02 -4.58984375e-02 -2.24473737e-02\n",
      " -1.84339732e-01  1.53079564e-02  7.32523575e-02 -9.86328125e-02]\n"
     ]
    }
   ],
   "source": [
    "import numpy as np\n",
    "\n",
    "vectors=[]\n",
    "for text in stop_words_removed:\n",
    "    if text!=[] :\n",
    "        temp=[]\n",
    "        for word in text:\n",
    "            try:\n",
    "                temp.append(model[word])\n",
    "            except:\n",
    "                pass\n",
    "        if temp!=[]:\n",
    "            vectors.append(np.average(np.array(temp), axis=0))\n",
    "        else:\n",
    "            vectors.append(np.zeros(300, dtype= np.float64))\n",
    "    else:\n",
    "        vectors.append(np.zeros(300, dtype= np.float64))\n",
    "\n",
    "\n",
    "print(vectors[0])\n"
   ]
  },
  {
   "cell_type": "code",
   "execution_count": 266,
   "metadata": {},
   "outputs": [
    {
     "data": {
      "text/plain": [
       "(300,)"
      ]
     },
     "execution_count": 266,
     "metadata": {},
     "output_type": "execute_result"
    }
   ],
   "source": [
    "vectors[0].shape"
   ]
  },
  {
   "cell_type": "code",
   "execution_count": 267,
   "metadata": {},
   "outputs": [],
   "source": [
    "from sklearn.model_selection import train_test_split\n",
    "from sklearn.linear_model import LogisticRegression\n",
    "from sklearn.metrics import accuracy_score, precision_score\n"
   ]
  },
  {
   "cell_type": "code",
   "execution_count": 268,
   "metadata": {},
   "outputs": [],
   "source": [
    "X_train, X_val, y_train, y_val = train_test_split(vectors, df['category'], test_size=0.1, random_state=1)\n"
   ]
  },
  {
   "cell_type": "code",
   "execution_count": 269,
   "metadata": {},
   "outputs": [
    {
     "data": {
      "text/html": [
       "<div>\n",
       "<style scoped>\n",
       "    .dataframe tbody tr th:only-of-type {\n",
       "        vertical-align: middle;\n",
       "    }\n",
       "\n",
       "    .dataframe tbody tr th {\n",
       "        vertical-align: top;\n",
       "    }\n",
       "\n",
       "    .dataframe thead th {\n",
       "        text-align: right;\n",
       "    }\n",
       "</style>\n",
       "<table border=\"1\" class=\"dataframe\">\n",
       "  <thead>\n",
       "    <tr style=\"text-align: right;\">\n",
       "      <th></th>\n",
       "      <th>hindi</th>\n",
       "      <th>complaint</th>\n",
       "      <th>category</th>\n",
       "    </tr>\n",
       "  </thead>\n",
       "  <tbody>\n",
       "    <tr>\n",
       "      <th>0</th>\n",
       "      <td>गांव भालौठ (रोहतक) के पास एक कार को ट्रक ने पी...</td>\n",
       "      <td>A car was hit from behind by a truck near vill...</td>\n",
       "      <td>1</td>\n",
       "    </tr>\n",
       "    <tr>\n",
       "      <th>1</th>\n",
       "      <td>व्यक्ति ने बताया वह साइकिल पर घर जा रहा था कि ...</td>\n",
       "      <td>The person told that he was going home on a bi...</td>\n",
       "      <td>1</td>\n",
       "    </tr>\n",
       "    <tr>\n",
       "      <th>2</th>\n",
       "      <td>पंचकूला में कर्जे से परेशान हो क्र एक आदमी ने ...</td>\n",
       "      <td>Troubled by debt, a man along with his friend ...</td>\n",
       "      <td>0</td>\n",
       "    </tr>\n",
       "    <tr>\n",
       "      <th>3</th>\n",
       "      <td>बच्ची की मां ने बताया कि उसकी बेटा के एक सहपाठ...</td>\n",
       "      <td>The girl's mother told that a classmate of her...</td>\n",
       "      <td>3</td>\n",
       "    </tr>\n",
       "    <tr>\n",
       "      <th>4</th>\n",
       "      <td>पंचकुला का रहना वाला आरोपी पवन कुमार, (जो वर्त...</td>\n",
       "      <td>Accused Pawan Kumar, a resident of Panchkula, ...</td>\n",
       "      <td>0</td>\n",
       "    </tr>\n",
       "    <tr>\n",
       "      <th>...</th>\n",
       "      <td>...</td>\n",
       "      <td>...</td>\n",
       "      <td>...</td>\n",
       "    </tr>\n",
       "    <tr>\n",
       "      <th>347</th>\n",
       "      <td>गांव खरकडा (हांसी) से एक क्रूजर गाड़ी जिसमें 6...</td>\n",
       "      <td>A cruiser vehicle carrying 6 persons from vill...</td>\n",
       "      <td>1</td>\n",
       "    </tr>\n",
       "    <tr>\n",
       "      <th>348</th>\n",
       "      <td>शनिवार देर शाम को सेक्टर 14 में रहने वाले बजे ...</td>\n",
       "      <td>Singh, a resident of Sector 14, died on Saturd...</td>\n",
       "      <td>2</td>\n",
       "    </tr>\n",
       "    <tr>\n",
       "      <th>349</th>\n",
       "      <td>मुकेश वासी चरखी दादरी अपनी पत्नी व बेटे के साथ...</td>\n",
       "      <td>Mukesh resident of Charkhi Dadri along with hi...</td>\n",
       "      <td>1</td>\n",
       "    </tr>\n",
       "    <tr>\n",
       "      <th>350</th>\n",
       "      <td>लड़की के परिवारवालों का कहना है कि आरोपी की भाभ...</td>\n",
       "      <td>The family members of the girl say that the si...</td>\n",
       "      <td>3</td>\n",
       "    </tr>\n",
       "    <tr>\n",
       "      <th>351</th>\n",
       "      <td>हरियाणा में सोनीपत के गोहाना में एक छात्रा के ...</td>\n",
       "      <td>Gangrape case with a girl student in Gohana, S...</td>\n",
       "      <td>3</td>\n",
       "    </tr>\n",
       "  </tbody>\n",
       "</table>\n",
       "<p>352 rows × 3 columns</p>\n",
       "</div>"
      ],
      "text/plain": [
       "                                                 hindi  \\\n",
       "0    गांव भालौठ (रोहतक) के पास एक कार को ट्रक ने पी...   \n",
       "1    व्यक्ति ने बताया वह साइकिल पर घर जा रहा था कि ...   \n",
       "2    पंचकूला में कर्जे से परेशान हो क्र एक आदमी ने ...   \n",
       "3    बच्ची की मां ने बताया कि उसकी बेटा के एक सहपाठ...   \n",
       "4    पंचकुला का रहना वाला आरोपी पवन कुमार, (जो वर्त...   \n",
       "..                                                 ...   \n",
       "347  गांव खरकडा (हांसी) से एक क्रूजर गाड़ी जिसमें 6...   \n",
       "348  शनिवार देर शाम को सेक्टर 14 में रहने वाले बजे ...   \n",
       "349  मुकेश वासी चरखी दादरी अपनी पत्नी व बेटे के साथ...   \n",
       "350  लड़की के परिवारवालों का कहना है कि आरोपी की भाभ...   \n",
       "351  हरियाणा में सोनीपत के गोहाना में एक छात्रा के ...   \n",
       "\n",
       "                                             complaint  category  \n",
       "0    A car was hit from behind by a truck near vill...         1  \n",
       "1    The person told that he was going home on a bi...         1  \n",
       "2    Troubled by debt, a man along with his friend ...         0  \n",
       "3    The girl's mother told that a classmate of her...         3  \n",
       "4    Accused Pawan Kumar, a resident of Panchkula, ...         0  \n",
       "..                                                 ...       ...  \n",
       "347  A cruiser vehicle carrying 6 persons from vill...         1  \n",
       "348  Singh, a resident of Sector 14, died on Saturd...         2  \n",
       "349  Mukesh resident of Charkhi Dadri along with hi...         1  \n",
       "350  The family members of the girl say that the si...         3  \n",
       "351  Gangrape case with a girl student in Gohana, S...         3  \n",
       "\n",
       "[352 rows x 3 columns]"
      ]
     },
     "execution_count": 269,
     "metadata": {},
     "output_type": "execute_result"
    }
   ],
   "source": [
    "df"
   ]
  },
  {
   "cell_type": "code",
   "execution_count": 270,
   "metadata": {},
   "outputs": [],
   "source": [
    "clf= LogisticRegression().fit(X_train, y_train)\n",
    "predictions= clf.predict(X_val)\n"
   ]
  },
  {
   "cell_type": "code",
   "execution_count": 271,
   "metadata": {},
   "outputs": [
    {
     "data": {
      "text/plain": [
       "0.9444444444444444"
      ]
     },
     "execution_count": 271,
     "metadata": {},
     "output_type": "execute_result"
    }
   ],
   "source": [
    "accuracy_score(y_val, predictions)"
   ]
  },
  {
   "cell_type": "code",
   "execution_count": 272,
   "metadata": {},
   "outputs": [
    {
     "data": {
      "text/plain": [
       "<AxesSubplot: >"
      ]
     },
     "execution_count": 272,
     "metadata": {},
     "output_type": "execute_result"
    },
    {
     "data": {
      "image/png": "[encoded data removed]",
      "text/plain": [
       "<Figure size 640x480 with 2 Axes>"
      ]
     },
     "metadata": {},
     "output_type": "display_data"
    }
   ],
   "source": [
    "import seaborn as sns\n",
    "from sklearn.metrics import confusion_matrix\n",
    "sns.heatmap(confusion_matrix(y_val, predictions), annot=True, fmt='d')"
   ]
  },
  {
   "cell_type": "code",
   "execution_count": 273,
   "metadata": {},
   "outputs": [
    {
     "name": "stdout",
     "output_type": "stream",
     "text": [
      "                                               hindi  \\\n",
      "0  मिर्ज़ापुर में नव विवाहिता की गला दबाकर हत्या, ...   \n",
      "1  हरियाणा के बाउंसरों ने टोल कर्मी को मार डाला, ...   \n",
      "2  मासूम आदर्श उपाध्याय (5) पुत्र संजय उपाध्याय अ...   \n",
      "3  आज दिनांक 13.03.2023 को समय करीब 5.00 एएम पर ख...   \n",
      "4  आज दिनांक 19.03.2023 को समय करीब 7.15 बजे सांय...   \n",
      "\n",
      "                                           complaint  category  \n",
      "0  Newly married woman strangled to death in Mirz...         2  \n",
      "1  Haryana's bouncers killed toll worker, Brijbhu...         2  \n",
      "2  Innocent Adarsh ​​Upadhyay (5) son Sanjay Upad...         3  \n",
      "3  Today, on 13.03.2023 at around 5.00 AM, the Vo...         1  \n",
      "4  Today, on 19.03.2023, at around 7.15 pm, on Ji...         1  \n"
     ]
    }
   ],
   "source": [
    "# testing on unseen data\n",
    "print(test.head())\n"
   ]
  },
  {
   "cell_type": "code",
   "execution_count": 274,
   "metadata": {},
   "outputs": [
    {
     "name": "stdout",
     "output_type": "stream",
     "text": [
      "[-1.83953926e-01  1.11525550e-01 -1.40004102e-02  1.49628058e-01\n",
      " -7.49157593e-02  4.37919721e-02 -1.02165319e-01 -6.77203909e-02\n",
      " -4.08588946e-02  2.12093405e-02 -6.41096383e-02 -1.07645668e-01\n",
      " -2.16186076e-01  1.44977337e-02 -1.34530529e-01  9.50837284e-02\n",
      "  8.79533589e-02  1.92979604e-01 -2.85644531e-02 -9.55463946e-03\n",
      " -2.66803503e-01 -3.27824727e-02  1.12990111e-01  9.07577667e-03\n",
      " -7.73370042e-02  1.94557682e-02 -2.78531313e-01  5.76341413e-02\n",
      " -4.16048765e-02 -3.54101881e-02  8.69694445e-03  2.49604583e-02\n",
      " -6.50160015e-02 -1.13347560e-01 -1.42034084e-01  9.88678187e-02\n",
      " -2.16588899e-01  1.36158124e-01 -6.61065876e-02  7.68018216e-02\n",
      " -2.13547703e-02 -5.37591614e-02  7.57875815e-02  8.96350220e-02\n",
      "  5.74783497e-02 -4.18601111e-02 -3.17556113e-02 -1.92575708e-01\n",
      " -9.95837525e-02  8.79938602e-02 -1.69055328e-01  2.43946210e-01\n",
      " -2.62918361e-02  2.38942847e-01  5.66742271e-02  1.21809594e-01\n",
      " -1.66636527e-01 -1.00949228e-01  4.94610844e-03 -1.72088996e-01\n",
      " -1.42061770e-01 -5.62902391e-02 -1.92671031e-01 -5.17716706e-02\n",
      " -5.15621789e-02 -2.18089923e-01 -1.01541400e-01  1.10642418e-01\n",
      " -5.66315837e-02  4.42482270e-02  4.41698618e-02 -5.91619052e-02\n",
      "  2.95240618e-02 -1.94187872e-02 -4.27781083e-02 -3.80949788e-02\n",
      "  1.28266513e-01  1.29228756e-02  5.02390927e-03 -8.87820423e-02\n",
      " -1.58588931e-01 -3.02613806e-03 -3.50066759e-02 -2.56691445e-02\n",
      "  1.31912038e-01  7.24321529e-02 -3.39491107e-02  2.47939870e-01\n",
      "  1.51900304e-02  7.27056786e-02  1.66693795e-02  2.16772761e-02\n",
      " -1.76602583e-02 -1.21721432e-01  4.53445986e-02  1.28412321e-01\n",
      " -1.10400118e-01  9.23966765e-02  2.62592822e-01 -3.51381637e-02\n",
      " -8.79237801e-02 -2.82268762e-03 -5.79668209e-02  7.55178183e-03\n",
      " -6.32181019e-02  1.50906026e-01 -7.83277005e-02  5.22012599e-02\n",
      " -1.69933923e-02  2.89592985e-02 -1.30069688e-01 -1.70728147e-01\n",
      " -1.91058870e-02 -4.18814197e-02  6.67117089e-02  1.72813892e-01\n",
      "  8.53777751e-02 -3.68143730e-02 -1.99739430e-02 -4.84337509e-02\n",
      "  1.29698202e-01  8.91459882e-02 -8.99552740e-03  1.31172836e-02\n",
      "  1.32839620e-01 -1.71373159e-01 -1.11907676e-01 -2.06283759e-02\n",
      "  6.89878091e-02  8.91632289e-02 -6.79117814e-02 -2.26240754e-02\n",
      " -7.29464293e-02 -4.50296290e-02 -1.73608094e-01  8.84761140e-02\n",
      " -3.00858114e-02  3.86510789e-02  2.34513640e-01  1.57585055e-01\n",
      "  2.00849369e-01 -7.33351558e-02  4.96185683e-02 -5.63286692e-02\n",
      " -7.83239305e-02 -8.29030275e-02 -5.53310066e-02  1.56684026e-01\n",
      " -4.44351025e-02  1.63276587e-02  7.08286613e-02 -2.93646157e-01\n",
      " -7.15339556e-02 -6.19197898e-02 -1.22596271e-01 -1.03346080e-01\n",
      "  6.89951554e-02  1.76017851e-01 -2.80987769e-02 -1.89860780e-02\n",
      "  2.17699595e-02  1.01342469e-01  8.98535457e-03  2.07594875e-03\n",
      "  5.09384554e-03 -4.14914750e-02  1.60409436e-01  4.61333469e-02\n",
      " -1.17510006e-01  7.73918256e-02 -1.35313064e-01 -8.15233737e-02\n",
      " -4.13543321e-02 -5.54779433e-02 -1.21605014e-02  2.12733895e-01\n",
      "  2.61791080e-01 -2.10370854e-01  2.79940385e-02 -9.23213288e-02\n",
      "  1.37668187e-02  4.64566797e-02  4.33049612e-02 -5.32550588e-02\n",
      " -2.47621890e-02  8.80972743e-02 -4.38149534e-02  8.46301392e-02\n",
      " -4.25648615e-02  2.87770405e-02  1.21370479e-01 -6.21337891e-02\n",
      " -2.44020060e-01 -1.31534534e-02  1.42523870e-01  4.56655994e-02\n",
      " -6.47920221e-02 -1.28652314e-02  6.05199374e-02 -1.15210265e-01\n",
      " -1.03536345e-01  2.70332992e-02 -1.83917761e-01 -1.31908283e-01\n",
      "  4.82403785e-02 -8.87373909e-02 -4.06433865e-02  1.09570161e-01\n",
      " -5.12710400e-02  1.84166431e-01  1.47039726e-01  9.69600007e-02\n",
      " -1.40629515e-01  1.08506945e-04 -9.73879993e-02  1.90154649e-02\n",
      "  1.66197971e-01 -7.95073360e-02 -1.57351643e-01 -2.08122353e-03\n",
      " -1.41141921e-01  1.49551958e-01  8.31283778e-02  1.35867270e-02\n",
      " -1.55775286e-02 -9.40966159e-02  7.10230693e-02  7.87794292e-02\n",
      "  6.73136301e-03 -1.31348789e-01  4.63697650e-02 -3.17786895e-02\n",
      " -8.82064998e-02 -1.24050183e-02  1.73882376e-02  2.73778476e-02\n",
      "  3.26304510e-02  1.12652674e-01  1.00721568e-01  1.11469977e-01\n",
      "  8.16654190e-02  7.94361234e-02  2.76309907e-01 -6.31254241e-02\n",
      " -1.76322851e-02  8.99021477e-02 -1.68994293e-01  1.68601707e-01\n",
      "  2.93774195e-02 -7.59185031e-02  1.03237055e-01  2.60614473e-02\n",
      "  5.74077070e-02  1.09913014e-01 -1.53175639e-02 -1.18441544e-01\n",
      " -4.56866995e-02  6.55803904e-02  5.74495308e-02 -8.54571313e-02\n",
      "  6.30892515e-02 -1.52211366e-02  9.62381214e-02 -3.08042932e-02\n",
      " -8.85710567e-02  1.94841549e-02 -2.74582859e-03  3.77438404e-03\n",
      " -5.15464507e-03 -5.35922572e-02 -7.24475980e-02 -3.09124235e-02\n",
      "  2.24277824e-02  3.81899215e-02  8.25767964e-02 -7.10245743e-02\n",
      " -1.66974097e-01 -1.50800541e-01 -9.89010632e-02  7.83277005e-02\n",
      " -9.99944210e-02  1.59993485e-01  5.99199440e-03  8.74102581e-03\n",
      " -1.69973485e-02  5.91701940e-02 -3.05175781e-05 -2.59487014e-02\n",
      " -5.31857349e-02 -5.47112375e-02  6.27366081e-02  5.01844625e-04\n",
      " -9.15710106e-02  1.00915976e-01 -1.71245057e-02 -1.62639856e-01\n",
      " -1.10319912e-01 -3.48096304e-02 -1.20102115e-01  1.30397469e-01]\n"
     ]
    }
   ],
   "source": [
    "test_complaint= test['complaint']\n",
    "import numpy as np\n",
    "\n",
    "testvectors=[]\n",
    "for text in test_complaint:\n",
    "    if text!=[] :\n",
    "        temp=[]\n",
    "        for word in text:\n",
    "            try:\n",
    "                temp.append(model[word])\n",
    "            except:\n",
    "                pass\n",
    "        if temp!=[]:\n",
    "            testvectors.append(np.average(np.array(temp), axis=0))\n",
    "        else:\n",
    "            testvectors.append(np.zeros(300, dtype= np.float64))\n",
    "    else:\n",
    "        testvectors.append(np.zeros(300, dtype= np.float64))\n",
    "\n",
    "\n",
    "print(testvectors[0])\n",
    "test_predictions= clf.predict(testvectors)"
   ]
  },
  {
   "cell_type": "code",
   "execution_count": 277,
   "metadata": {},
   "outputs": [
    {
     "name": "stdout",
     "output_type": "stream",
     "text": [
      "[2, 2, 3, 1, 1, 0, 0, 2, 1, 0, 3, 0, 0, 2, 1, 3, 1, 1, 0, 3, 0, 0, 3, 1, 3, 0, 0, 1, 2, 0, 2, 0, 3, 1, 2, 0, 0, 0, 2, 1, 0, 1, 0, 2, 2, 3, 3]\n",
      "[0 2 2 0 2 0 2 0 0 0 0 0 0 2 0 0 0 0 0 0 0 0 0 2 0 0 0 0 0 0 0 0 0 2 0 0 2\n",
      " 0 0 0 0 0 0 0 2 0 0]\n"
     ]
    }
   ],
   "source": [
    "print(list(test['category']))\n",
    "print(test_predictions)"
   ]
  },
  {
   "cell_type": "code",
   "execution_count": 278,
   "metadata": {},
   "outputs": [
    {
     "name": "stdout",
     "output_type": "stream",
     "text": [
      "0.3829787234042553\n"
     ]
    }
   ],
   "source": [
    "print(accuracy_score(test['category'], test_predictions))"
   ]
  },
  {
   "cell_type": "code",
   "execution_count": 279,
   "metadata": {},
   "outputs": [],
   "source": [
    "# import random forest classifier, decision tree classifier and accuracy score\n",
    "from sklearn.ensemble import RandomForestClassifier\n",
    "from sklearn.tree import DecisionTreeClassifier\n"
   ]
  },
  {
   "cell_type": "code",
   "execution_count": 280,
   "metadata": {},
   "outputs": [
    {
     "name": "stdout",
     "output_type": "stream",
     "text": [
      "Accuracy score for decision tree model is:  0.6944444444444444 \n",
      "\n"
     ]
    }
   ],
   "source": [
    "# use decision tree classifier\n",
    "dt = DecisionTreeClassifier()\n",
    "dt.fit(X_train, y_train)\n",
    "dt_pred = dt.predict(X_val)\n",
    "print('Accuracy score for decision tree model is: ', accuracy_score(y_val, dt_pred), '\\n')"
   ]
  },
  {
   "cell_type": "code",
   "execution_count": 281,
   "metadata": {},
   "outputs": [
    {
     "data": {
      "text/plain": [
       "<AxesSubplot: >"
      ]
     },
     "execution_count": 281,
     "metadata": {},
     "output_type": "execute_result"
    },
    {
     "data": {
      "image/png": "[encoded data removed]",
      "text/plain": [
       "<Figure size 640x480 with 2 Axes>"
      ]
     },
     "metadata": {},
     "output_type": "display_data"
    }
   ],
   "source": [
    "sns.heatmap(confusion_matrix(y_val, dt_pred), annot=True, fmt='d')"
   ]
  },
  {
   "cell_type": "code",
   "execution_count": 282,
   "metadata": {},
   "outputs": [
    {
     "name": "stdout",
     "output_type": "stream",
     "text": [
      "Accuracy score for random forest model is:  0.9166666666666666 \n",
      "\n"
     ]
    }
   ],
   "source": [
    "rf= RandomForestClassifier()\n",
    "rf.fit(X_train, y_train)\n",
    "rf_pred = rf.predict(X_val)\n",
    "print('Accuracy score for random forest model is: ', accuracy_score(y_val, rf_pred), '\\n')\n"
   ]
  },
  {
   "cell_type": "markdown",
   "metadata": {},
   "source": [
    "https://www.datacamp.com/tutorial/text-classification-python\n"
   ]
  },
  {
   "cell_type": "code",
   "execution_count": 122,
   "metadata": {},
   "outputs": [],
   "source": [
    "# data= pd.read_csv('complaint with manual labels.csv')"
   ]
  },
  {
   "cell_type": "code",
   "execution_count": 283,
   "metadata": {},
   "outputs": [
    {
     "data": {
      "text/plain": [
       "<AxesSubplot: >"
      ]
     },
     "execution_count": 283,
     "metadata": {},
     "output_type": "execute_result"
    },
    {
     "data": {
      "image/png": "[encoded data removed]",
      "text/plain": [
       "<Figure size 640x480 with 1 Axes>"
      ]
     },
     "metadata": {},
     "output_type": "display_data"
    }
   ],
   "source": [
    "# check target balance\n",
    "data= df\n",
    "data['category'].value_counts(normalize = True).plot.bar()"
   ]
  },
  {
   "cell_type": "code",
   "execution_count": 284,
   "metadata": {},
   "outputs": [
    {
     "data": {
      "text/html": [
       "<div>\n",
       "<style scoped>\n",
       "    .dataframe tbody tr th:only-of-type {\n",
       "        vertical-align: middle;\n",
       "    }\n",
       "\n",
       "    .dataframe tbody tr th {\n",
       "        vertical-align: top;\n",
       "    }\n",
       "\n",
       "    .dataframe thead th {\n",
       "        text-align: right;\n",
       "    }\n",
       "</style>\n",
       "<table border=\"1\" class=\"dataframe\">\n",
       "  <thead>\n",
       "    <tr style=\"text-align: right;\">\n",
       "      <th></th>\n",
       "      <th>hindi</th>\n",
       "      <th>complaint</th>\n",
       "      <th>category</th>\n",
       "      <th>text</th>\n",
       "    </tr>\n",
       "  </thead>\n",
       "  <tbody>\n",
       "    <tr>\n",
       "      <th>0</th>\n",
       "      <td>गांव भालौठ (रोहतक) के पास एक कार को ट्रक ने पी...</td>\n",
       "      <td>A car was hit from behind by a truck near vill...</td>\n",
       "      <td>1</td>\n",
       "      <td>car hit behind truck near village bhalauth roh...</td>\n",
       "    </tr>\n",
       "    <tr>\n",
       "      <th>1</th>\n",
       "      <td>व्यक्ति ने बताया वह साइकिल पर घर जा रहा था कि ...</td>\n",
       "      <td>The person told that he was going home on a bi...</td>\n",
       "      <td>1</td>\n",
       "      <td>person told going home bicycle white car came ...</td>\n",
       "    </tr>\n",
       "    <tr>\n",
       "      <th>2</th>\n",
       "      <td>पंचकूला में कर्जे से परेशान हो क्र एक आदमी ने ...</td>\n",
       "      <td>Troubled by debt, a man along with his friend ...</td>\n",
       "      <td>0</td>\n",
       "      <td>troubled debt man along friend looted girlfrie...</td>\n",
       "    </tr>\n",
       "    <tr>\n",
       "      <th>3</th>\n",
       "      <td>बच्ची की मां ने बताया कि उसकी बेटा के एक सहपाठ...</td>\n",
       "      <td>The girl's mother told that a classmate of her...</td>\n",
       "      <td>3</td>\n",
       "      <td>girl mother told classmate son tried rape lunc...</td>\n",
       "    </tr>\n",
       "    <tr>\n",
       "      <th>4</th>\n",
       "      <td>पंचकुला का रहना वाला आरोपी पवन कुमार, (जो वर्त...</td>\n",
       "      <td>Accused Pawan Kumar, a resident of Panchkula, ...</td>\n",
       "      <td>0</td>\n",
       "      <td>accused pawan kumar resident panchkula present...</td>\n",
       "    </tr>\n",
       "  </tbody>\n",
       "</table>\n",
       "</div>"
      ],
      "text/plain": [
       "                                               hindi  \\\n",
       "0  गांव भालौठ (रोहतक) के पास एक कार को ट्रक ने पी...   \n",
       "1  व्यक्ति ने बताया वह साइकिल पर घर जा रहा था कि ...   \n",
       "2  पंचकूला में कर्जे से परेशान हो क्र एक आदमी ने ...   \n",
       "3  बच्ची की मां ने बताया कि उसकी बेटा के एक सहपाठ...   \n",
       "4  पंचकुला का रहना वाला आरोपी पवन कुमार, (जो वर्त...   \n",
       "\n",
       "                                           complaint  category  \\\n",
       "0  A car was hit from behind by a truck near vill...         1   \n",
       "1  The person told that he was going home on a bi...         1   \n",
       "2  Troubled by debt, a man along with his friend ...         0   \n",
       "3  The girl's mother told that a classmate of her...         3   \n",
       "4  Accused Pawan Kumar, a resident of Panchkula, ...         0   \n",
       "\n",
       "                                                text  \n",
       "0  car hit behind truck near village bhalauth roh...  \n",
       "1  person told going home bicycle white car came ...  \n",
       "2  troubled debt man along friend looted girlfrie...  \n",
       "3  girl mother told classmate son tried rape lunc...  \n",
       "4  accused pawan kumar resident panchkula present...  "
      ]
     },
     "execution_count": 284,
     "metadata": {},
     "output_type": "execute_result"
    }
   ],
   "source": [
    "# text preprocessing\n",
    "\n",
    "\n",
    "\n",
    "\n",
    "# download nltk\n",
    "\n",
    "# import nltk\n",
    "\n",
    "# nltk.download('all')\n",
    "\n",
    "\n",
    "\n",
    "\n",
    "# create a list text\n",
    "\n",
    "text = list(data['complaint'])\n",
    "\n",
    "\n",
    "\n",
    "\n",
    "# preprocessing loop\n",
    "\n",
    "import re\n",
    "\n",
    "from nltk.corpus import stopwords\n",
    "\n",
    "from nltk.stem import WordNetLemmatizer\n",
    "\n",
    "lemmatizer = WordNetLemmatizer()\n",
    "\n",
    "\n",
    "\n",
    "\n",
    "corpus = []\n",
    "\n",
    "\n",
    "\n",
    "\n",
    "for i in range(len(text)):\n",
    "\n",
    "    r = re.sub('[^a-zA-Z]', ' ', text[i])\n",
    "\n",
    "    r = r.lower()\n",
    "\n",
    "    r = r.split()\n",
    "\n",
    "    r = [word for word in r if word not in stopwords.words('english')]\n",
    "\n",
    "    r = [lemmatizer.lemmatize(word) for word in r]\n",
    "\n",
    "    r = ' '.join(r)\n",
    "\n",
    "    corpus.append(r)\n",
    "\n",
    "\n",
    "\n",
    "\n",
    "#assign corpus to data['text']\n",
    "\n",
    "data['text'] = corpus\n",
    "\n",
    "data.head()"
   ]
  },
  {
   "cell_type": "code",
   "execution_count": 285,
   "metadata": {},
   "outputs": [
    {
     "name": "stdout",
     "output_type": "stream",
     "text": [
      "Training Data : (316,)\n",
      "Testing Data :  (36,)\n"
     ]
    }
   ],
   "source": [
    "# Create Feature and Label sets\n",
    "\n",
    "X = data['text']\n",
    "\n",
    "y = data['category']\n",
    "\n",
    "\n",
    "\n",
    "\n",
    "# train test split (66% train - 33% test)\n",
    "\n",
    "from sklearn.model_selection import train_test_split\n",
    "\n",
    "X_train, X_val, y_train, y_val = train_test_split(X, y, test_size=0.1, random_state=123)\n",
    "\n",
    "\n",
    "\n",
    "\n",
    "print('Training Data :', X_train.shape)\n",
    "\n",
    "print('Testing Data : ', X_val.shape)"
   ]
  },
  {
   "cell_type": "code",
   "execution_count": 286,
   "metadata": {},
   "outputs": [
    {
     "data": {
      "text/plain": [
       "(316, 1943)"
      ]
     },
     "execution_count": 286,
     "metadata": {},
     "output_type": "execute_result"
    }
   ],
   "source": [
    "# Train Bag of Words model\n",
    "\n",
    "from sklearn.feature_extraction.text import CountVectorizer\n",
    "\n",
    "cv = CountVectorizer()\n",
    "\n",
    "X_train_cv = cv.fit_transform(X_train)\n",
    "\n",
    "X_train_cv.shape"
   ]
  },
  {
   "cell_type": "code",
   "execution_count": 287,
   "metadata": {},
   "outputs": [
    {
     "data": {
      "text/plain": [
       "array([2, 3, 3, 0, 1, 0, 2, 3, 0, 2, 1, 0, 3, 2, 3, 2, 2, 0, 3, 2, 0, 1,\n",
       "       2, 3, 2, 2, 0, 2, 1, 0, 0, 3, 0, 2, 0, 1], dtype=int64)"
      ]
     },
     "execution_count": 287,
     "metadata": {},
     "output_type": "execute_result"
    }
   ],
   "source": [
    "# Training Logistic Regression model\n",
    "\n",
    "from sklearn.linear_model import LogisticRegression\n",
    "\n",
    "lr = LogisticRegression()\n",
    "\n",
    "lr.fit(X_train_cv, y_train)\n",
    "\n",
    "\n",
    "\n",
    "\n",
    "# transform X_test using CV\n",
    "\n",
    "X_val_cv = cv.transform(X_val)\n",
    "\n",
    "\n",
    "\n",
    "\n",
    "# generate predictions\n",
    "\n",
    "predictions = lr.predict(X_val_cv)\n",
    "\n",
    "predictions"
   ]
  },
  {
   "cell_type": "code",
   "execution_count": 288,
   "metadata": {},
   "outputs": [
    {
     "data": {
      "text/html": [
       "<div>\n",
       "<style scoped>\n",
       "    .dataframe tbody tr th:only-of-type {\n",
       "        vertical-align: middle;\n",
       "    }\n",
       "\n",
       "    .dataframe tbody tr th {\n",
       "        vertical-align: top;\n",
       "    }\n",
       "\n",
       "    .dataframe thead th {\n",
       "        text-align: right;\n",
       "    }\n",
       "</style>\n",
       "<table border=\"1\" class=\"dataframe\">\n",
       "  <thead>\n",
       "    <tr style=\"text-align: right;\">\n",
       "      <th></th>\n",
       "      <th>0</th>\n",
       "      <th>1</th>\n",
       "      <th>2</th>\n",
       "      <th>3</th>\n",
       "    </tr>\n",
       "  </thead>\n",
       "  <tbody>\n",
       "    <tr>\n",
       "      <th>0</th>\n",
       "      <td>11</td>\n",
       "      <td>0</td>\n",
       "      <td>0</td>\n",
       "      <td>0</td>\n",
       "    </tr>\n",
       "    <tr>\n",
       "      <th>1</th>\n",
       "      <td>0</td>\n",
       "      <td>5</td>\n",
       "      <td>0</td>\n",
       "      <td>0</td>\n",
       "    </tr>\n",
       "    <tr>\n",
       "      <th>2</th>\n",
       "      <td>0</td>\n",
       "      <td>0</td>\n",
       "      <td>9</td>\n",
       "      <td>1</td>\n",
       "    </tr>\n",
       "    <tr>\n",
       "      <th>3</th>\n",
       "      <td>0</td>\n",
       "      <td>0</td>\n",
       "      <td>3</td>\n",
       "      <td>7</td>\n",
       "    </tr>\n",
       "  </tbody>\n",
       "</table>\n",
       "</div>"
      ],
      "text/plain": [
       "    0  1  2  3\n",
       "0  11  0  0  0\n",
       "1   0  5  0  0\n",
       "2   0  0  9  1\n",
       "3   0  0  3  7"
      ]
     },
     "execution_count": 288,
     "metadata": {},
     "output_type": "execute_result"
    }
   ],
   "source": [
    "# confusion matrix\n",
    "\n",
    "import pandas as pd\n",
    "\n",
    "from sklearn import metrics\n",
    "\n",
    "mat = pd.DataFrame(metrics.confusion_matrix(y_val,predictions))\n",
    "\n",
    "mat"
   ]
  },
  {
   "cell_type": "code",
   "execution_count": 289,
   "metadata": {},
   "outputs": [
    {
     "data": {
      "text/plain": [
       "0.8888888888888888"
      ]
     },
     "execution_count": 289,
     "metadata": {},
     "output_type": "execute_result"
    }
   ],
   "source": [
    "accuracy_score(y_val, predictions)"
   ]
  },
  {
   "cell_type": "code",
   "execution_count": 290,
   "metadata": {},
   "outputs": [
    {
     "name": "stdout",
     "output_type": "stream",
     "text": [
      "[2, 2, 3, 1, 1, 0, 0, 2, 1, 0, 3, 0, 0, 2, 1, 3, 1, 1, 0, 3, 0, 0, 3, 1, 3, 0, 0, 1, 2, 0, 2, 0, 3, 1, 2, 0, 0, 0, 2, 1, 0, 1, 0, 2, 2, 3, 3]\n",
      "[2 2 2 1 1 0 2 2 1 0 3 0 0 2 1 3 1 1 0 3 1 1 3 1 3 1 0 1 2 0 2 0 3 1 2 0 0\n",
      " 0 1 1 0 1 0 0 2 3 3]\n"
     ]
    }
   ],
   "source": [
    "# test on unseen data\n",
    "test_predictions= lr.predict(cv.transform(test['complaint']))\n",
    "print(list(test['category']))\n",
    "print(test_predictions)\n"
   ]
  },
  {
   "cell_type": "code",
   "execution_count": 291,
   "metadata": {},
   "outputs": [
    {
     "data": {
      "text/plain": [
       "0.851063829787234"
      ]
     },
     "execution_count": 291,
     "metadata": {},
     "output_type": "execute_result"
    }
   ],
   "source": [
    "accuracy_score(test['category'], test_predictions)"
   ]
  },
  {
   "cell_type": "markdown",
   "metadata": {},
   "source": [
    "https://stackabuse.com/text-classification-with-python-and-scikit-learn/"
   ]
  },
  {
   "cell_type": "code",
   "execution_count": 292,
   "metadata": {},
   "outputs": [],
   "source": [
    "import numpy as np\n",
    "import re\n",
    "import nltk\n",
    "from sklearn.datasets import load_files\n",
    "# nltk.download('stopwords')\n",
    "import pickle\n",
    "from nltk.corpus import stopwords\n"
   ]
  },
  {
   "cell_type": "code",
   "execution_count": 293,
   "metadata": {},
   "outputs": [
    {
     "name": "stdout",
     "output_type": "stream",
     "text": [
      "                                               hindi  \\\n",
      "0  गांव भालौठ (रोहतक) के पास एक कार को ट्रक ने पी...   \n",
      "1  व्यक्ति ने बताया वह साइकिल पर घर जा रहा था कि ...   \n",
      "2  पंचकूला में कर्जे से परेशान हो क्र एक आदमी ने ...   \n",
      "3  बच्ची की मां ने बताया कि उसकी बेटा के एक सहपाठ...   \n",
      "4  पंचकुला का रहना वाला आरोपी पवन कुमार, (जो वर्त...   \n",
      "\n",
      "                                           complaint  category  \\\n",
      "0  A car was hit from behind by a truck near vill...         1   \n",
      "1  The person told that he was going home on a bi...         1   \n",
      "2  Troubled by debt, a man along with his friend ...         0   \n",
      "3  The girl's mother told that a classmate of her...         3   \n",
      "4  Accused Pawan Kumar, a resident of Panchkula, ...         0   \n",
      "\n",
      "                                                text  \n",
      "0  car hit behind truck near village bhalauth roh...  \n",
      "1  person told going home bicycle white car came ...  \n",
      "2  troubled debt man along friend looted girlfrie...  \n",
      "3  girl mother told classmate son tried rape lunc...  \n",
      "4  accused pawan kumar resident panchkula present...  \n"
     ]
    }
   ],
   "source": [
    "print(df.head())"
   ]
  },
  {
   "cell_type": "code",
   "execution_count": 294,
   "metadata": {},
   "outputs": [],
   "source": [
    "x= df['complaint']\n",
    "y= df['category']\n"
   ]
  },
  {
   "cell_type": "code",
   "execution_count": 295,
   "metadata": {},
   "outputs": [],
   "source": [
    "documents = []\n",
    "\n",
    "from nltk.stem import WordNetLemmatizer\n",
    "\n",
    "stemmer = WordNetLemmatizer()\n",
    "\n",
    "for sen in range(0, len(X)):\n",
    "    # Remove all the special characters\n",
    "    document = re.sub(r'\\W', ' ', str(X[sen]))\n",
    "    \n",
    "    # remove all single characters\n",
    "    document = re.sub(r'\\s+[a-zA-Z]\\s+', ' ', document)\n",
    "    \n",
    "    # Remove single characters from the start\n",
    "    document = re.sub(r'\\^[a-zA-Z]\\s+', ' ', document) \n",
    "    \n",
    "    # Substituting multiple spaces with single space\n",
    "    document = re.sub(r'\\s+', ' ', document, flags=re.I)\n",
    "    \n",
    "    # Removing prefixed 'b'\n",
    "    document = re.sub(r'^b\\s+', '', document)\n",
    "    \n",
    "    # Converting to Lowercase\n",
    "    document = document.lower()\n",
    "    \n",
    "    # Lemmatization\n",
    "    document = document.split()\n",
    "\n",
    "    document = [stemmer.lemmatize(word) for word in document]\n",
    "    document = ' '.join(document)\n",
    "    \n",
    "    documents.append(document)"
   ]
  },
  {
   "cell_type": "code",
   "execution_count": 296,
   "metadata": {},
   "outputs": [],
   "source": [
    "from sklearn.feature_extraction.text import CountVectorizer\n",
    "vectorizer = CountVectorizer(max_features=1500, min_df=5, max_df=0.7, stop_words=stopwords.words('english'))\n",
    "X = vectorizer.fit_transform(documents).toarray()"
   ]
  },
  {
   "cell_type": "code",
   "execution_count": 297,
   "metadata": {},
   "outputs": [],
   "source": [
    "from sklearn.feature_extraction.text import TfidfTransformer\n",
    "tfidfconverter = TfidfTransformer()\n",
    "X = tfidfconverter.fit_transform(X).toarray()"
   ]
  },
  {
   "cell_type": "code",
   "execution_count": 298,
   "metadata": {},
   "outputs": [],
   "source": [
    "from sklearn.feature_extraction.text import TfidfVectorizer\n",
    "tfidfconverter = TfidfVectorizer(max_features=1500, min_df=5, max_df=0.7, stop_words=stopwords.words('english'))\n",
    "X = tfidfconverter.fit_transform(documents).toarray()"
   ]
  },
  {
   "cell_type": "code",
   "execution_count": 299,
   "metadata": {},
   "outputs": [],
   "source": [
    "from sklearn.model_selection import train_test_split\n",
    "X_train, X_val, y_train, y_val = train_test_split(X, y, test_size=0.2, random_state=0)"
   ]
  },
  {
   "cell_type": "code",
   "execution_count": 300,
   "metadata": {},
   "outputs": [
    {
     "data": {
      "text/html": [
       "<style>#sk-container-id-1 {color: black;background-color: white;}#sk-container-id-1 pre{padding: 0;}#sk-container-id-1 div.sk-toggleable {background-color: white;}#sk-container-id-1 label.sk-toggleable__label {cursor: pointer;display: block;width: 100%;margin-bottom: 0;padding: 0.3em;box-sizing: border-box;text-align: center;}#sk-container-id-1 label.sk-toggleable__label-arrow:before {content: \"▸\";float: left;margin-right: 0.25em;color: #696969;}#sk-container-id-1 label.sk-toggleable__label-arrow:hover:before {color: black;}#sk-container-id-1 div.sk-estimator:hover label.sk-toggleable__label-arrow:before {color: black;}#sk-container-id-1 div.sk-toggleable__content {max-height: 0;max-width: 0;overflow: hidden;text-align: left;background-color: #f0f8ff;}#sk-container-id-1 div.sk-toggleable__content pre {margin: 0.2em;color: black;border-radius: 0.25em;background-color: #f0f8ff;}#sk-container-id-1 input.sk-toggleable__control:checked~div.sk-toggleable__content {max-height: 200px;max-width: 100%;overflow: auto;}#sk-container-id-1 input.sk-toggleable__control:checked~label.sk-toggleable__label-arrow:before {content: \"▾\";}#sk-container-id-1 div.sk-estimator input.sk-toggleable__control:checked~label.sk-toggleable__label {background-color: #d4ebff;}#sk-container-id-1 div.sk-label input.sk-toggleable__control:checked~label.sk-toggleable__label {background-color: #d4ebff;}#sk-container-id-1 input.sk-hidden--visually {border: 0;clip: rect(1px 1px 1px 1px);clip: rect(1px, 1px, 1px, 1px);height: 1px;margin: -1px;overflow: hidden;padding: 0;position: absolute;width: 1px;}#sk-container-id-1 div.sk-estimator {font-family: monospace;background-color: #f0f8ff;border: 1px dotted black;border-radius: 0.25em;box-sizing: border-box;margin-bottom: 0.5em;}#sk-container-id-1 div.sk-estimator:hover {background-color: #d4ebff;}#sk-container-id-1 div.sk-parallel-item::after {content: \"\";width: 100%;border-bottom: 1px solid gray;flex-grow: 1;}#sk-container-id-1 div.sk-label:hover label.sk-toggleable__label {background-color: #d4ebff;}#sk-container-id-1 div.sk-serial::before {content: \"\";position: absolute;border-left: 1px solid gray;box-sizing: border-box;top: 0;bottom: 0;left: 50%;z-index: 0;}#sk-container-id-1 div.sk-serial {display: flex;flex-direction: column;align-items: center;background-color: white;padding-right: 0.2em;padding-left: 0.2em;position: relative;}#sk-container-id-1 div.sk-item {position: relative;z-index: 1;}#sk-container-id-1 div.sk-parallel {display: flex;align-items: stretch;justify-content: center;background-color: white;position: relative;}#sk-container-id-1 div.sk-item::before, #sk-container-id-1 div.sk-parallel-item::before {content: \"\";position: absolute;border-left: 1px solid gray;box-sizing: border-box;top: 0;bottom: 0;left: 50%;z-index: -1;}#sk-container-id-1 div.sk-parallel-item {display: flex;flex-direction: column;z-index: 1;position: relative;background-color: white;}#sk-container-id-1 div.sk-parallel-item:first-child::after {align-self: flex-end;width: 50%;}#sk-container-id-1 div.sk-parallel-item:last-child::after {align-self: flex-start;width: 50%;}#sk-container-id-1 div.sk-parallel-item:only-child::after {width: 0;}#sk-container-id-1 div.sk-dashed-wrapped {border: 1px dashed gray;margin: 0 0.4em 0.5em 0.4em;box-sizing: border-box;padding-bottom: 0.4em;background-color: white;}#sk-container-id-1 div.sk-label label {font-family: monospace;font-weight: bold;display: inline-block;line-height: 1.2em;}#sk-container-id-1 div.sk-label-container {text-align: center;}#sk-container-id-1 div.sk-container {/* jupyter's `normalize.less` sets `[hidden] { display: none; }` but bootstrap.min.css set `[hidden] { display: none !important; }` so we also need the `!important` here to be able to override the default hidden behavior on the sphinx rendered scikit-learn.org. See: https://github.com/scikit-learn/scikit-learn/issues/21755 */display: inline-block !important;position: relative;}#sk-container-id-1 div.sk-text-repr-fallback {display: none;}</style><div id=\"sk-container-id-1\" class=\"sk-top-container\"><div class=\"sk-text-repr-fallback\"><pre>RandomForestClassifier(n_estimators=1000, random_state=0)</pre><b>In a Jupyter environment, please rerun this cell to show the HTML representation or trust the notebook. <br />On GitHub, the HTML representation is unable to render, please try loading this page with nbviewer.org.</b></div><div class=\"sk-container\" hidden><div class=\"sk-item\"><div class=\"sk-estimator sk-toggleable\"><input class=\"sk-toggleable__control sk-hidden--visually\" id=\"sk-estimator-id-1\" type=\"checkbox\" checked><label for=\"sk-estimator-id-1\" class=\"sk-toggleable__label sk-toggleable__label-arrow\">RandomForestClassifier</label><div class=\"sk-toggleable__content\"><pre>RandomForestClassifier(n_estimators=1000, random_state=0)</pre></div></div></div></div></div>"
      ],
      "text/plain": [
       "RandomForestClassifier(n_estimators=1000, random_state=0)"
      ]
     },
     "execution_count": 300,
     "metadata": {},
     "output_type": "execute_result"
    }
   ],
   "source": [
    "classifier = RandomForestClassifier(n_estimators=1000, random_state=0)\n",
    "classifier.fit(X_train, y_train) "
   ]
  },
  {
   "cell_type": "code",
   "execution_count": 301,
   "metadata": {},
   "outputs": [],
   "source": [
    "y_pred = classifier.predict(X_val)\n"
   ]
  },
  {
   "cell_type": "code",
   "execution_count": 302,
   "metadata": {},
   "outputs": [
    {
     "name": "stdout",
     "output_type": "stream",
     "text": [
      "[[13  0  0  0]\n",
      " [ 0 18  0  0]\n",
      " [ 1  2 16  3]\n",
      " [ 0  0  1 17]]\n",
      "              precision    recall  f1-score   support\n",
      "\n",
      "           0       0.93      1.00      0.96        13\n",
      "           1       0.90      1.00      0.95        18\n",
      "           2       0.94      0.73      0.82        22\n",
      "           3       0.85      0.94      0.89        18\n",
      "\n",
      "    accuracy                           0.90        71\n",
      "   macro avg       0.90      0.92      0.91        71\n",
      "weighted avg       0.91      0.90      0.90        71\n",
      "\n",
      "0.9014084507042254\n"
     ]
    }
   ],
   "source": [
    "from sklearn.metrics import classification_report, confusion_matrix, accuracy_score\n",
    "\n",
    "print(confusion_matrix(y_val,y_pred))\n",
    "print(classification_report(y_val,y_pred))\n",
    "print(accuracy_score(y_val, y_pred))"
   ]
  },
  {
   "cell_type": "code",
   "execution_count": 305,
   "metadata": {},
   "outputs": [
    {
     "name": "stdout",
     "output_type": "stream",
     "text": [
      "[2, 2, 3, 1, 1, 0, 0, 2, 1, 0, 3, 0, 0, 2, 1, 3, 1, 1, 0, 3, 0, 0, 3, 1, 3, 0, 0, 1, 2, 0, 2, 0, 3, 1, 2, 0, 0, 0, 2, 1, 0, 1, 0, 2, 2, 3, 3]\n",
      "[2 2 2 1 1 0 2 2 1 0 3 0 0 2 1 3 1 1 0 3 1 1 3 1 2 0 0 1 2 1 2 0 3 1 2 0 0\n",
      " 0 1 1 0 1 0 0 2 3 3]\n"
     ]
    }
   ],
   "source": [
    "# test on unseen data\n",
    "test_predictions= classifier.predict(tfidfconverter.transform(test['complaint']))\n",
    "print(list(test['category']))\n",
    "print(test_predictions)\n"
   ]
  },
  {
   "cell_type": "code",
   "execution_count": 306,
   "metadata": {},
   "outputs": [
    {
     "name": "stdout",
     "output_type": "stream",
     "text": [
      "0.8297872340425532\n"
     ]
    }
   ],
   "source": [
    "print(accuracy_score(test['category'], test_predictions))"
   ]
  },
  {
   "cell_type": "markdown",
   "metadata": {},
   "source": [
    "https://realpython.com/python-keras-text-classification/"
   ]
  },
  {
   "cell_type": "code",
   "execution_count": null,
   "metadata": {},
   "outputs": [],
   "source": [
    "pip install keras==2.6\n"
   ]
  },
  {
   "cell_type": "code",
   "execution_count": 307,
   "metadata": {},
   "outputs": [],
   "source": [
    "import tensorflow.keras as keras\n",
    "# from keras.models import Sequential\n",
    "# from keras import layers\n",
    "\n",
    "input_dim = X_train.shape[1]  # Number of features\n",
    "\n",
    "model = keras.Sequential()\n",
    "model.add(keras.layers.Dense(10, input_dim=input_dim, activation='relu'))\n",
    "model.add(keras.layers.Dense(1, activation='sigmoid'))"
   ]
  },
  {
   "cell_type": "code",
   "execution_count": 308,
   "metadata": {},
   "outputs": [
    {
     "name": "stdout",
     "output_type": "stream",
     "text": [
      "Model: \"sequential_1\"\n",
      "_________________________________________________________________\n",
      "Layer (type)                 Output Shape              Param #   \n",
      "=================================================================\n",
      "dense_2 (Dense)              (None, 10)                3350      \n",
      "_________________________________________________________________\n",
      "dense_3 (Dense)              (None, 1)                 11        \n",
      "=================================================================\n",
      "Total params: 3,361\n",
      "Trainable params: 3,361\n",
      "Non-trainable params: 0\n",
      "_________________________________________________________________\n"
     ]
    }
   ],
   "source": [
    "model.compile(loss='binary_crossentropy', \n",
    "              optimizer='adam', \n",
    "              metrics=['accuracy'])\n",
    "model.summary()"
   ]
  },
  {
   "cell_type": "code",
   "execution_count": 310,
   "metadata": {},
   "outputs": [],
   "source": [
    "history = model.fit(X_train, y_train,\n",
    "                    epochs=100,\n",
    "                    verbose=False,\n",
    "                    validation_data=(X_val, y_val),\n",
    "                    batch_size=10)"
   ]
  },
  {
   "cell_type": "code",
   "execution_count": null,
   "metadata": {},
   "outputs": [],
   "source": [
    "from keras.backend import clear_session\n",
    "clear_session()"
   ]
  },
  {
   "cell_type": "markdown",
   "metadata": {},
   "source": [
    "https://www.kaggle.com/code/heeraldedhia/text-classification-nlp"
   ]
  },
  {
   "cell_type": "code",
   "execution_count": 15,
   "metadata": {},
   "outputs": [],
   "source": [
    "import numpy as np\n",
    "import pandas as pd \n",
    "\n",
    "import matplotlib as mpl \n",
    "import matplotlib.cm as cm \n",
    "import matplotlib.pyplot as plt \n",
    "import plotly.graph_objects as go\n",
    "import seaborn as sns\n",
    "\n",
    "from sklearn.feature_extraction.text import CountVectorizer\n",
    "from sklearn.feature_extraction import _stop_words\n",
    "from nltk.stem import WordNetLemmatizer\n",
    "from sklearn.feature_extraction.text import TfidfVectorizer \n",
    "\n",
    "import string\n",
    "import re\n",
    "\n",
    "from sklearn.naive_bayes import MultinomialNB\n",
    "from sklearn.naive_bayes import GaussianNB\n",
    "from sklearn.linear_model import LogisticRegression\n",
    "from sklearn.svm import LinearSVC\n",
    "\n",
    "from sklearn.metrics import accuracy_score\n",
    "import sklearn.metrics as metrics\n",
    "from sklearn.model_selection import train_test_split\n",
    "from sklearn.metrics import confusion_matrix \n",
    "from sklearn.metrics import classification_report\n",
    "from sklearn import metrics\n",
    "\n",
    "from time import time\n",
    "\n",
    "import warnings\n",
    "warnings.filterwarnings(\"ignore\")"
   ]
  },
  {
   "cell_type": "code",
   "execution_count": 71,
   "metadata": {},
   "outputs": [
    {
     "data": {
      "text/plain": [
       "(352, 3)"
      ]
     },
     "metadata": {},
     "output_type": "display_data"
    }
   ],
   "source": [
    "# data = pd.read_csv('complaint with manual labels.csv')\n",
    "data= df\n",
    "display(data.shape) "
   ]
  },
  {
   "cell_type": "code",
   "execution_count": 72,
   "metadata": {},
   "outputs": [
    {
     "data": {
      "text/plain": [
       "Index(['hindi', 'complaint', 'category'], dtype='object')"
      ]
     },
     "execution_count": 72,
     "metadata": {},
     "output_type": "execute_result"
    }
   ],
   "source": [
    "data.columns"
   ]
  },
  {
   "cell_type": "code",
   "execution_count": 73,
   "metadata": {},
   "outputs": [
    {
     "data": {
      "text/plain": [
       "rape        91\n",
       "theft       90\n",
       "murder      90\n",
       "accident    81\n",
       "Name: category, dtype: int64"
      ]
     },
     "execution_count": 73,
     "metadata": {},
     "output_type": "execute_result"
    }
   ],
   "source": [
    "data[\"category\"].value_counts()"
   ]
  },
  {
   "cell_type": "code",
   "execution_count": 74,
   "metadata": {},
   "outputs": [
    {
     "data": {
      "text/plain": [
       "rape        0.258523\n",
       "theft       0.255682\n",
       "murder      0.255682\n",
       "accident    0.230114\n",
       "Name: category, dtype: float64"
      ]
     },
     "execution_count": 74,
     "metadata": {},
     "output_type": "execute_result"
    }
   ],
   "source": [
    "data[\"category\"].value_counts()/data.shape[0] "
   ]
  },
  {
   "cell_type": "code",
   "execution_count": null,
   "metadata": {},
   "outputs": [],
   "source": [
    "pip install --upgrade nbformat\n"
   ]
  },
  {
   "cell_type": "code",
   "execution_count": 75,
   "metadata": {},
   "outputs": [
    {
     "data": {
      "application/vnd.plotly.v1+json": {
       "config": {
        "plotlyServerURL": "https://plot.ly"
       },
       "data": [
        {
         "type": "bar",
         "x": [
          "rape",
          "theft",
          "murder",
          "accident"
         ],
         "y": [
          91,
          90,
          90,
          81
         ]
        }
       ],
       "layout": {
        "template": {
         "data": {
          "bar": [
           {
            "error_x": {
             "color": "#2a3f5f"
            },
            "error_y": {
             "color": "#2a3f5f"
            },
            "marker": {
             "line": {
              "color": "#E5ECF6",
              "width": 0.5
             },
             "pattern": {
              "fillmode": "overlay",
              "size": 10,
              "solidity": 0.2
             }
            },
            "type": "bar"
           }
          ],
          "barpolar": [
           {
            "marker": {
             "line": {
              "color": "#E5ECF6",
              "width": 0.5
             },
             "pattern": {
              "fillmode": "overlay",
              "size": 10,
              "solidity": 0.2
             }
            },
            "type": "barpolar"
           }
          ],
          "carpet": [
           {
            "aaxis": {
             "endlinecolor": "#2a3f5f",
             "gridcolor": "white",
             "linecolor": "white",
             "minorgridcolor": "white",
             "startlinecolor": "#2a3f5f"
            },
            "baxis": {
             "endlinecolor": "#2a3f5f",
             "gridcolor": "white",
             "linecolor": "white",
             "minorgridcolor": "white",
             "startlinecolor": "#2a3f5f"
            },
            "type": "carpet"
           }
          ],
          "choropleth": [
           {
            "colorbar": {
             "outlinewidth": 0,
             "ticks": ""
            },
            "type": "choropleth"
           }
          ],
          "contour": [
           {
            "colorbar": {
             "outlinewidth": 0,
             "ticks": ""
            },
            "colorscale": [
             [
              0,
              "#0d0887"
             ],
             [
              0.1111111111111111,
              "#46039f"
             ],
             [
              0.2222222222222222,
              "#7201a8"
             ],
             [
              0.3333333333333333,
              "#9c179e"
             ],
             [
              0.4444444444444444,
              "#bd3786"
             ],
             [
              0.5555555555555556,
              "#d8576b"
             ],
             [
              0.6666666666666666,
              "#ed7953"
             ],
             [
              0.7777777777777778,
              "#fb9f3a"
             ],
             [
              0.8888888888888888,
              "#fdca26"
             ],
             [
              1,
              "#f0f921"
             ]
            ],
            "type": "contour"
           }
          ],
          "contourcarpet": [
           {
            "colorbar": {
             "outlinewidth": 0,
             "ticks": ""
            },
            "type": "contourcarpet"
           }
          ],
          "heatmap": [
           {
            "colorbar": {
             "outlinewidth": 0,
             "ticks": ""
            },
            "colorscale": [
             [
              0,
              "#0d0887"
             ],
             [
              0.1111111111111111,
              "#46039f"
             ],
             [
              0.2222222222222222,
              "#7201a8"
             ],
             [
              0.3333333333333333,
              "#9c179e"
             ],
             [
              0.4444444444444444,
              "#bd3786"
             ],
             [
              0.5555555555555556,
              "#d8576b"
             ],
             [
              0.6666666666666666,
              "#ed7953"
             ],
             [
              0.7777777777777778,
              "#fb9f3a"
             ],
             [
              0.8888888888888888,
              "#fdca26"
             ],
             [
              1,
              "#f0f921"
             ]
            ],
            "type": "heatmap"
           }
          ],
          "heatmapgl": [
           {
            "colorbar": {
             "outlinewidth": 0,
             "ticks": ""
            },
            "colorscale": [
             [
              0,
              "#0d0887"
             ],
             [
              0.1111111111111111,
              "#46039f"
             ],
             [
              0.2222222222222222,
              "#7201a8"
             ],
             [
              0.3333333333333333,
              "#9c179e"
             ],
             [
              0.4444444444444444,
              "#bd3786"
             ],
             [
              0.5555555555555556,
              "#d8576b"
             ],
             [
              0.6666666666666666,
              "#ed7953"
             ],
             [
              0.7777777777777778,
              "#fb9f3a"
             ],
             [
              0.8888888888888888,
              "#fdca26"
             ],
             [
              1,
              "#f0f921"
             ]
            ],
            "type": "heatmapgl"
           }
          ],
          "histogram": [
           {
            "marker": {
             "pattern": {
              "fillmode": "overlay",
              "size": 10,
              "solidity": 0.2
             }
            },
            "type": "histogram"
           }
          ],
          "histogram2d": [
           {
            "colorbar": {
             "outlinewidth": 0,
             "ticks": ""
            },
            "colorscale": [
             [
              0,
              "#0d0887"
             ],
             [
              0.1111111111111111,
              "#46039f"
             ],
             [
              0.2222222222222222,
              "#7201a8"
             ],
             [
              0.3333333333333333,
              "#9c179e"
             ],
             [
              0.4444444444444444,
              "#bd3786"
             ],
             [
              0.5555555555555556,
              "#d8576b"
             ],
             [
              0.6666666666666666,
              "#ed7953"
             ],
             [
              0.7777777777777778,
              "#fb9f3a"
             ],
             [
              0.8888888888888888,
              "#fdca26"
             ],
             [
              1,
              "#f0f921"
             ]
            ],
            "type": "histogram2d"
           }
          ],
          "histogram2dcontour": [
           {
            "colorbar": {
             "outlinewidth": 0,
             "ticks": ""
            },
            "colorscale": [
             [
              0,
              "#0d0887"
             ],
             [
              0.1111111111111111,
              "#46039f"
             ],
             [
              0.2222222222222222,
              "#7201a8"
             ],
             [
              0.3333333333333333,
              "#9c179e"
             ],
             [
              0.4444444444444444,
              "#bd3786"
             ],
             [
              0.5555555555555556,
              "#d8576b"
             ],
             [
              0.6666666666666666,
              "#ed7953"
             ],
             [
              0.7777777777777778,
              "#fb9f3a"
             ],
             [
              0.8888888888888888,
              "#fdca26"
             ],
             [
              1,
              "#f0f921"
             ]
            ],
            "type": "histogram2dcontour"
           }
          ],
          "mesh3d": [
           {
            "colorbar": {
             "outlinewidth": 0,
             "ticks": ""
            },
            "type": "mesh3d"
           }
          ],
          "parcoords": [
           {
            "line": {
             "colorbar": {
              "outlinewidth": 0,
              "ticks": ""
             }
            },
            "type": "parcoords"
           }
          ],
          "pie": [
           {
            "automargin": true,
            "type": "pie"
           }
          ],
          "scatter": [
           {
            "fillpattern": {
             "fillmode": "overlay",
             "size": 10,
             "solidity": 0.2
            },
            "type": "scatter"
           }
          ],
          "scatter3d": [
           {
            "line": {
             "colorbar": {
              "outlinewidth": 0,
              "ticks": ""
             }
            },
            "marker": {
             "colorbar": {
              "outlinewidth": 0,
              "ticks": ""
             }
            },
            "type": "scatter3d"
           }
          ],
          "scattercarpet": [
           {
            "marker": {
             "colorbar": {
              "outlinewidth": 0,
              "ticks": ""
             }
            },
            "type": "scattercarpet"
           }
          ],
          "scattergeo": [
           {
            "marker": {
             "colorbar": {
              "outlinewidth": 0,
              "ticks": ""
             }
            },
            "type": "scattergeo"
           }
          ],
          "scattergl": [
           {
            "marker": {
             "colorbar": {
              "outlinewidth": 0,
              "ticks": ""
             }
            },
            "type": "scattergl"
           }
          ],
          "scattermapbox": [
           {
            "marker": {
             "colorbar": {
              "outlinewidth": 0,
              "ticks": ""
             }
            },
            "type": "scattermapbox"
           }
          ],
          "scatterpolar": [
           {
            "marker": {
             "colorbar": {
              "outlinewidth": 0,
              "ticks": ""
             }
            },
            "type": "scatterpolar"
           }
          ],
          "scatterpolargl": [
           {
            "marker": {
             "colorbar": {
              "outlinewidth": 0,
              "ticks": ""
             }
            },
            "type": "scatterpolargl"
           }
          ],
          "scatterternary": [
           {
            "marker": {
             "colorbar": {
              "outlinewidth": 0,
              "ticks": ""
             }
            },
            "type": "scatterternary"
           }
          ],
          "surface": [
           {
            "colorbar": {
             "outlinewidth": 0,
             "ticks": ""
            },
            "colorscale": [
             [
              0,
              "#0d0887"
             ],
             [
              0.1111111111111111,
              "#46039f"
             ],
             [
              0.2222222222222222,
              "#7201a8"
             ],
             [
              0.3333333333333333,
              "#9c179e"
             ],
             [
              0.4444444444444444,
              "#bd3786"
             ],
             [
              0.5555555555555556,
              "#d8576b"
             ],
             [
              0.6666666666666666,
              "#ed7953"
             ],
             [
              0.7777777777777778,
              "#fb9f3a"
             ],
             [
              0.8888888888888888,
              "#fdca26"
             ],
             [
              1,
              "#f0f921"
             ]
            ],
            "type": "surface"
           }
          ],
          "table": [
           {
            "cells": {
             "fill": {
              "color": "#EBF0F8"
             },
             "line": {
              "color": "white"
             }
            },
            "header": {
             "fill": {
              "color": "#C8D4E3"
             },
             "line": {
              "color": "white"
             }
            },
            "type": "table"
           }
          ]
         },
         "layout": {
          "annotationdefaults": {
           "arrowcolor": "#2a3f5f",
           "arrowhead": 0,
           "arrowwidth": 1
          },
          "autotypenumbers": "strict",
          "coloraxis": {
           "colorbar": {
            "outlinewidth": 0,
            "ticks": ""
           }
          },
          "colorscale": {
           "diverging": [
            [
             0,
             "#8e0152"
            ],
            [
             0.1,
             "#c51b7d"
            ],
            [
             0.2,
             "#de77ae"
            ],
            [
             0.3,
             "#f1b6da"
            ],
            [
             0.4,
             "#fde0ef"
            ],
            [
             0.5,
             "#f7f7f7"
            ],
            [
             0.6,
             "#e6f5d0"
            ],
            [
             0.7,
             "#b8e186"
            ],
            [
             0.8,
             "#7fbc41"
            ],
            [
             0.9,
             "#4d9221"
            ],
            [
             1,
             "#276419"
            ]
           ],
           "sequential": [
            [
             0,
             "#0d0887"
            ],
            [
             0.1111111111111111,
             "#46039f"
            ],
            [
             0.2222222222222222,
             "#7201a8"
            ],
            [
             0.3333333333333333,
             "#9c179e"
            ],
            [
             0.4444444444444444,
             "#bd3786"
            ],
            [
             0.5555555555555556,
             "#d8576b"
            ],
            [
             0.6666666666666666,
             "#ed7953"
            ],
            [
             0.7777777777777778,
             "#fb9f3a"
            ],
            [
             0.8888888888888888,
             "#fdca26"
            ],
            [
             1,
             "#f0f921"
            ]
           ],
           "sequentialminus": [
            [
             0,
             "#0d0887"
            ],
            [
             0.1111111111111111,
             "#46039f"
            ],
            [
             0.2222222222222222,
             "#7201a8"
            ],
            [
             0.3333333333333333,
             "#9c179e"
            ],
            [
             0.4444444444444444,
             "#bd3786"
            ],
            [
             0.5555555555555556,
             "#d8576b"
            ],
            [
             0.6666666666666666,
             "#ed7953"
            ],
            [
             0.7777777777777778,
             "#fb9f3a"
            ],
            [
             0.8888888888888888,
             "#fdca26"
            ],
            [
             1,
             "#f0f921"
            ]
           ]
          },
          "colorway": [
           "#636efa",
           "#EF553B",
           "#00cc96",
           "#ab63fa",
           "#FFA15A",
           "#19d3f3",
           "#FF6692",
           "#B6E880",
           "#FF97FF",
           "#FECB52"
          ],
          "font": {
           "color": "#2a3f5f"
          },
          "geo": {
           "bgcolor": "white",
           "lakecolor": "white",
           "landcolor": "#E5ECF6",
           "showlakes": true,
           "showland": true,
           "subunitcolor": "white"
          },
          "hoverlabel": {
           "align": "left"
          },
          "hovermode": "closest",
          "mapbox": {
           "style": "light"
          },
          "paper_bgcolor": "white",
          "plot_bgcolor": "#E5ECF6",
          "polar": {
           "angularaxis": {
            "gridcolor": "white",
            "linecolor": "white",
            "ticks": ""
           },
           "bgcolor": "#E5ECF6",
           "radialaxis": {
            "gridcolor": "white",
            "linecolor": "white",
            "ticks": ""
           }
          },
          "scene": {
           "xaxis": {
            "backgroundcolor": "#E5ECF6",
            "gridcolor": "white",
            "gridwidth": 2,
            "linecolor": "white",
            "showbackground": true,
            "ticks": "",
            "zerolinecolor": "white"
           },
           "yaxis": {
            "backgroundcolor": "#E5ECF6",
            "gridcolor": "white",
            "gridwidth": 2,
            "linecolor": "white",
            "showbackground": true,
            "ticks": "",
            "zerolinecolor": "white"
           },
           "zaxis": {
            "backgroundcolor": "#E5ECF6",
            "gridcolor": "white",
            "gridwidth": 2,
            "linecolor": "white",
            "showbackground": true,
            "ticks": "",
            "zerolinecolor": "white"
           }
          },
          "shapedefaults": {
           "line": {
            "color": "#2a3f5f"
           }
          },
          "ternary": {
           "aaxis": {
            "gridcolor": "white",
            "linecolor": "white",
            "ticks": ""
           },
           "baxis": {
            "gridcolor": "white",
            "linecolor": "white",
            "ticks": ""
           },
           "bgcolor": "#E5ECF6",
           "caxis": {
            "gridcolor": "white",
            "linecolor": "white",
            "ticks": ""
           }
          },
          "title": {
           "x": 0.05
          },
          "xaxis": {
           "automargin": true,
           "gridcolor": "white",
           "linecolor": "white",
           "ticks": "",
           "title": {
            "standoff": 15
           },
           "zerolinecolor": "white",
           "zerolinewidth": 2
          },
          "yaxis": {
           "automargin": true,
           "gridcolor": "white",
           "linecolor": "white",
           "ticks": "",
           "title": {
            "standoff": 15
           },
           "zerolinecolor": "white",
           "zerolinewidth": 2
          }
         }
        },
        "title": {
         "text": "Values in each Complaint"
        },
        "xaxis": {
         "title": {
          "text": "Complaints"
         }
        },
        "yaxis": {
         "title": {
          "text": "Values"
         }
        }
       }
      }
     },
     "metadata": {},
     "output_type": "display_data"
    }
   ],
   "source": [
    "fig = go.Figure([go.Bar(x=data['category'].value_counts().index, y=data['category'].value_counts().tolist())])\n",
    "fig.update_layout(\n",
    "    title=\"Values in each Complaint\",\n",
    "    xaxis_title=\"Complaints\",\n",
    "    yaxis_title=\"Values\")\n",
    "fig.show()"
   ]
  },
  {
   "cell_type": "code",
   "execution_count": 76,
   "metadata": {},
   "outputs": [
    {
     "data": {
      "text/plain": [
       "(352, 2)"
      ]
     },
     "execution_count": 76,
     "metadata": {},
     "output_type": "execute_result"
    }
   ],
   "source": [
    "data['category'] = data.category.map({'rape': 3, 'murder': 2, 'accident':1, 'theft':0}) # relevant is 1, not-relevant is 0 \n",
    "data = data[[\"complaint\",\"category\"]] # taking text input and output variable as relevance\n",
    "data = data[:1000]\n",
    "data.shape"
   ]
  },
  {
   "cell_type": "code",
   "execution_count": 77,
   "metadata": {},
   "outputs": [
    {
     "data": {
      "text/html": [
       "<div>\n",
       "<style scoped>\n",
       "    .dataframe tbody tr th:only-of-type {\n",
       "        vertical-align: middle;\n",
       "    }\n",
       "\n",
       "    .dataframe tbody tr th {\n",
       "        vertical-align: top;\n",
       "    }\n",
       "\n",
       "    .dataframe thead th {\n",
       "        text-align: right;\n",
       "    }\n",
       "</style>\n",
       "<table border=\"1\" class=\"dataframe\">\n",
       "  <thead>\n",
       "    <tr style=\"text-align: right;\">\n",
       "      <th></th>\n",
       "      <th>complaint</th>\n",
       "      <th>category</th>\n",
       "    </tr>\n",
       "  </thead>\n",
       "  <tbody>\n",
       "    <tr>\n",
       "      <th>0</th>\n",
       "      <td>A car was hit from behind by a truck near vill...</td>\n",
       "      <td>1</td>\n",
       "    </tr>\n",
       "    <tr>\n",
       "      <th>1</th>\n",
       "      <td>The person told that he was going home on a bi...</td>\n",
       "      <td>1</td>\n",
       "    </tr>\n",
       "    <tr>\n",
       "      <th>2</th>\n",
       "      <td>Troubled by debt, a man along with his friend ...</td>\n",
       "      <td>0</td>\n",
       "    </tr>\n",
       "    <tr>\n",
       "      <th>3</th>\n",
       "      <td>The girl's mother told that a classmate of her...</td>\n",
       "      <td>3</td>\n",
       "    </tr>\n",
       "    <tr>\n",
       "      <th>4</th>\n",
       "      <td>Accused Pawan Kumar, a resident of Panchkula, ...</td>\n",
       "      <td>0</td>\n",
       "    </tr>\n",
       "  </tbody>\n",
       "</table>\n",
       "</div>"
      ],
      "text/plain": [
       "                                           complaint  category\n",
       "0  A car was hit from behind by a truck near vill...         1\n",
       "1  The person told that he was going home on a bi...         1\n",
       "2  Troubled by debt, a man along with his friend ...         0\n",
       "3  The girl's mother told that a classmate of her...         3\n",
       "4  Accused Pawan Kumar, a resident of Panchkula, ...         0"
      ]
     },
     "execution_count": 77,
     "metadata": {},
     "output_type": "execute_result"
    }
   ],
   "source": [
    "data.head()\n"
   ]
  },
  {
   "cell_type": "code",
   "execution_count": 78,
   "metadata": {},
   "outputs": [
    {
     "data": {
      "text/plain": [
       "'A car was hit from behind by a truck near village Bhalauth (Rohtak). In which both the people in the car died on the spot.'"
      ]
     },
     "execution_count": 78,
     "metadata": {},
     "output_type": "execute_result"
    }
   ],
   "source": [
    "data['complaint'][0]"
   ]
  },
  {
   "cell_type": "code",
   "execution_count": 79,
   "metadata": {},
   "outputs": [],
   "source": [
    "import spacy\n",
    "nlp = spacy.load('en_core_web_sm')\n",
    "\n",
    "stopwords = _stop_words.ENGLISH_STOP_WORDS\n",
    "lemmatizer = WordNetLemmatizer()\n",
    "\n",
    "def clean(doc):\n",
    "    text_no_namedentities = []\n",
    "    document = nlp(doc)\n",
    "    ents = [e.text for e in document.ents]\n",
    "    for item in document:\n",
    "        if item.text in ents:\n",
    "            pass\n",
    "        else:\n",
    "            text_no_namedentities.append(item.text)\n",
    "    doc = (\" \".join(text_no_namedentities))\n",
    "\n",
    "    doc = doc.lower().strip()\n",
    "    doc = doc.replace(\"</br>\", \" \") \n",
    "    doc = doc.replace(\"-\", \" \") \n",
    "    doc = \"\".join([char for char in doc if char not in string.punctuation and not char.isdigit()])\n",
    "    doc = \" \".join([token for token in doc.split() if token not in stopwords])    \n",
    "    doc = \"\".join([lemmatizer.lemmatize(word) for word in doc])\n",
    "    return doc"
   ]
  },
  {
   "cell_type": "code",
   "execution_count": 80,
   "metadata": {},
   "outputs": [
    {
     "data": {
      "text/html": [
       "<div>\n",
       "<style scoped>\n",
       "    .dataframe tbody tr th:only-of-type {\n",
       "        vertical-align: middle;\n",
       "    }\n",
       "\n",
       "    .dataframe tbody tr th {\n",
       "        vertical-align: top;\n",
       "    }\n",
       "\n",
       "    .dataframe thead th {\n",
       "        text-align: right;\n",
       "    }\n",
       "</style>\n",
       "<table border=\"1\" class=\"dataframe\">\n",
       "  <thead>\n",
       "    <tr style=\"text-align: right;\">\n",
       "      <th></th>\n",
       "      <th>complaint</th>\n",
       "      <th>category</th>\n",
       "    </tr>\n",
       "  </thead>\n",
       "  <tbody>\n",
       "    <tr>\n",
       "      <th>0</th>\n",
       "      <td>car hit truck near village people car died spot</td>\n",
       "      <td>1</td>\n",
       "    </tr>\n",
       "    <tr>\n",
       "      <th>1</th>\n",
       "      <td>person told going home bicycle white car came ...</td>\n",
       "      <td>1</td>\n",
       "    </tr>\n",
       "    <tr>\n",
       "      <th>2</th>\n",
       "      <td>troubled debt man friend looted girlfriend s h...</td>\n",
       "      <td>0</td>\n",
       "    </tr>\n",
       "    <tr>\n",
       "      <th>3</th>\n",
       "      <td>girl s mother told classmate son tried rape lu...</td>\n",
       "      <td>3</td>\n",
       "    </tr>\n",
       "    <tr>\n",
       "      <th>4</th>\n",
       "      <td>accused pawan kumar resident presently residin...</td>\n",
       "      <td>0</td>\n",
       "    </tr>\n",
       "  </tbody>\n",
       "</table>\n",
       "</div>"
      ],
      "text/plain": [
       "                                           complaint  category\n",
       "0    car hit truck near village people car died spot         1\n",
       "1  person told going home bicycle white car came ...         1\n",
       "2  troubled debt man friend looted girlfriend s h...         0\n",
       "3  girl s mother told classmate son tried rape lu...         3\n",
       "4  accused pawan kumar resident presently residin...         0"
      ]
     },
     "execution_count": 80,
     "metadata": {},
     "output_type": "execute_result"
    }
   ],
   "source": [
    "data['complaint'] = data['complaint'].apply(clean)\n",
    "data.head()"
   ]
  },
  {
   "cell_type": "code",
   "execution_count": 81,
   "metadata": {},
   "outputs": [],
   "source": [
    "docs = list(data['complaint'])\n",
    "tfidf_vectorizer = TfidfVectorizer(use_idf=True, max_features = 20000) \n",
    "tfidf_vectorizer_vectors = tfidf_vectorizer.fit_transform(docs)\n",
    "docs = tfidf_vectorizer_vectors.toarray()"
   ]
  },
  {
   "cell_type": "code",
   "execution_count": 82,
   "metadata": {},
   "outputs": [
    {
     "name": "stdout",
     "output_type": "stream",
     "text": [
      "(352, 1818) (352,)\n"
     ]
    }
   ],
   "source": [
    "X = docs \n",
    "y = data['category']\n",
    "print(X.shape, y.shape)"
   ]
  },
  {
   "cell_type": "code",
   "execution_count": 83,
   "metadata": {},
   "outputs": [
    {
     "data": {
      "application/vnd.plotly.v1+json": {
       "config": {
        "plotlyServerURL": "https://plot.ly"
       },
       "data": [
        {
         "type": "bar",
         "x": [
          3,
          0,
          2,
          1
         ],
         "y": [
          91,
          90,
          90,
          81
         ]
        }
       ],
       "layout": {
        "template": {
         "data": {
          "bar": [
           {
            "error_x": {
             "color": "#2a3f5f"
            },
            "error_y": {
             "color": "#2a3f5f"
            },
            "marker": {
             "line": {
              "color": "#E5ECF6",
              "width": 0.5
             },
             "pattern": {
              "fillmode": "overlay",
              "size": 10,
              "solidity": 0.2
             }
            },
            "type": "bar"
           }
          ],
          "barpolar": [
           {
            "marker": {
             "line": {
              "color": "#E5ECF6",
              "width": 0.5
             },
             "pattern": {
              "fillmode": "overlay",
              "size": 10,
              "solidity": 0.2
             }
            },
            "type": "barpolar"
           }
          ],
          "carpet": [
           {
            "aaxis": {
             "endlinecolor": "#2a3f5f",
             "gridcolor": "white",
             "linecolor": "white",
             "minorgridcolor": "white",
             "startlinecolor": "#2a3f5f"
            },
            "baxis": {
             "endlinecolor": "#2a3f5f",
             "gridcolor": "white",
             "linecolor": "white",
             "minorgridcolor": "white",
             "startlinecolor": "#2a3f5f"
            },
            "type": "carpet"
           }
          ],
          "choropleth": [
           {
            "colorbar": {
             "outlinewidth": 0,
             "ticks": ""
            },
            "type": "choropleth"
           }
          ],
          "contour": [
           {
            "colorbar": {
             "outlinewidth": 0,
             "ticks": ""
            },
            "colorscale": [
             [
              0,
              "#0d0887"
             ],
             [
              0.1111111111111111,
              "#46039f"
             ],
             [
              0.2222222222222222,
              "#7201a8"
             ],
             [
              0.3333333333333333,
              "#9c179e"
             ],
             [
              0.4444444444444444,
              "#bd3786"
             ],
             [
              0.5555555555555556,
              "#d8576b"
             ],
             [
              0.6666666666666666,
              "#ed7953"
             ],
             [
              0.7777777777777778,
              "#fb9f3a"
             ],
             [
              0.8888888888888888,
              "#fdca26"
             ],
             [
              1,
              "#f0f921"
             ]
            ],
            "type": "contour"
           }
          ],
          "contourcarpet": [
           {
            "colorbar": {
             "outlinewidth": 0,
             "ticks": ""
            },
            "type": "contourcarpet"
           }
          ],
          "heatmap": [
           {
            "colorbar": {
             "outlinewidth": 0,
             "ticks": ""
            },
            "colorscale": [
             [
              0,
              "#0d0887"
             ],
             [
              0.1111111111111111,
              "#46039f"
             ],
             [
              0.2222222222222222,
              "#7201a8"
             ],
             [
              0.3333333333333333,
              "#9c179e"
             ],
             [
              0.4444444444444444,
              "#bd3786"
             ],
             [
              0.5555555555555556,
              "#d8576b"
             ],
             [
              0.6666666666666666,
              "#ed7953"
             ],
             [
              0.7777777777777778,
              "#fb9f3a"
             ],
             [
              0.8888888888888888,
              "#fdca26"
             ],
             [
              1,
              "#f0f921"
             ]
            ],
            "type": "heatmap"
           }
          ],
          "heatmapgl": [
           {
            "colorbar": {
             "outlinewidth": 0,
             "ticks": ""
            },
            "colorscale": [
             [
              0,
              "#0d0887"
             ],
             [
              0.1111111111111111,
              "#46039f"
             ],
             [
              0.2222222222222222,
              "#7201a8"
             ],
             [
              0.3333333333333333,
              "#9c179e"
             ],
             [
              0.4444444444444444,
              "#bd3786"
             ],
             [
              0.5555555555555556,
              "#d8576b"
             ],
             [
              0.6666666666666666,
              "#ed7953"
             ],
             [
              0.7777777777777778,
              "#fb9f3a"
             ],
             [
              0.8888888888888888,
              "#fdca26"
             ],
             [
              1,
              "#f0f921"
             ]
            ],
            "type": "heatmapgl"
           }
          ],
          "histogram": [
           {
            "marker": {
             "pattern": {
              "fillmode": "overlay",
              "size": 10,
              "solidity": 0.2
             }
            },
            "type": "histogram"
           }
          ],
          "histogram2d": [
           {
            "colorbar": {
             "outlinewidth": 0,
             "ticks": ""
            },
            "colorscale": [
             [
              0,
              "#0d0887"
             ],
             [
              0.1111111111111111,
              "#46039f"
             ],
             [
              0.2222222222222222,
              "#7201a8"
             ],
             [
              0.3333333333333333,
              "#9c179e"
             ],
             [
              0.4444444444444444,
              "#bd3786"
             ],
             [
              0.5555555555555556,
              "#d8576b"
             ],
             [
              0.6666666666666666,
              "#ed7953"
             ],
             [
              0.7777777777777778,
              "#fb9f3a"
             ],
             [
              0.8888888888888888,
              "#fdca26"
             ],
             [
              1,
              "#f0f921"
             ]
            ],
            "type": "histogram2d"
           }
          ],
          "histogram2dcontour": [
           {
            "colorbar": {
             "outlinewidth": 0,
             "ticks": ""
            },
            "colorscale": [
             [
              0,
              "#0d0887"
             ],
             [
              0.1111111111111111,
              "#46039f"
             ],
             [
              0.2222222222222222,
              "#7201a8"
             ],
             [
              0.3333333333333333,
              "#9c179e"
             ],
             [
              0.4444444444444444,
              "#bd3786"
             ],
             [
              0.5555555555555556,
              "#d8576b"
             ],
             [
              0.6666666666666666,
              "#ed7953"
             ],
             [
              0.7777777777777778,
              "#fb9f3a"
             ],
             [
              0.8888888888888888,
              "#fdca26"
             ],
             [
              1,
              "#f0f921"
             ]
            ],
            "type": "histogram2dcontour"
           }
          ],
          "mesh3d": [
           {
            "colorbar": {
             "outlinewidth": 0,
             "ticks": ""
            },
            "type": "mesh3d"
           }
          ],
          "parcoords": [
           {
            "line": {
             "colorbar": {
              "outlinewidth": 0,
              "ticks": ""
             }
            },
            "type": "parcoords"
           }
          ],
          "pie": [
           {
            "automargin": true,
            "type": "pie"
           }
          ],
          "scatter": [
           {
            "fillpattern": {
             "fillmode": "overlay",
             "size": 10,
             "solidity": 0.2
            },
            "type": "scatter"
           }
          ],
          "scatter3d": [
           {
            "line": {
             "colorbar": {
              "outlinewidth": 0,
              "ticks": ""
             }
            },
            "marker": {
             "colorbar": {
              "outlinewidth": 0,
              "ticks": ""
             }
            },
            "type": "scatter3d"
           }
          ],
          "scattercarpet": [
           {
            "marker": {
             "colorbar": {
              "outlinewidth": 0,
              "ticks": ""
             }
            },
            "type": "scattercarpet"
           }
          ],
          "scattergeo": [
           {
            "marker": {
             "colorbar": {
              "outlinewidth": 0,
              "ticks": ""
             }
            },
            "type": "scattergeo"
           }
          ],
          "scattergl": [
           {
            "marker": {
             "colorbar": {
              "outlinewidth": 0,
              "ticks": ""
             }
            },
            "type": "scattergl"
           }
          ],
          "scattermapbox": [
           {
            "marker": {
             "colorbar": {
              "outlinewidth": 0,
              "ticks": ""
             }
            },
            "type": "scattermapbox"
           }
          ],
          "scatterpolar": [
           {
            "marker": {
             "colorbar": {
              "outlinewidth": 0,
              "ticks": ""
             }
            },
            "type": "scatterpolar"
           }
          ],
          "scatterpolargl": [
           {
            "marker": {
             "colorbar": {
              "outlinewidth": 0,
              "ticks": ""
             }
            },
            "type": "scatterpolargl"
           }
          ],
          "scatterternary": [
           {
            "marker": {
             "colorbar": {
              "outlinewidth": 0,
              "ticks": ""
             }
            },
            "type": "scatterternary"
           }
          ],
          "surface": [
           {
            "colorbar": {
             "outlinewidth": 0,
             "ticks": ""
            },
            "colorscale": [
             [
              0,
              "#0d0887"
             ],
             [
              0.1111111111111111,
              "#46039f"
             ],
             [
              0.2222222222222222,
              "#7201a8"
             ],
             [
              0.3333333333333333,
              "#9c179e"
             ],
             [
              0.4444444444444444,
              "#bd3786"
             ],
             [
              0.5555555555555556,
              "#d8576b"
             ],
             [
              0.6666666666666666,
              "#ed7953"
             ],
             [
              0.7777777777777778,
              "#fb9f3a"
             ],
             [
              0.8888888888888888,
              "#fdca26"
             ],
             [
              1,
              "#f0f921"
             ]
            ],
            "type": "surface"
           }
          ],
          "table": [
           {
            "cells": {
             "fill": {
              "color": "#EBF0F8"
             },
             "line": {
              "color": "white"
             }
            },
            "header": {
             "fill": {
              "color": "#C8D4E3"
             },
             "line": {
              "color": "white"
             }
            },
            "type": "table"
           }
          ]
         },
         "layout": {
          "annotationdefaults": {
           "arrowcolor": "#2a3f5f",
           "arrowhead": 0,
           "arrowwidth": 1
          },
          "autotypenumbers": "strict",
          "coloraxis": {
           "colorbar": {
            "outlinewidth": 0,
            "ticks": ""
           }
          },
          "colorscale": {
           "diverging": [
            [
             0,
             "#8e0152"
            ],
            [
             0.1,
             "#c51b7d"
            ],
            [
             0.2,
             "#de77ae"
            ],
            [
             0.3,
             "#f1b6da"
            ],
            [
             0.4,
             "#fde0ef"
            ],
            [
             0.5,
             "#f7f7f7"
            ],
            [
             0.6,
             "#e6f5d0"
            ],
            [
             0.7,
             "#b8e186"
            ],
            [
             0.8,
             "#7fbc41"
            ],
            [
             0.9,
             "#4d9221"
            ],
            [
             1,
             "#276419"
            ]
           ],
           "sequential": [
            [
             0,
             "#0d0887"
            ],
            [
             0.1111111111111111,
             "#46039f"
            ],
            [
             0.2222222222222222,
             "#7201a8"
            ],
            [
             0.3333333333333333,
             "#9c179e"
            ],
            [
             0.4444444444444444,
             "#bd3786"
            ],
            [
             0.5555555555555556,
             "#d8576b"
            ],
            [
             0.6666666666666666,
             "#ed7953"
            ],
            [
             0.7777777777777778,
             "#fb9f3a"
            ],
            [
             0.8888888888888888,
             "#fdca26"
            ],
            [
             1,
             "#f0f921"
            ]
           ],
           "sequentialminus": [
            [
             0,
             "#0d0887"
            ],
            [
             0.1111111111111111,
             "#46039f"
            ],
            [
             0.2222222222222222,
             "#7201a8"
            ],
            [
             0.3333333333333333,
             "#9c179e"
            ],
            [
             0.4444444444444444,
             "#bd3786"
            ],
            [
             0.5555555555555556,
             "#d8576b"
            ],
            [
             0.6666666666666666,
             "#ed7953"
            ],
            [
             0.7777777777777778,
             "#fb9f3a"
            ],
            [
             0.8888888888888888,
             "#fdca26"
            ],
            [
             1,
             "#f0f921"
            ]
           ]
          },
          "colorway": [
           "#636efa",
           "#EF553B",
           "#00cc96",
           "#ab63fa",
           "#FFA15A",
           "#19d3f3",
           "#FF6692",
           "#B6E880",
           "#FF97FF",
           "#FECB52"
          ],
          "font": {
           "color": "#2a3f5f"
          },
          "geo": {
           "bgcolor": "white",
           "lakecolor": "white",
           "landcolor": "#E5ECF6",
           "showlakes": true,
           "showland": true,
           "subunitcolor": "white"
          },
          "hoverlabel": {
           "align": "left"
          },
          "hovermode": "closest",
          "mapbox": {
           "style": "light"
          },
          "paper_bgcolor": "white",
          "plot_bgcolor": "#E5ECF6",
          "polar": {
           "angularaxis": {
            "gridcolor": "white",
            "linecolor": "white",
            "ticks": ""
           },
           "bgcolor": "#E5ECF6",
           "radialaxis": {
            "gridcolor": "white",
            "linecolor": "white",
            "ticks": ""
           }
          },
          "scene": {
           "xaxis": {
            "backgroundcolor": "#E5ECF6",
            "gridcolor": "white",
            "gridwidth": 2,
            "linecolor": "white",
            "showbackground": true,
            "ticks": "",
            "zerolinecolor": "white"
           },
           "yaxis": {
            "backgroundcolor": "#E5ECF6",
            "gridcolor": "white",
            "gridwidth": 2,
            "linecolor": "white",
            "showbackground": true,
            "ticks": "",
            "zerolinecolor": "white"
           },
           "zaxis": {
            "backgroundcolor": "#E5ECF6",
            "gridcolor": "white",
            "gridwidth": 2,
            "linecolor": "white",
            "showbackground": true,
            "ticks": "",
            "zerolinecolor": "white"
           }
          },
          "shapedefaults": {
           "line": {
            "color": "#2a3f5f"
           }
          },
          "ternary": {
           "aaxis": {
            "gridcolor": "white",
            "linecolor": "white",
            "ticks": ""
           },
           "baxis": {
            "gridcolor": "white",
            "linecolor": "white",
            "ticks": ""
           },
           "bgcolor": "#E5ECF6",
           "caxis": {
            "gridcolor": "white",
            "linecolor": "white",
            "ticks": ""
           }
          },
          "title": {
           "x": 0.05
          },
          "xaxis": {
           "automargin": true,
           "gridcolor": "white",
           "linecolor": "white",
           "ticks": "",
           "title": {
            "standoff": 15
           },
           "zerolinecolor": "white",
           "zerolinewidth": 2
          },
          "yaxis": {
           "automargin": true,
           "gridcolor": "white",
           "linecolor": "white",
           "ticks": "",
           "title": {
            "standoff": 15
           },
           "zerolinecolor": "white",
           "zerolinewidth": 2
          }
         }
        },
        "title": {
         "text": "Values in each complaint"
        },
        "xaxis": {
         "title": {
          "text": "Complaints"
         }
        },
        "yaxis": {
         "title": {
          "text": "Values"
         }
        }
       }
      }
     },
     "metadata": {},
     "output_type": "display_data"
    }
   ],
   "source": [
    "fig = go.Figure([go.Bar(x=y.value_counts().index, y=y.value_counts().tolist())])\n",
    "fig.update_layout(\n",
    "    title=\"Values in each complaint\",\n",
    "    xaxis_title=\"Complaints\",\n",
    "    yaxis_title=\"Values\")\n",
    "fig.show()"
   ]
  },
  {
   "cell_type": "code",
   "execution_count": 84,
   "metadata": {},
   "outputs": [
    {
     "name": "stdout",
     "output_type": "stream",
     "text": [
      "(316, 1818) (316,)\n",
      "(36, 1818) (36,)\n"
     ]
    }
   ],
   "source": [
    "SEED=246\n",
    "X_train,X_test,y_train,y_test=train_test_split(X, y, test_size=0.1, random_state=SEED, stratify=y)\n",
    "print(X_train.shape, y_train.shape)\n",
    "print(X_test.shape, y_test.shape)"
   ]
  },
  {
   "cell_type": "code",
   "execution_count": 91,
   "metadata": {},
   "outputs": [
    {
     "name": "stdout",
     "output_type": "stream",
     "text": [
      "CPU times: total: 0 ns\n",
      "Wall time: 14.5 ms\n",
      "\n",
      "Training Accuracy score: 0.9968354430379747\n",
      "Testing Accuracy score: 0.75\n"
     ]
    }
   ],
   "source": [
    "gnb = GaussianNB() \n",
    "%time gnb.fit(X_train, y_train)\n",
    "\n",
    "y_pred_train = gnb.predict(X_train)\n",
    "y_pred_test = gnb.predict(X_test)\n",
    "print(\"\\nTraining Accuracy score:\",accuracy_score(y_train, y_pred_train))\n",
    "print(\"Testing Accuracy score:\",accuracy_score(y_test, y_pred_test))"
   ]
  },
  {
   "cell_type": "code",
   "execution_count": 92,
   "metadata": {},
   "outputs": [
    {
     "name": "stdout",
     "output_type": "stream",
     "text": [
      "(47, 1818) (47,)\n"
     ]
    }
   ],
   "source": [
    "#testing on unseen data\n",
    "# test = pd.read_csv('testdata.csv')\n",
    "test['category'] = test.category.map({'rape':3, 'murder':2,'accident':1, 'theft':0}) # relevant is 1, not-relevant is 0 \n",
    "test['complaint'] = test['complaint'].apply(clean)\n",
    "docs = list(test['complaint'])\n",
    "tfidf_vectorizer_vectors = tfidf_vectorizer.transform(docs)\n",
    "docs = tfidf_vectorizer_vectors.toarray()\n",
    "testX = docs \n",
    "testy = test['category']\n",
    "print(testX.shape, testy.shape)"
   ]
  },
  {
   "cell_type": "code",
   "execution_count": 93,
   "metadata": {},
   "outputs": [
    {
     "name": "stdout",
     "output_type": "stream",
     "text": [
      "\n",
      "Testing Accuracy score: 0.7021276595744681\n"
     ]
    }
   ],
   "source": [
    "test_pred = gnb.predict(testX)\n",
    "print(\"\\nTesting Accuracy score:\",accuracy_score(testy, test_pred))\n"
   ]
  },
  {
   "cell_type": "code",
   "execution_count": 94,
   "metadata": {},
   "outputs": [
    {
     "name": "stdout",
     "output_type": "stream",
     "text": [
      "              precision    recall  f1-score   support\n",
      "\n",
      "        rape       0.78      0.78      0.78         9\n",
      "      murder       1.00      0.75      0.86         8\n",
      "    accident       0.60      0.67      0.63         9\n",
      "        rape       0.73      0.80      0.76        10\n",
      "\n",
      "    accuracy                           0.75        36\n",
      "   macro avg       0.78      0.75      0.76        36\n",
      "weighted avg       0.77      0.75      0.75        36\n",
      "\n"
     ]
    }
   ],
   "source": [
    "print(classification_report(y_test, y_pred_test, target_names=['rape', 'murder', 'accident', 'rape']))"
   ]
  },
  {
   "cell_type": "code",
   "execution_count": 95,
   "metadata": {},
   "outputs": [
    {
     "data": {
      "image/png": "[encoded data removed]",
      "text/plain": [
       "<Figure size 640x480 with 2 Axes>"
      ]
     },
     "metadata": {},
     "output_type": "display_data"
    }
   ],
   "source": [
    "cm = confusion_matrix(y_test, y_pred_test)\n",
    "# print('Confusion matrix\\n', cm)\n",
    "\n",
    "cm_matrix = pd.DataFrame(data=cm, columns=['rape', 'murder', 'accident', 'rape'], \n",
    "                        index=['rape', 'murder', 'accident', 'rape'])\n",
    "sns.heatmap(cm_matrix, annot=True, fmt='d', cmap='YlGnBu')\n",
    "plt.show()"
   ]
  },
  {
   "cell_type": "code",
   "execution_count": 36,
   "metadata": {},
   "outputs": [
    {
     "ename": "ValueError",
     "evalue": "multiclass format is not supported",
     "output_type": "error",
     "traceback": [
      "\u001b[1;31m---------------------------------------------------------------------------\u001b[0m",
      "\u001b[1;31mValueError\u001b[0m                                Traceback (most recent call last)",
      "Cell \u001b[1;32mIn[36], line 3\u001b[0m\n\u001b[0;32m      1\u001b[0m probs \u001b[39m=\u001b[39m gnb\u001b[39m.\u001b[39mpredict_proba(X_test)\n\u001b[0;32m      2\u001b[0m preds \u001b[39m=\u001b[39m probs[:,\u001b[39m1\u001b[39m]\n\u001b[1;32m----> 3\u001b[0m fpr, tpr, threshold \u001b[39m=\u001b[39m metrics\u001b[39m.\u001b[39;49mroc_curve(y_test, preds)\n\u001b[0;32m      4\u001b[0m roc_auc \u001b[39m=\u001b[39m metrics\u001b[39m.\u001b[39mauc(fpr, tpr)\n\u001b[0;32m      6\u001b[0m plt\u001b[39m.\u001b[39mtitle(\u001b[39m'\u001b[39m\u001b[39mReceiver Operating Characteristic\u001b[39m\u001b[39m'\u001b[39m)\n",
      "File \u001b[1;32mc:\\Users\\Garima\\AppData\\Local\\Programs\\Python\\Python38\\lib\\site-packages\\sklearn\\metrics\\_ranking.py:992\u001b[0m, in \u001b[0;36mroc_curve\u001b[1;34m(y_true, y_score, pos_label, sample_weight, drop_intermediate)\u001b[0m\n\u001b[0;32m    904\u001b[0m \u001b[39mdef\u001b[39;00m \u001b[39mroc_curve\u001b[39m(\n\u001b[0;32m    905\u001b[0m     y_true, y_score, \u001b[39m*\u001b[39m, pos_label\u001b[39m=\u001b[39m\u001b[39mNone\u001b[39;00m, sample_weight\u001b[39m=\u001b[39m\u001b[39mNone\u001b[39;00m, drop_intermediate\u001b[39m=\u001b[39m\u001b[39mTrue\u001b[39;00m\n\u001b[0;32m    906\u001b[0m ):\n\u001b[0;32m    907\u001b[0m \u001b[39m    \u001b[39m\u001b[39m\"\"\"Compute Receiver operating characteristic (ROC).\u001b[39;00m\n\u001b[0;32m    908\u001b[0m \n\u001b[0;32m    909\u001b[0m \u001b[39m    Note: this implementation is restricted to the binary classification task.\u001b[39;00m\n\u001b[1;32m   (...)\u001b[0m\n\u001b[0;32m    990\u001b[0m \u001b[39m    array([1.8 , 0.8 , 0.4 , 0.35, 0.1 ])\u001b[39;00m\n\u001b[0;32m    991\u001b[0m \u001b[39m    \"\"\"\u001b[39;00m\n\u001b[1;32m--> 992\u001b[0m     fps, tps, thresholds \u001b[39m=\u001b[39m _binary_clf_curve(\n\u001b[0;32m    993\u001b[0m         y_true, y_score, pos_label\u001b[39m=\u001b[39;49mpos_label, sample_weight\u001b[39m=\u001b[39;49msample_weight\n\u001b[0;32m    994\u001b[0m     )\n\u001b[0;32m    996\u001b[0m     \u001b[39m# Attempt to drop thresholds corresponding to points in between and\u001b[39;00m\n\u001b[0;32m    997\u001b[0m     \u001b[39m# collinear with other points. These are always suboptimal and do not\u001b[39;00m\n\u001b[0;32m    998\u001b[0m     \u001b[39m# appear on a plotted ROC curve (and thus do not affect the AUC).\u001b[39;00m\n\u001b[1;32m   (...)\u001b[0m\n\u001b[0;32m   1003\u001b[0m     \u001b[39m# but does not drop more complicated cases like fps = [1, 3, 7],\u001b[39;00m\n\u001b[0;32m   1004\u001b[0m     \u001b[39m# tps = [1, 2, 4]; there is no harm in keeping too many thresholds.\u001b[39;00m\n\u001b[0;32m   1005\u001b[0m     \u001b[39mif\u001b[39;00m drop_intermediate \u001b[39mand\u001b[39;00m \u001b[39mlen\u001b[39m(fps) \u001b[39m>\u001b[39m \u001b[39m2\u001b[39m:\n",
      "File \u001b[1;32mc:\\Users\\Garima\\AppData\\Local\\Programs\\Python\\Python38\\lib\\site-packages\\sklearn\\metrics\\_ranking.py:749\u001b[0m, in \u001b[0;36m_binary_clf_curve\u001b[1;34m(y_true, y_score, pos_label, sample_weight)\u001b[0m\n\u001b[0;32m    747\u001b[0m y_type \u001b[39m=\u001b[39m type_of_target(y_true, input_name\u001b[39m=\u001b[39m\u001b[39m\"\u001b[39m\u001b[39my_true\u001b[39m\u001b[39m\"\u001b[39m)\n\u001b[0;32m    748\u001b[0m \u001b[39mif\u001b[39;00m \u001b[39mnot\u001b[39;00m (y_type \u001b[39m==\u001b[39m \u001b[39m\"\u001b[39m\u001b[39mbinary\u001b[39m\u001b[39m\"\u001b[39m \u001b[39mor\u001b[39;00m (y_type \u001b[39m==\u001b[39m \u001b[39m\"\u001b[39m\u001b[39mmulticlass\u001b[39m\u001b[39m\"\u001b[39m \u001b[39mand\u001b[39;00m pos_label \u001b[39mis\u001b[39;00m \u001b[39mnot\u001b[39;00m \u001b[39mNone\u001b[39;00m)):\n\u001b[1;32m--> 749\u001b[0m     \u001b[39mraise\u001b[39;00m \u001b[39mValueError\u001b[39;00m(\u001b[39m\"\u001b[39m\u001b[39m{0}\u001b[39;00m\u001b[39m format is not supported\u001b[39m\u001b[39m\"\u001b[39m\u001b[39m.\u001b[39mformat(y_type))\n\u001b[0;32m    751\u001b[0m check_consistent_length(y_true, y_score, sample_weight)\n\u001b[0;32m    752\u001b[0m y_true \u001b[39m=\u001b[39m column_or_1d(y_true)\n",
      "\u001b[1;31mValueError\u001b[0m: multiclass format is not supported"
     ]
    }
   ],
   "source": [
    "probs = gnb.predict_proba(X_test)\n",
    "preds = probs[:,1]\n",
    "fpr, tpr, threshold = metrics.roc_curve(y_test, preds)\n",
    "roc_auc = metrics.auc(fpr, tpr)\n",
    "\n",
    "plt.title('Receiver Operating Characteristic')\n",
    "plt.plot(fpr, tpr, 'b', label = 'AUC = %0.2f' % roc_auc)\n",
    "plt.legend(loc = 'lower right')\n",
    "plt.plot([0, 1], [0, 1],'r--')\n",
    "plt.xlim([0, 1])\n",
    "plt.ylim([0, 1])\n",
    "plt.ylabel('True Positive Rate')\n",
    "plt.xlabel('False Positive Rate')\n",
    "plt.show()"
   ]
  },
  {
   "cell_type": "code",
   "execution_count": 96,
   "metadata": {},
   "outputs": [
    {
     "name": "stdout",
     "output_type": "stream",
     "text": [
      "              precision    recall  f1-score   support\n",
      "\n",
      "        rape       0.92      0.65      0.76        17\n",
      "      murder       0.69      1.00      0.81        11\n",
      "    accident       0.56      0.50      0.53        10\n",
      "       theft       0.60      0.67      0.63         9\n",
      "\n",
      "    accuracy                           0.70        47\n",
      "   macro avg       0.69      0.70      0.68        47\n",
      "weighted avg       0.73      0.70      0.70        47\n",
      "\n",
      "0.7021276595744681\n"
     ]
    }
   ],
   "source": [
    "print(classification_report(testy, test_pred, target_names=['rape', 'murder', 'accident', 'theft']))\n",
    "print(accuracy_score(testy, test_pred))"
   ]
  },
  {
   "cell_type": "code",
   "execution_count": 97,
   "metadata": {},
   "outputs": [
    {
     "data": {
      "image/png": "[encoded data removed]",
      "text/plain": [
       "<Figure size 640x480 with 2 Axes>"
      ]
     },
     "metadata": {},
     "output_type": "display_data"
    }
   ],
   "source": [
    "cm = confusion_matrix(testy, test_pred)\n",
    "# print('Confusion matrix\\n', cm)\n",
    "\n",
    "cm_matrix = pd.DataFrame(data=cm, columns=['rape', 'murder', 'accident', 'theft'], \n",
    "                        index=['rape', 'murder', 'accident', 'theft'])\n",
    "sns.heatmap(cm_matrix, annot=True, fmt='d', cmap='YlGnBu')\n",
    "plt.show()"
   ]
  },
  {
   "cell_type": "code",
   "execution_count": 98,
   "metadata": {},
   "outputs": [
    {
     "ename": "ValueError",
     "evalue": "multiclass format is not supported",
     "output_type": "error",
     "traceback": [
      "\u001b[1;31m---------------------------------------------------------------------------\u001b[0m",
      "\u001b[1;31mValueError\u001b[0m                                Traceback (most recent call last)",
      "Cell \u001b[1;32mIn[98], line 3\u001b[0m\n\u001b[0;32m      1\u001b[0m probs \u001b[39m=\u001b[39m gnb\u001b[39m.\u001b[39mpredict_proba(testX)\n\u001b[0;32m      2\u001b[0m preds \u001b[39m=\u001b[39m probs[:,\u001b[39m1\u001b[39m]\n\u001b[1;32m----> 3\u001b[0m fpr, tpr, threshold \u001b[39m=\u001b[39m metrics\u001b[39m.\u001b[39;49mroc_curve(testy, test_pred)\n\u001b[0;32m      4\u001b[0m roc_auc \u001b[39m=\u001b[39m metrics\u001b[39m.\u001b[39mauc(fpr, tpr)\n\u001b[0;32m      6\u001b[0m plt\u001b[39m.\u001b[39mtitle(\u001b[39m'\u001b[39m\u001b[39mReceiver Operating Characteristic\u001b[39m\u001b[39m'\u001b[39m)\n",
      "File \u001b[1;32mc:\\Users\\Garima\\AppData\\Local\\Programs\\Python\\Python38\\lib\\site-packages\\sklearn\\metrics\\_ranking.py:992\u001b[0m, in \u001b[0;36mroc_curve\u001b[1;34m(y_true, y_score, pos_label, sample_weight, drop_intermediate)\u001b[0m\n\u001b[0;32m    904\u001b[0m \u001b[39mdef\u001b[39;00m \u001b[39mroc_curve\u001b[39m(\n\u001b[0;32m    905\u001b[0m     y_true, y_score, \u001b[39m*\u001b[39m, pos_label\u001b[39m=\u001b[39m\u001b[39mNone\u001b[39;00m, sample_weight\u001b[39m=\u001b[39m\u001b[39mNone\u001b[39;00m, drop_intermediate\u001b[39m=\u001b[39m\u001b[39mTrue\u001b[39;00m\n\u001b[0;32m    906\u001b[0m ):\n\u001b[0;32m    907\u001b[0m \u001b[39m    \u001b[39m\u001b[39m\"\"\"Compute Receiver operating characteristic (ROC).\u001b[39;00m\n\u001b[0;32m    908\u001b[0m \n\u001b[0;32m    909\u001b[0m \u001b[39m    Note: this implementation is restricted to the binary classification task.\u001b[39;00m\n\u001b[1;32m   (...)\u001b[0m\n\u001b[0;32m    990\u001b[0m \u001b[39m    array([1.8 , 0.8 , 0.4 , 0.35, 0.1 ])\u001b[39;00m\n\u001b[0;32m    991\u001b[0m \u001b[39m    \"\"\"\u001b[39;00m\n\u001b[1;32m--> 992\u001b[0m     fps, tps, thresholds \u001b[39m=\u001b[39m _binary_clf_curve(\n\u001b[0;32m    993\u001b[0m         y_true, y_score, pos_label\u001b[39m=\u001b[39;49mpos_label, sample_weight\u001b[39m=\u001b[39;49msample_weight\n\u001b[0;32m    994\u001b[0m     )\n\u001b[0;32m    996\u001b[0m     \u001b[39m# Attempt to drop thresholds corresponding to points in between and\u001b[39;00m\n\u001b[0;32m    997\u001b[0m     \u001b[39m# collinear with other points. These are always suboptimal and do not\u001b[39;00m\n\u001b[0;32m    998\u001b[0m     \u001b[39m# appear on a plotted ROC curve (and thus do not affect the AUC).\u001b[39;00m\n\u001b[1;32m   (...)\u001b[0m\n\u001b[0;32m   1003\u001b[0m     \u001b[39m# but does not drop more complicated cases like fps = [1, 3, 7],\u001b[39;00m\n\u001b[0;32m   1004\u001b[0m     \u001b[39m# tps = [1, 2, 4]; there is no harm in keeping too many thresholds.\u001b[39;00m\n\u001b[0;32m   1005\u001b[0m     \u001b[39mif\u001b[39;00m drop_intermediate \u001b[39mand\u001b[39;00m \u001b[39mlen\u001b[39m(fps) \u001b[39m>\u001b[39m \u001b[39m2\u001b[39m:\n",
      "File \u001b[1;32mc:\\Users\\Garima\\AppData\\Local\\Programs\\Python\\Python38\\lib\\site-packages\\sklearn\\metrics\\_ranking.py:749\u001b[0m, in \u001b[0;36m_binary_clf_curve\u001b[1;34m(y_true, y_score, pos_label, sample_weight)\u001b[0m\n\u001b[0;32m    747\u001b[0m y_type \u001b[39m=\u001b[39m type_of_target(y_true, input_name\u001b[39m=\u001b[39m\u001b[39m\"\u001b[39m\u001b[39my_true\u001b[39m\u001b[39m\"\u001b[39m)\n\u001b[0;32m    748\u001b[0m \u001b[39mif\u001b[39;00m \u001b[39mnot\u001b[39;00m (y_type \u001b[39m==\u001b[39m \u001b[39m\"\u001b[39m\u001b[39mbinary\u001b[39m\u001b[39m\"\u001b[39m \u001b[39mor\u001b[39;00m (y_type \u001b[39m==\u001b[39m \u001b[39m\"\u001b[39m\u001b[39mmulticlass\u001b[39m\u001b[39m\"\u001b[39m \u001b[39mand\u001b[39;00m pos_label \u001b[39mis\u001b[39;00m \u001b[39mnot\u001b[39;00m \u001b[39mNone\u001b[39;00m)):\n\u001b[1;32m--> 749\u001b[0m     \u001b[39mraise\u001b[39;00m \u001b[39mValueError\u001b[39;00m(\u001b[39m\"\u001b[39m\u001b[39m{0}\u001b[39;00m\u001b[39m format is not supported\u001b[39m\u001b[39m\"\u001b[39m\u001b[39m.\u001b[39mformat(y_type))\n\u001b[0;32m    751\u001b[0m check_consistent_length(y_true, y_score, sample_weight)\n\u001b[0;32m    752\u001b[0m y_true \u001b[39m=\u001b[39m column_or_1d(y_true)\n",
      "\u001b[1;31mValueError\u001b[0m: multiclass format is not supported"
     ]
    }
   ],
   "source": [
    "probs = gnb.predict_proba(testX)\n",
    "preds = probs[:,1]\n",
    "fpr, tpr, threshold = metrics.roc_curve(testy, test_pred)\n",
    "roc_auc = metrics.auc(fpr, tpr)\n",
    "\n",
    "plt.title('Receiver Operating Characteristic')\n",
    "plt.plot(fpr, tpr, 'b', label = 'AUC = %0.2f' % roc_auc)\n",
    "plt.legend(loc = 'lower right')\n",
    "plt.plot([0, 1], [0, 1],'r--')\n",
    "plt.xlim([0, 1])\n",
    "plt.ylim([0, 1])\n",
    "plt.ylabel('True Positive Rate')\n",
    "plt.xlabel('False Positive Rate')\n",
    "plt.show()"
   ]
  },
  {
   "cell_type": "code",
   "execution_count": 99,
   "metadata": {},
   "outputs": [
    {
     "name": "stdout",
     "output_type": "stream",
     "text": [
      "CPU times: total: 31.2 ms\n",
      "Wall time: 12.7 ms\n",
      "\n",
      "Training Accuracy score: 0.990506329113924\n",
      "Testing Accuracy score: 0.8055555555555556\n"
     ]
    }
   ],
   "source": [
    "mnb = MultinomialNB() \n",
    "%time mnb.fit(X_train, y_train)\n",
    "\n",
    "y_pred_train = mnb.predict(X_train)\n",
    "y_pred_test = mnb.predict(X_test)\n",
    "print(\"\\nTraining Accuracy score:\",accuracy_score(y_train, y_pred_train))\n",
    "print(\"Testing Accuracy score:\",accuracy_score(y_test, y_pred_test))"
   ]
  },
  {
   "cell_type": "code",
   "execution_count": 100,
   "metadata": {},
   "outputs": [
    {
     "name": "stdout",
     "output_type": "stream",
     "text": [
      "\n",
      "Testing Accuracy score: 0.8085106382978723\n"
     ]
    }
   ],
   "source": [
    "test_pred = mnb.predict(testX)\n",
    "print(\"\\nTesting Accuracy score:\",accuracy_score(testy, test_pred))"
   ]
  },
  {
   "cell_type": "code",
   "execution_count": 101,
   "metadata": {},
   "outputs": [
    {
     "name": "stdout",
     "output_type": "stream",
     "text": [
      "              precision    recall  f1-score   support\n",
      "\n",
      "        rape       1.00      0.89      0.94         9\n",
      "      murder       0.89      1.00      0.94         8\n",
      "    accident       0.80      0.44      0.57         9\n",
      "       theft       0.64      0.90      0.75        10\n",
      "\n",
      "    accuracy                           0.81        36\n",
      "   macro avg       0.83      0.81      0.80        36\n",
      "weighted avg       0.83      0.81      0.80        36\n",
      "\n"
     ]
    }
   ],
   "source": [
    "print(classification_report(y_test, y_pred_test, target_names=['rape', 'murder', 'accident', 'theft']))"
   ]
  },
  {
   "cell_type": "code",
   "execution_count": 102,
   "metadata": {},
   "outputs": [
    {
     "name": "stdout",
     "output_type": "stream",
     "text": [
      "              precision    recall  f1-score   support\n",
      "\n",
      "        rape       0.92      0.65      0.76        17\n",
      "      murder       0.73      1.00      0.85        11\n",
      "    accident       0.89      0.80      0.84        10\n",
      "       theft       0.73      0.89      0.80         9\n",
      "\n",
      "    accuracy                           0.81        47\n",
      "   macro avg       0.82      0.83      0.81        47\n",
      "weighted avg       0.83      0.81      0.80        47\n",
      "\n",
      "0.8085106382978723\n"
     ]
    }
   ],
   "source": [
    "print(classification_report(testy, test_pred, target_names=['rape', 'murder', 'accident', 'theft']))\n",
    "print(accuracy_score(testy, test_pred))"
   ]
  },
  {
   "cell_type": "code",
   "execution_count": 103,
   "metadata": {},
   "outputs": [
    {
     "data": {
      "image/png": "[encoded data removed]",
      "text/plain": [
       "<Figure size 640x480 with 2 Axes>"
      ]
     },
     "metadata": {},
     "output_type": "display_data"
    }
   ],
   "source": [
    "cm = confusion_matrix(y_test, y_pred_test)\n",
    "# print('Confusion matrix\\n', cm)\n",
    "\n",
    "cm_matrix = pd.DataFrame(data=cm, columns=['rape', 'murder', 'accident', 'theft'], \n",
    "                        index=['rape', 'murder', 'accident', 'theft'])\n",
    "sns.heatmap(cm_matrix, annot=True, fmt='d', cmap='YlGnBu')\n",
    "plt.show()"
   ]
  },
  {
   "cell_type": "code",
   "execution_count": 104,
   "metadata": {},
   "outputs": [
    {
     "data": {
      "image/png": "[encoded data removed]",
      "text/plain": [
       "<Figure size 640x480 with 2 Axes>"
      ]
     },
     "metadata": {},
     "output_type": "display_data"
    }
   ],
   "source": [
    "cm = confusion_matrix(testy, test_pred)\n",
    "# print('Confusion matrix\\n', cm)\n",
    "\n",
    "cm_matrix = pd.DataFrame(data=cm, columns=['rape', 'murder', 'accident', 'theft'], \n",
    "                        index=['rape', 'murder', 'accident', 'theft'])\n",
    "sns.heatmap(cm_matrix, annot=True, fmt='d', cmap='YlGnBu')\n",
    "plt.show()"
   ]
  },
  {
   "cell_type": "code",
   "execution_count": 106,
   "metadata": {},
   "outputs": [
    {
     "name": "stdout",
     "output_type": "stream",
     "text": [
      "CPU times: total: 62.5 ms\n",
      "Wall time: 131 ms\n",
      "\n",
      "Training Accuracy score: 0.9936708860759493\n",
      "Testing Accuracy score: 0.8333333333333334\n"
     ]
    }
   ],
   "source": [
    "lr = LogisticRegression(random_state=SEED)\n",
    "%time lr.fit(X_train, y_train)\n",
    "\n",
    "y_pred_train = lr.predict(X_train)\n",
    "y_pred_test = lr.predict(X_test)\n",
    "print(\"\\nTraining Accuracy score:\",accuracy_score(y_train, y_pred_train))\n",
    "print(\"Testing Accuracy score:\",accuracy_score(y_test, y_pred_test))"
   ]
  },
  {
   "cell_type": "code",
   "execution_count": 107,
   "metadata": {},
   "outputs": [
    {
     "name": "stdout",
     "output_type": "stream",
     "text": [
      "\n",
      "Testing Accuracy score: 0.8297872340425532\n"
     ]
    }
   ],
   "source": [
    "test_pred = lr.predict(testX)\n",
    "print(\"\\nTesting Accuracy score:\",accuracy_score(testy, test_pred))"
   ]
  },
  {
   "cell_type": "code",
   "execution_count": 108,
   "metadata": {},
   "outputs": [
    {
     "name": "stdout",
     "output_type": "stream",
     "text": [
      "CPU times: total: 0 ns\n",
      "Wall time: 13.5 ms\n",
      "\n",
      "Training Accuracy score: 0.9968354430379747\n",
      "Testing Accuracy score: 0.8611111111111112\n"
     ]
    }
   ],
   "source": [
    "svc =  LinearSVC(class_weight='balanced') \n",
    "%time svc.fit(X_train, y_train)\n",
    "\n",
    "y_pred_train = svc.predict(X_train)\n",
    "y_pred_test = svc.predict(X_test)\n",
    "print(\"\\nTraining Accuracy score:\",accuracy_score(y_train, y_pred_train))\n",
    "print(\"Testing Accuracy score:\",accuracy_score(y_test, y_pred_test))"
   ]
  },
  {
   "cell_type": "code",
   "execution_count": 109,
   "metadata": {},
   "outputs": [
    {
     "name": "stdout",
     "output_type": "stream",
     "text": [
      "\n",
      "Testing Accuracy score: 0.8723404255319149\n"
     ]
    }
   ],
   "source": [
    "test_pred = svc.predict(testX)\n",
    "print(\"\\nTesting Accuracy score:\",accuracy_score(testy, test_pred))"
   ]
  },
  {
   "cell_type": "code",
   "execution_count": 110,
   "metadata": {},
   "outputs": [
    {
     "name": "stdout",
     "output_type": "stream",
     "text": [
      "CPU times: total: 46.9 ms\n",
      "Wall time: 35.4 ms\n",
      "\n",
      "Training Accuracy score: 1.0\n",
      "Testing Accuracy score: 0.7222222222222222\n"
     ]
    }
   ],
   "source": [
    "from sklearn.tree import DecisionTreeClassifier\n",
    "\n",
    "dt = DecisionTreeClassifier(random_state=SEED)\n",
    "%time dt.fit(X_train, y_train)\n",
    "\n",
    "y_pred_train = dt.predict(X_train)\n",
    "y_pred_test = dt.predict(X_test)\n",
    "print(\"\\nTraining Accuracy score:\",accuracy_score(y_train, y_pred_train))\n",
    "print(\"Testing Accuracy score:\",accuracy_score(y_test, y_pred_test))"
   ]
  },
  {
   "cell_type": "code",
   "execution_count": 111,
   "metadata": {},
   "outputs": [
    {
     "name": "stdout",
     "output_type": "stream",
     "text": [
      "\n",
      "Testing Accuracy score: 0.6170212765957447\n"
     ]
    }
   ],
   "source": [
    "test_pred = dt.predict(testX)\n",
    "print(\"\\nTesting Accuracy score:\",accuracy_score(testy, test_pred))"
   ]
  },
  {
   "cell_type": "code",
   "execution_count": 112,
   "metadata": {},
   "outputs": [
    {
     "name": "stdout",
     "output_type": "stream",
     "text": [
      "Training Accuracy score: 0.9968354430379747\n",
      "Testing Accuracy score: 0.8611111111111112\n"
     ]
    }
   ],
   "source": [
    "from sklearn.ensemble import VotingClassifier\n",
    "\n",
    "classifiers = [('Decision Tree', dt),\n",
    "               ('Logistic Regression', lr),\n",
    "                ('Naive Bayes', gnb)\n",
    "              ]\n",
    "vc = VotingClassifier(estimators=classifiers)\n",
    "# Fit 'vc' to the traing set and predict test set labels\n",
    "vc.fit(X_train, y_train)\n",
    "y_pred_train=vc.predict(X_train)\n",
    "y_pred_test = vc.predict(X_test)\n",
    "print(\"Training Accuracy score:\",accuracy_score(y_train, y_pred_train))\n",
    "print(\"Testing Accuracy score:\",accuracy_score(y_test, y_pred_test))"
   ]
  },
  {
   "cell_type": "code",
   "execution_count": 113,
   "metadata": {},
   "outputs": [
    {
     "name": "stdout",
     "output_type": "stream",
     "text": [
      "\n",
      "Testing Accuracy score: 0.8085106382978723\n"
     ]
    }
   ],
   "source": [
    "test_pred = vc.predict(testX)\n",
    "print(\"\\nTesting Accuracy score:\",accuracy_score(testy, test_pred))"
   ]
  }
 ],
 "metadata": {
  "kernelspec": {
   "display_name": "Python 3",
   "language": "python",
   "name": "python3"
  },
  "language_info": {
   "codemirror_mode": {
    "name": "ipython",
    "version": 3
   },
   "file_extension": ".py",
   "mimetype": "text/x-python",
   "name": "python",
   "nbconvert_exporter": "python",
   "pygments_lexer": "ipython3",
   "version": "3.8.0"
  },
  "orig_nbformat": 4
 },
 "nbformat": 4,
 "nbformat_minor": 2
}
