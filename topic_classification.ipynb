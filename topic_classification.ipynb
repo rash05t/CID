{
 "cells": [
  {
   "cell_type": "code",
   "execution_count": 1,
   "metadata": {},
   "outputs": [],
   "source": [
    "import pandas as pd\n",
    "#import nltk and sklearn\n",
    "import nltk\n",
    "from nltk.corpus import stopwords\n",
    "from nltk.stem import WordNetLemmatizer\n",
    "from nltk.tokenize import word_tokenize\n",
    "from sklearn.feature_extraction.text import TfidfVectorizer\n",
    "from sklearn.model_selection import train_test_split\n",
    "from sklearn.metrics import accuracy_score, confusion_matrix\n",
    "from sklearn.naive_bayes import MultinomialNB\n",
    "from sklearn.linear_model import LogisticRegression\n",
    "from sklearn.svm import SVC\n"
   ]
  },
  {
   "cell_type": "code",
   "execution_count": 2,
   "metadata": {},
   "outputs": [
    {
     "data": {
      "text/html": [
       "<div>\n",
       "<style scoped>\n",
       "    .dataframe tbody tr th:only-of-type {\n",
       "        vertical-align: middle;\n",
       "    }\n",
       "\n",
       "    .dataframe tbody tr th {\n",
       "        vertical-align: top;\n",
       "    }\n",
       "\n",
       "    .dataframe thead th {\n",
       "        text-align: right;\n",
       "    }\n",
       "</style>\n",
       "<table border=\"1\" class=\"dataframe\">\n",
       "  <thead>\n",
       "    <tr style=\"text-align: right;\">\n",
       "      <th></th>\n",
       "      <th>hindi</th>\n",
       "      <th>complaint</th>\n",
       "      <th>category</th>\n",
       "    </tr>\n",
       "  </thead>\n",
       "  <tbody>\n",
       "    <tr>\n",
       "      <th>0</th>\n",
       "      <td>गांव भालौठ (रोहतक) के पास एक कार को ट्रक ने पी...</td>\n",
       "      <td>NaN</td>\n",
       "      <td>accident</td>\n",
       "    </tr>\n",
       "    <tr>\n",
       "      <th>1</th>\n",
       "      <td>व्यक्ति ने बताया वह साइकिल पर घर जा रहा था कि ...</td>\n",
       "      <td>NaN</td>\n",
       "      <td>accident</td>\n",
       "    </tr>\n",
       "    <tr>\n",
       "      <th>2</th>\n",
       "      <td>पंचकूला में कर्जे से परेशान हो क्र एक आदमी ने ...</td>\n",
       "      <td>NaN</td>\n",
       "      <td>theft</td>\n",
       "    </tr>\n",
       "    <tr>\n",
       "      <th>3</th>\n",
       "      <td>बच्ची की मां ने बताया कि उसकी बेटा के एक सहपाठ...</td>\n",
       "      <td>NaN</td>\n",
       "      <td>rape</td>\n",
       "    </tr>\n",
       "    <tr>\n",
       "      <th>4</th>\n",
       "      <td>पंचकुला का रहना वाला आरोपी पवन कुमार, (जो वर्त...</td>\n",
       "      <td>NaN</td>\n",
       "      <td>theft</td>\n",
       "    </tr>\n",
       "    <tr>\n",
       "      <th>...</th>\n",
       "      <td>...</td>\n",
       "      <td>...</td>\n",
       "      <td>...</td>\n",
       "    </tr>\n",
       "    <tr>\n",
       "      <th>347</th>\n",
       "      <td>गांव खरकडा (हांसी) से एक क्रूजर गाड़ी जिसमें 6...</td>\n",
       "      <td>NaN</td>\n",
       "      <td>accident</td>\n",
       "    </tr>\n",
       "    <tr>\n",
       "      <th>348</th>\n",
       "      <td>शनिवार देर शाम को सेक्टर 14 में रहने वाले बजे ...</td>\n",
       "      <td>NaN</td>\n",
       "      <td>murder</td>\n",
       "    </tr>\n",
       "    <tr>\n",
       "      <th>349</th>\n",
       "      <td>मुकेश वासी चरखी दादरी अपनी पत्नी व बेटे के साथ...</td>\n",
       "      <td>NaN</td>\n",
       "      <td>accident</td>\n",
       "    </tr>\n",
       "    <tr>\n",
       "      <th>350</th>\n",
       "      <td>लड़की के परिवारवालों का कहना है कि आरोपी की भाभ...</td>\n",
       "      <td>NaN</td>\n",
       "      <td>rape</td>\n",
       "    </tr>\n",
       "    <tr>\n",
       "      <th>351</th>\n",
       "      <td>हरियाणा में सोनीपत के गोहाना में एक छात्रा के ...</td>\n",
       "      <td>NaN</td>\n",
       "      <td>rape</td>\n",
       "    </tr>\n",
       "  </tbody>\n",
       "</table>\n",
       "<p>352 rows × 3 columns</p>\n",
       "</div>"
      ],
      "text/plain": [
       "                                                 hindi  complaint  category\n",
       "0    गांव भालौठ (रोहतक) के पास एक कार को ट्रक ने पी...        NaN  accident\n",
       "1    व्यक्ति ने बताया वह साइकिल पर घर जा रहा था कि ...        NaN  accident\n",
       "2    पंचकूला में कर्जे से परेशान हो क्र एक आदमी ने ...        NaN     theft\n",
       "3    बच्ची की मां ने बताया कि उसकी बेटा के एक सहपाठ...        NaN      rape\n",
       "4    पंचकुला का रहना वाला आरोपी पवन कुमार, (जो वर्त...        NaN     theft\n",
       "..                                                 ...        ...       ...\n",
       "347  गांव खरकडा (हांसी) से एक क्रूजर गाड़ी जिसमें 6...        NaN  accident\n",
       "348  शनिवार देर शाम को सेक्टर 14 में रहने वाले बजे ...        NaN    murder\n",
       "349  मुकेश वासी चरखी दादरी अपनी पत्नी व बेटे के साथ...        NaN  accident\n",
       "350  लड़की के परिवारवालों का कहना है कि आरोपी की भाभ...        NaN      rape\n",
       "351  हरियाणा में सोनीपत के गोहाना में एक छात्रा के ...        NaN      rape\n",
       "\n",
       "[352 rows x 3 columns]"
      ]
     },
     "execution_count": 2,
     "metadata": {},
     "output_type": "execute_result"
    }
   ],
   "source": [
    "# complaints= pd.read_csv('complaint with manual labels.csv')\n",
    "complaints= pd.read_csv('shuffled data.csv')\n",
    "test= pd.read_csv('shuffled test.csv')\n",
    "complaints\n"
   ]
  },
  {
   "cell_type": "code",
   "execution_count": 3,
   "metadata": {},
   "outputs": [],
   "source": [
    "translated_data= pd.read_csv(\"translated data.csv\")\n",
    "translated_test = pd.read_csv(\"translated test.csv\")\n",
    "\n",
    "\n",
    "complaints['complaint'] = translated_data['complaint']\n",
    "test['complaint'] = translated_test['complaint']"
   ]
  },
  {
   "cell_type": "code",
   "execution_count": 4,
   "metadata": {},
   "outputs": [
    {
     "data": {
      "text/html": [
       "<div>\n",
       "<style scoped>\n",
       "    .dataframe tbody tr th:only-of-type {\n",
       "        vertical-align: middle;\n",
       "    }\n",
       "\n",
       "    .dataframe tbody tr th {\n",
       "        vertical-align: top;\n",
       "    }\n",
       "\n",
       "    .dataframe thead th {\n",
       "        text-align: right;\n",
       "    }\n",
       "</style>\n",
       "<table border=\"1\" class=\"dataframe\">\n",
       "  <thead>\n",
       "    <tr style=\"text-align: right;\">\n",
       "      <th></th>\n",
       "      <th>hindi</th>\n",
       "      <th>complaint</th>\n",
       "      <th>category</th>\n",
       "    </tr>\n",
       "  </thead>\n",
       "  <tbody>\n",
       "    <tr>\n",
       "      <th>0</th>\n",
       "      <td>गांव भालौठ (रोहतक) के पास एक कार को ट्रक ने पी...</td>\n",
       "      <td>A car was hit from behind by a truck near vill...</td>\n",
       "      <td>accident</td>\n",
       "    </tr>\n",
       "    <tr>\n",
       "      <th>1</th>\n",
       "      <td>व्यक्ति ने बताया वह साइकिल पर घर जा रहा था कि ...</td>\n",
       "      <td>The person told that he was going home on a bi...</td>\n",
       "      <td>accident</td>\n",
       "    </tr>\n",
       "    <tr>\n",
       "      <th>2</th>\n",
       "      <td>पंचकूला में कर्जे से परेशान हो क्र एक आदमी ने ...</td>\n",
       "      <td>Troubled by debt, a man along with his friend ...</td>\n",
       "      <td>theft</td>\n",
       "    </tr>\n",
       "    <tr>\n",
       "      <th>3</th>\n",
       "      <td>बच्ची की मां ने बताया कि उसकी बेटा के एक सहपाठ...</td>\n",
       "      <td>The girl's mother told that a classmate of her...</td>\n",
       "      <td>rape</td>\n",
       "    </tr>\n",
       "    <tr>\n",
       "      <th>4</th>\n",
       "      <td>पंचकुला का रहना वाला आरोपी पवन कुमार, (जो वर्त...</td>\n",
       "      <td>Accused Pawan Kumar, a resident of Panchkula, ...</td>\n",
       "      <td>theft</td>\n",
       "    </tr>\n",
       "  </tbody>\n",
       "</table>\n",
       "</div>"
      ],
      "text/plain": [
       "                                               hindi  \\\n",
       "0  गांव भालौठ (रोहतक) के पास एक कार को ट्रक ने पी...   \n",
       "1  व्यक्ति ने बताया वह साइकिल पर घर जा रहा था कि ...   \n",
       "2  पंचकूला में कर्जे से परेशान हो क्र एक आदमी ने ...   \n",
       "3  बच्ची की मां ने बताया कि उसकी बेटा के एक सहपाठ...   \n",
       "4  पंचकुला का रहना वाला आरोपी पवन कुमार, (जो वर्त...   \n",
       "\n",
       "                                           complaint  category  \n",
       "0  A car was hit from behind by a truck near vill...  accident  \n",
       "1  The person told that he was going home on a bi...  accident  \n",
       "2  Troubled by debt, a man along with his friend ...     theft  \n",
       "3  The girl's mother told that a classmate of her...      rape  \n",
       "4  Accused Pawan Kumar, a resident of Panchkula, ...     theft  "
      ]
     },
     "execution_count": 4,
     "metadata": {},
     "output_type": "execute_result"
    }
   ],
   "source": [
    "complaints.head()"
   ]
  },
  {
   "cell_type": "code",
   "execution_count": 7,
   "metadata": {},
   "outputs": [
    {
     "name": "stderr",
     "output_type": "stream",
     "text": [
      "[nltk_data] Downloading package punkt to\n",
      "[nltk_data]     C:\\Users\\Garima\\AppData\\Roaming\\nltk_data...\n",
      "[nltk_data]   Package punkt is already up-to-date!\n",
      "[nltk_data] Downloading package stopwords to\n",
      "[nltk_data]     C:\\Users\\Garima\\AppData\\Roaming\\nltk_data...\n",
      "[nltk_data]   Unzipping corpora\\stopwords.zip.\n"
     ]
    },
    {
     "data": {
      "text/plain": [
       "True"
      ]
     },
     "execution_count": 7,
     "metadata": {},
     "output_type": "execute_result"
    }
   ],
   "source": [
    "nltk.download('punkt')\n",
    "nltk.download('stopwords')"
   ]
  },
  {
   "cell_type": "code",
   "execution_count": 5,
   "metadata": {},
   "outputs": [],
   "source": [
    "import re\n",
    "import nltk\n",
    "\n",
    "# We need this dataset in order to use the tokenizer\n",
    "# nltk.download('punkt')\n",
    "from nltk.tokenize import word_tokenize\n",
    "\n",
    "# Also download the list of stopwords to filter out\n",
    "# nltk.download('stopwords')\n",
    "from nltk.corpus import stopwords\n",
    "\n",
    "from nltk.stem.porter import PorterStemmer\n",
    "stemmer = PorterStemmer()\n",
    "\n",
    "def process_text(text):\n",
    "    # Make all the strings lowercase and remove non alphabetic characters\n",
    "    text = re.sub('[^A-Za-z]', ' ', text.lower())\n",
    "\n",
    "    # Tokenize the text; this is, separate every sentence into a list of words\n",
    "    # Since the text is already split into sentences you don't have to call sent_tokenize\n",
    "    tokenized_text = word_tokenize(text)\n",
    "\n",
    "    # Remove the stopwords and stem each word to its root\n",
    "    clean_text = [\n",
    "        stemmer.stem(word) for word in tokenized_text\n",
    "        if word not in stopwords.words('english')\n",
    "    ]\n",
    "\n",
    "    # Remember, this final output is a list of words\n",
    "    return clean_text"
   ]
  },
  {
   "cell_type": "code",
   "execution_count": 6,
   "metadata": {},
   "outputs": [],
   "source": [
    "texts = complaints['complaint']\n",
    "topics = complaints['category']\n",
    "\n",
    "# Process the texts to so they are ready for training\n",
    "# But transform the list of words back to string format to feed it to sklearn\n",
    "texts = [\" \".join(process_text(text)) for text in texts]"
   ]
  },
  {
   "cell_type": "code",
   "execution_count": 7,
   "metadata": {},
   "outputs": [
    {
     "data": {
      "text/plain": [
       "['car hit behind truck near villag bhalauth rohtak peopl car die spot',\n",
       " 'person told go home bicycl white car came behind hit fell got injur',\n",
       " 'troubl debt man along friend loot girlfriend hous panchkula abscond robberi',\n",
       " 'girl mother told classmat son tri rape lunch break school matter sirsa',\n",
       " 'accus pawan kumar resid panchkula present resid rohini delhi live like lavish lifestyl two girlfriend one delhi nativ place one sushil agarw march complaint receiv given famili driver pawan kumar netaji subhash place drop amount rs lakh nephew offic way said money loot car near hindu rao hospit pawan kumar bmw tire chang driver question felt complic incid',\n",
       " 'kmp e kundli manesar palwal expressway pass bahadurgarh seen havoc speed two peopl die two separ accid soon incid report polic reach spot bodi brought gener hospit bahadurgarh postmortem ident person kill accid yet ascertain',\n",
       " 'car hit kavadiya near villag beed sotti kurukshetra brought lnjp hospit kurukshetra injur condit treatment went sangrur name kavadiya amar singh jinder singh resid sangrur punjab',\n",
       " 'famili return visit rajasthan gogamedi fell victim road accid badli gurugram road bahadurgarh haryana earli hour friday mourn spread villag hear news death eight famili member accid',\n",
       " 'accid took entir famili shiv kumar nagla anoop villag uttar pradesh shiv kumar entir famili perish accid famili return visit rajasthan gogamedi fell victim road accid bahadurgarh haryana earli hour friday gurugram road mourn spread villag hear news death eight famili member accid',\n",
       " 'dacoiti shop loot haryana karnal citi tonight unidentifi thiev stolen exist properti threaten shop owner custom per report incid took place around pm shop flood mani custom thiev wear mask lock return door gain control store oper',\n",
       " 'rewari district accus first lodg rent room tularam vihar coloni gang rape woman went hotel room rape',\n",
       " 'crimin ride bike loot lakh rupe strength arm loot fled toward turkey crimin fire spread panic personnel narrowli escap',\n",
       " 'year radaur yamuna nagar ambala stf team arrest accus abscond case robberi assault coupl along colleagu reward rs also place accus omprakash arrest becom headach area polic omprakash polic search last year',\n",
       " 'minor boy drown yamuna three peopl grab money yamunanagar tax kill accord famili may minor child lost three friend call taken away hour later friend drown famili deceas yamuna inform',\n",
       " 'mental ill insid govern hospit haryana yamunanagar district derang girl allegedli rape employe',\n",
       " 'man sentenc year prison repeatedli rape daughter',\n",
       " 'loot gang target state bank india atm manag save money reach time',\n",
       " 'panchkula youth return home work labor jammu kashmir rs friend brutal murder key luddo game among friend bet brutal kill young man knife broke forehead brick gone subhash return home work labor four day ago jammu kashmir cash around thousand rupe joe along friend monday even went market famili member worri return home late even meanwhil tuesday subhash bodi found build sabuni school stain blood howev later money also return four friend call subhash along got intox gave brutal murder sand knife crush brick',\n",
       " 'trailer driver held hostag haryana rewari rohtak highway rewari polic arrest three accus involv robberi truck arrest',\n",
       " 'year old girl thrash four men villag yamuna nagar haryana abduct hous taken isol place allegedli gangrap accord complaint lodg girl famili incid alon home saturday',\n",
       " 'dumper cyclist met accid villag makdauli khurd bridg rohtak panipat road cyclist shanki age year resid makdoli khurd die',\n",
       " 'case rape girl hostag haryana jind complaint polic girl told deepak forcibl took night novemb',\n",
       " 'person allegedli thrash sector faridabad haryana alleg murder four adelco mall area friday late night accus fight two peopl beat sahil armaan pappu shiv raju babul fled spot injur sent famili member taken hospit doctor declar sahil brought dead armaan treat',\n",
       " 'year old girl commit suicid alleg gangrap nuh haryana told peopl allegedli gang rape',\n",
       " 'unknown vehicl hit motorcycl near safidon road villag nirjan jind three children includ husband wife ride motorcycl die',\n",
       " 'dalit girl abduct gang rape kaithal haryana matter come fore',\n",
       " 'case dead bodi young man found water close mine khemaru villag june rel accus murder',\n",
       " 'privat bu go delhi ram two tourist buse park roadsid ambala chandigarh nation highway monday morn kill five peopl polic said passeng injur accid admit govern hospit ambala',\n",
       " 'murder done beat rod today morn around palwal murder took place',\n",
       " 'murder deputi superintend polic dsp surendra singh haryana truck hit dsp crush',\n",
       " 'year old pregnant woman allegedli gang rape gurgaon manesar rape case auto driver along two accomplic carri told incid took place may six month pregnant victim go hospit bicycl husband routin check',\n",
       " 'pain accid took place near ujhana bu stand narwana jind district car overturn due loss balanc two youth ride car kill third youth serious injur soon inform receiv polic reach spot start investig',\n",
       " 'villag villag kamach kheda jind go haridwar bath tata ace vehicl accid truck panipat sanoli road peopl injur die injur admit pgi rohtak',\n",
       " 'haryana boy rape two minor sister forc drink insecticid due die age four youth year',\n",
       " 'fierc collis school bu truck nuh hodal road children privat school travel children injur accid condit children said seriou injur children admit nearest hospit time two peopl die mani injur three vehicl collid palwal',\n",
       " 'husband kill wife stab hang death panchkula man allegedli kill wife stab mutual disput wednesday morn commit suicid hang',\n",
       " 'yamuna nagar person shot dead refus give fish',\n",
       " 'yamuna nagar young man shot dead disput land ownership disput murder',\n",
       " 'dead bodi woman recov check dam long time effort made identifi dead bodi',\n",
       " 'incid rohtak home district chief minist woman assault two boy accus rape',\n",
       " 'haryana sonepat district minor rape victim threw mud pour oil set fire girl taken pgi rohtak condit remain seriou',\n",
       " 'music teacher studi class iv renown school rewari district haryana case molest minor girl come fore',\n",
       " 'first gang rape woman shot woman critic condit due admit pgi case rohtak district haryana',\n",
       " 'overspe fortun car go toward basti climb divid uncontrol jump fell activa rider coupl flip side road',\n",
       " 'hisar woman kill children threw dead bodi bush',\n",
       " 'vijay three girl one boy woman told may vijay year old elder daughter came cri told father wrong thing month',\n",
       " 'news death person serious injur road accid come fore unknown person beggar mental disturb',\n",
       " 'pappu yadav came home night roam around wife mili singh daughter husband wife shot enter hous crimin alreadi ambush insid hous wife got three bullet incid crimin shot bullet head due die spot',\n",
       " 'arm miscreant attack newli wed coupl thursday night gurugram fire round young man die condit wife injur fire remain fragil',\n",
       " 'two youth live neighborhood trikha coloni faridabad district haryana seven year old girl allegedli gang rape babi girl seriou condit admit hospit',\n",
       " 'case like burari also come light faridabad adjac delhi citi four member christian famili commit suicid hang agraw societi took polic reach spot saturday open door bodi four trap insid met hang bodi bad condit suggest case suicid incid happen sever day back polic also receiv suicid note spot one held respons death',\n",
       " 'today mubarakpur delhi vehicl hit kavadi block kundli border sonipat find block known vehicl stop delhi border due said road accid precautionari measur haryana polic stop heavi vehicl rai vehicl stuck jam sent sonepat janti mode time delhi polic allow vehicl enter delhi',\n",
       " 'unidentifi thiev broke resid faridabad haryana tonight stole properti hous robberi incid took place around owner hous famili member sleep thiev enter resid break open main door hous close return door mask one would suspici thiev made away rich jewelleri larg amount cash expens cloth tri leav barricad materi hous would nois object',\n",
       " 'two car collid head ghaggar bridg near majri chowk panchkula due two youth kill one youth serious injur car admit pgi chandigarh',\n",
       " 'spirit reveng ex boyfriend first kidnap year old girl take kilomet car flinder south australia buri aliv rang inform given court hear',\n",
       " 'kavadi yadvindra som verma r jakhal mandi district fatehabad hit bike rider sabir r gangoh district saharanpur panchkula saharanpur road near villag tigra yamunanagar minor injuri taken civil hospit yamuna nagar treatment',\n",
       " 'came colleg five peopl car accord victim drag car drug knock unconsci rape condit victim told threw bush threw near went away',\n",
       " 'girl die well bhilapada road nadauti polic station karauli todabhim dead bodi found first gang rape girl kill pour acid possibl throw well',\n",
       " 'bhaini bhairo jatai villag kharesi banksi bedwa putthi five day ago three road stolen agricultur market board given complaint polic strang theft thrown open challeng polic',\n",
       " 'farmer beaten plant paddi govern land bahadurgarh murder',\n",
       " 'haryana jhajjar district polic arrest theft lakh incid took place april properti dealer place dev nagar bahadurgarh time incid took place properti dealer marriag ceremoni along famili gone attend accus thief accus theft gangrap earlier also case regist capit delhi haryana',\n",
       " 'fierc fire broke cotton thread factori locat kabadi road around today cotton thread machin kept factori destroy fire accord factori owner loss lakh rupe',\n",
       " 'polic got big success case theft may karnal haryana polic arrest accus arrest accus surpris tell stori pay',\n",
       " 'tonight roadway section incid took place haryana jind citi crimin intercept truck stolen valuabl date incid juli truck driver journey suddenli way block offend vehicl unknown thiev start attack truck',\n",
       " 'lover girlfriend togeth kill two innoc children girlfriend lover blood head support mother children love man use',\n",
       " 'main road panchkula car collid scooter half kilomet rakka kanganapul local town balachaur bypass',\n",
       " 'dharmendra paswan age year along son shivam age year resid shastri coloni samalkha panipat come toward samalkha motorcycl motorcycl got hit unknown vehicl kiwana samalkha villag due father son die',\n",
       " 'pain accid maud rampura road peopl includ car driver die spot woman car serious injur',\n",
       " 'face face collis bike kanina mahendragarh manjeet resid nahar took sister bike law place near narnaul go leav way near chelava villag bike come ahead hit kill manjit sister kill',\n",
       " 'man slit anoth man throat basi suspicion illicit relationship wife drank blood come throat touch mouth whole companion record incid',\n",
       " 'member team kavadi bring kavad ridwar hit speed tempo near villag maholi due doji ram son gangaram resid chauma polic station ramgarh brought kavad serious injur doji ram wife saroj bring kavad faint see husband condit saroj taken govern hospit ferozepur jhirka treatment doji ram also admit local hospit treatment doctor refer see seriou condit',\n",
       " 'case gurgaon six year old girl rape three peopl',\n",
       " 'live live relationship rent hous near satrod road person name dinesh siwani rape woman woman said dinesh use come collect instal bank loan ident hui later went hotel rape later pretend marri gave divorc well live rent hous last time came januari rape woman alleg felt also threaten kill',\n",
       " 'case gang rape minor girl come light bhiwani haryana hand dalit gang rape gonda',\n",
       " 'crore rupe loot gold loan compani yamunanagar kg gold robber took away lakh cash',\n",
       " 'kavadia injur truck collis palwal last night rasulpur chowk palwal kavadiy ghuveer son moriya age resid karauli rajasthan hit truck admit gener hospit palwal whose condit danger due broken kavad kavadiya administr arrang vehicl bring anoth kavad',\n",
       " 'fearless crimin shot twice retir teacher hisar kill die spot',\n",
       " 'year old daughter gang rape murder hindaun karauli district gang rape burn acid shoot dead bodi well heinou crime heart wrench incid taken place',\n",
       " 'mogi nand crimin shot tent shopkeep hous murder deceas identifi ajit kumar son vijay mahato done',\n",
       " 'villag fatehabad district father behead two son state intox pen',\n",
       " 'speed car hit bike panipat road jind district kill year old bike rider',\n",
       " 'neighbor girl call home wife rape accus kept girl scare complain rel',\n",
       " 'case dacoiti money worth rs crore buri hous crook one mobil could loot moreov caught three day incid also went',\n",
       " 'death school student rewari reason death innoc child chairman co director teacher school fact chairman cum director teacher innoc deceas school beat much girl lost life',\n",
       " 'pain accid took place thursday morn gurugram haryana girl go school father die road accid go scooti speed car rider hit',\n",
       " 'akit age year ravi age year resid villag kurad panipat run road lead villag kurad toward sunauli around hit unknown vehicl passeng took hospit declar dead doctor',\n",
       " 'driver ran away cash van one half crore rupe kept van also found miss went',\n",
       " 'scorpio ride robber rob axi bank cash van bahadurgarh fire indiscrimin three peopl serious injur fire driver polic station save rob ram cash van',\n",
       " 'rape dalit girl haryana polic arrest one accus liya state person involv gangrap',\n",
       " 'member team kavadi bring kavad ridwar hit speed tempo near villag maholi due doji ram son gangaram resid chauma polic station ramgarh brought kavad serious injur doji ram wife saroj bring kavad faint see husband condit saroj taken govern hospit ferozepur jhirka treatment doji ram also admit local hospit treatment doctor refer see seriou condit',\n",
       " 'miscreant loot express palwal friday night loot gold along silver cash urn passeng mother also loot taken took away',\n",
       " 'vishnu post home guard dighal chowki jhajjar finish duti go home motorcycl accid occur due abandon anim come front motorcycl near sunaria villag taken pgi rohtak doctor declar dead',\n",
       " 'due collis truck scorpio jhajjar gurugram road three youth ride scorpio kill',\n",
       " 'oppos illeg relationship panchkula prove burden woman case eccentr husband kill wife sharp weapon',\n",
       " 'news horrif road accid come fore kurukshetra told fierc collis car woman die peopl injur',\n",
       " 'shravan kumar yadav son parmanand yadav resid jind marri accord hindu custom relationship daughter mirdaul resid bhargama polic station area eight year ago husband alway use beat wife marriag husband insid hous wife throat slit sharp weapon due woman die sinc accus husband fled away home',\n",
       " 'year old man arrest rape two girl badshahpur area near gurugram haryana',\n",
       " 'encount polic miscreant robberi murder satna scumbag anand yadav kill anand yadav account liquor compani march involv murder mani seriou case like murder robberi regist head',\n",
       " 'alleg landlord gave girl intoxic cold drink mix gave drink due faint condit rape girl',\n",
       " 'samastipur girl shot return coach given refus talk killer enrag man shot girl die',\n",
       " 'truck ram pickup full kavadi near villag rahra karnal last night one kavadiya kill injur',\n",
       " 'woman rape domest help sector area gurugram haryana help accomplic keep daughter hostag sedat rob hous',\n",
       " 'major accid took place asahi bridg delhi jaipur highway rewari truck driver ram trail trolley follow sudden applic brake driver came windshield came tyre driver die spot polic regist case start investig',\n",
       " 'bhiwani mohammad zaid allegedli told rahul listen two brother stab sonu also injur clash',\n",
       " 'villag sonipat four miscreant along minor girl barg hous execut incid gangrap',\n",
       " 'woman said marri sunni resid pundri juli shortli marriag law start demand dowri demand met often beaten eventu law beat threw hous threaten dire consequ return wife accus husband rape',\n",
       " 'ankit vasi gubhana jhajjar die road accid baghpat come home kavad ankit health deterior way call two friend villag give kavad one friend go home sit motorcycl anoth friend motorcycl accid tempo near gauripul uttar pradesh aman die',\n",
       " 'loot basi pistol midnight sonpur',\n",
       " 'thiev commit theft phone shop villag puthar panipat district carri',\n",
       " 'day ago hisar bullion merchant go deposit money bank polic arrest robber case cash robberi rs lakh crore done',\n",
       " 'investig reveal two friend name pankaj jatin late birthday parti return night boy stop street everyth ask give victim ask give money boy beat badli beaten',\n",
       " 'seven accus gang rape year old girl haryana rewari made video viral six accus minor one adult seven accus five rel girl child week ago accus gang rape year old girl close school build incid came light video went viral',\n",
       " 'marri woman held hostag allegedli rape pretext marriag women polic station regist case person',\n",
       " 'two truck collid head sampla bypass rohtak delhi road person die spot person injur injur admit pgi rohtak',\n",
       " 'everyon must heard theft cash jewelri good vehicl maham area five day back three road stolen strang heist execut engin haryana agricultur market board given complaint polic appeal polic nab thief soon',\n",
       " 'young man came grip tractor trolley near shergarh villag indri die spot soon inform incid receiv polic reach spot start action take possess dead bodi',\n",
       " 'man allegedli shot villag sonipat district haryana kill two peopl disput start distribut water field father son kill',\n",
       " 'friday woman accus offic rank polic offic rape',\n",
       " 'pregnant woman die due excess bleed deliveri palwal haryana famili alleg happen due neglig doctor doctor open close woman stomach mani time caus blood flow lost life',\n",
       " 'rewari broad daylight ceo hous compani locat sector two day back polic disclos loot lakh rupe investig reveal hous rob daughter ceo compani given money boyfriend whole drama creat ceo daughter involv conspiraci alleg mask goon none boyfriend',\n",
       " 'young man commit suicid shoot restaur palwal',\n",
       " 'societi sector area gurugram women took lakh hous good cash worth rs stolen surprisingli within minut two women collect commemor coin old indian foreign coin silver coin home decor item collect foreign currenc collect expens pan rs lakh cash stolen taken away',\n",
       " 'haryana case alleg rape teenag girl abduct hous come light area jind citi polic station',\n",
       " 'kurukshetra truck collid tractor trolley four peopl die spot least eight peopl injur saturday night peopl travel tractor trolley go particip religi program villag habana truck come behind hit tractor trolley',\n",
       " 'case rape come gurgaon blind traine offic public sector bank guilti rape woman see',\n",
       " 'haryana faridabad district polic arrest woman seven month old girl investig start regist case two peopl connect alleg rape done',\n",
       " 'avinash pawar kill coupl robberi imprison year evad polic chang name address',\n",
       " 'dead bodi one half year old boy miss sinc friday ambala found bush meter away hous saturday matter mirpur ward number',\n",
       " 'bank robberi incid took place karnal citi haryana thiev enter bank loot cash',\n",
       " 'nh unknown vehicl hit swift car near villag bachini mahendergarh flyover person car taken civil hospit mahendergarh doctor declar peopl dead refer two rewari first aid',\n",
       " 'girl behav normal last day neighbor inquir told sexual harass neighbor inform polic offic said girl live father pataudi area death mother father sexual assault last month',\n",
       " 'girl student alleg rape said young man pornograph video photo make young man blackmail name photo',\n",
       " 'minor villag bhondsi polic station sohana sonepat haryana togeth two youth forcibl gang rape minor object accus badli injur stick minor reach home injur state rel admit privat hospit gurgaon matter statement famili member bhondsi polic file case accus vinod jasveer regist accus arrest yet',\n",
       " 'panipat gang expos help two rupe coin use loot train suddenli gang hit train run speed km use stop game loot two rupe use last three four minut',\n",
       " 'amritsar delhi road near kali paltan pul ambala canton hears lost balanc collid canter stand side road peopl dead bodi receiv minor injuri due nation highway jam minut',\n",
       " 'case robberi come petrol oper accord polic thursday peopl forcibl took lakh petrol pump oper forc arm loot rs',\n",
       " 'accus arrest rape case year old girl faridabad haryana abscond accus rikesh arrest crime branch nit charg narendra team badarpur border',\n",
       " 'incid rape woman come light two day ago palwal case math pur villag villag along woman went collect grass field young man rape',\n",
       " 'young man krishna kumar stab near railway station treat die incid youth murder miscreant robberi',\n",
       " 'broad daylight gurugram miscreant forc woman sit sun outsid hous gunpoint incid robberi woman captur cctv',\n",
       " 'woman district alleg two peopl kidnap kept field cruelti',\n",
       " 'hand land possess countri nd aiim rewari majra union health ministri way foundat stone aiim pave give inform union minist rao inderjit singh said tender also float boundari wall aiim soon work boundari wall aiim start rao said aiim project would benefit peopl health sector would also open new employ opportun sector',\n",
       " 'woman accept child alon home accus woman told neighbor told first time kavita left child alon home woman went vacat girl left alon home day girl found unconsci home th june statement said sign trauma girl declar dead spot given matter citi water',\n",
       " 'karnal husband kill wife child protest illeg relationship burn aliv husband famili member abscond becom',\n",
       " 'mawar arrest two peopl want robberi case allegedli shot video hooligan circul social media upload',\n",
       " 'miss marri woman jhajjar haryana strangl marri woman death given burnt along father hill tosham kill accus turn none husband',\n",
       " 'truck alto car collid near villag nivarsi pipli road ladwa kurukshetra district alto car rider matern uncl nephew die accid deceas identifi year old vika resid jhivarhedi shagun resid kathgarh',\n",
       " 'work akhil metal factori locat jadauda gate jagadhri yamunanagar labor die due break lift deceas resid rampur ghat gopiganj sant ravida nagar last year achhel live jagadhri gaushala coloni',\n",
       " 'krishna resid bharat coloni told complaint juli search mobil compani number googl get fiber connect spoke number came sent link got download help desk lakh thousand rupe withdrawn account',\n",
       " 'friday even near kheda bazar templ jagadhri yamunanagar haryana gold bangl stolen woman cut bag polic cctv ai look suspici women woman bought good gener store victim purchas',\n",
       " 'year old girl go tuition assault minor boy gohana delhi road kidnap girl allegedli rape insid car',\n",
       " 'bike stolen gang accus haryana panipat district case commit open',\n",
       " 'bhagat phool singh mahila vishwavidyalaya khanpur locat sonipat district young man work hostel mess first year student depart case gang rape three accomplic came light student return hostel librari outsid univers late even th may stay amit came white scorpio car forcibl drag car amit companion took student field went gang rape girl student alleg inform hostel warden said small matter keep happen need go polic point',\n",
       " 'lakh panchkula businessman came jalandhar punjab connect busi lakh rupe stolen loot car',\n",
       " 'alleg girl made unconsci friend friend mother hand peopl peopl gang rape girl night later left ran away',\n",
       " 'dead bodi youth found blood soak condit near jind identifi krishna kumar saini',\n",
       " 'year old woman brutal kill mutil bodi woman found condit eye goug tongu cut also attack privat part',\n",
       " 'jewelri worth lakh loot theft jewelri shop gurugram',\n",
       " 'kill marri woman jind law made bodi disappear',\n",
       " 'gothya badi villag situat haryana border nepales youth beat wife stick beaten death stick deceas woman resid mizoram live wife relationship nepali youth two half year',\n",
       " 'nepali woman live villag haryana allegedli gang rape five men front husband',\n",
       " 'panchkula kalyugi son brutal murder mother accus son engin profess lost job day back kill mother accus also threw nephew terrac nephew also die incid',\n",
       " 'accus bank robberi case tunnel gohana riyana commit suicid apart three accus theft got caught polic kg ornament recov',\n",
       " 'two peopl ride motorcycl die road accid palwal last late night pradeep age year go villag faridabad motorcycl wife manoj kumari age resid villag rajapur district hathra uttar pradesh reach villag sihaul near palwal palwal aligarh road canter hit motorcycl due motorcyclist die spot',\n",
       " 'reveal incid blind murder woman jind four accus arrest child abus taken protect',\n",
       " 'year old man brutal murder person disput year old man injur hit axe year old man brought hospit rel critic condit wound sadanand mandal one fatal attack took place',\n",
       " 'jind son kill mother get fed word incid said taken place june son becam upset listen mother fit anger son strangl mother death mother publicli given tola gold daughter law son marriag could give anyth daughter marriag mother worri mother use taunt son day give anyth sister dowri due son becam upset fit anger son kill mother strangl',\n",
       " 'year old dalit girl allegedli abduct sonepat haryana taken rape three men',\n",
       " 'coupl alleg mastermind multi crore robberi incid arrest time arrest mission pilgrimag site uttarakhand went bow success',\n",
       " 'dead bodi youth found insid bed nizamuddin area name young man kamal work domest help',\n",
       " 'car hit truck behind near villag bachini nation highway mahendergarh haryana four peopl includ two half year old girl woman man die spot accid apart year old boy woman serious injur',\n",
       " 'year old youth arrest rape minor rewari district tuesday arrest',\n",
       " 'furiou love affair jind famili member girl kill minor girl burn dead bodi',\n",
       " 'engin beaten death panchkula hide ident engin dastardli crimin also stone face crush',\n",
       " 'lakh rupe loot associ gunpoint polic investig reveal incid carri miscreant three gang search accus incid',\n",
       " 'premlata salvi murder daulat singh rajput lover woman illeg love affair accus reason murder quarrel plan kill prem thing made sit bike citi took hill strangl murder head badli stone dead bodi could identifi crush face',\n",
       " 'know woman alon rajpal live neighborhood visit late night enter hous forcibl took gag rape',\n",
       " 'employe compani rob tie hand feet palwal haryana incid come light strength weapon miscreant took employe hostag lock room empti pocket',\n",
       " 'dalit girl student studi karnal engin colleg alleg fellow student first rape mm creat',\n",
       " 'three miscreant enter medic shop gurugram tuesday morn start loot execut miscreant wore helmet hide face two cover face mask',\n",
       " 'sensat theft bank dig tunnel shop near yamunanagar incid come light miscreant dug hundr feet long tunnel shop bank enter bank tunnel clean thirti locker thiev complet incid execut plan',\n",
       " 'fatehabad case sexual exploit minor girl came light come',\n",
       " 'polic arrest year old man speed motorcycl arrest snatch woman chain interrog confess crime rais bail money jail son',\n",
       " 'miscreant enter panchkula rob sleep elderli coupl midnight year old man stone death scream deceas wife miscreant fled spot',\n",
       " 'haryana jind dalit minor brutal assault accus peopl start compar matter nirbhaya incid delhi accord polic accus first abduct year old girl later rape murder',\n",
       " 'year old girl kill road accid gurugram father got seriou injuri today gurmeet singh resid sector gurugram go scooti drop children rotari public school whose sector front market collid celerio vehicl year old girl die spot father gurmeet singh got seriou injuri taken hospit treatment',\n",
       " 'two bike ride miscreant talk mobil girl go snatch mobil ran away girl serious injur incid crime take action branch arrest accus',\n",
       " 'faridabad miscreant shot two peopl loot cash van',\n",
       " 'unknown vehicl hit scooti rider near villag chuwadianwali fazilka sub divis resid fazilka ride scooti die niec serious injur',\n",
       " 'rohtak district father two children go law hous ride motorcycl hit tractor brought rohtak pgi treatment die way time complaint matter given polic',\n",
       " 'gunpoint dalit woman dhadola jind district haryana case gangrap make mm come light three two accus arrest',\n",
       " 'unidentifi thiev stole valuabl worth lakh offic gurgaon haryana robberi offic morn court section robberi took place offici holiday offic employe present offic thiev sneak unnot break open main door offic deactiv secur system soon thiev enter insid offic secur personnel taken hostag local discuss began action face hidden mask help weapon thiev made away expens technic equip comput laptop financi document import materi kept offic apart thiev also stole cash kept offic',\n",
       " 'plywood businessman held hostag hous servant yamunanagar district case loot lakh accomplic',\n",
       " 'panchkula bride neighbor allegedli kill father eve wed year old raju allegedli kill deepadosi jisanu june victim brother law told report ritual eve wed accus along brother jijin two friend shyam manu attack bride famili marriag take place shivgiri famili accus come two year ago marriag propos victim daughter victim reject famili accus come two year ago marriag propos victim daughter victim reject',\n",
       " 'asi post dasuha polic station jasveer singh die road accid today morn return duti toward dasuha polic station unknown vehicl hit result death',\n",
       " 'villag bhaini khurd karnal villag put water bottl suddenli tractor hit child age year eye age year came tractor omprakash resid bhaini khurd leg broken admit park hospit karnal eye declar dead doctor injur omprakash treat doctor',\n",
       " 'incid took place monday six year old girl play two year old brother park near hous accus abduct park murder rape',\n",
       " 'victim return home yesterday afternoon buy veget market soon two arm miscreant enter hous follow miscreant oppos robberi pistol put templ badass woman hug broke gold chain ran away',\n",
       " 'five year old girl rape murder panchkula haryana',\n",
       " 'gang rape girl take hostag villag',\n",
       " 'monday two miscreant came ride motorcycl loot rs crore employe privat compani show countri made katta fled howev take prompt action polic arrest one accus within five hour robberi recov rs crore loot',\n",
       " 'deceas irfan abduct woman famili accus due old enmiti go famili accus took opportun today irfan brutal murder see',\n",
       " 'pain accid took place loharu halk bhiwani district accid three children die due drown pond age three year incid took place pond construct amrit sarovar scheme inform polic reach spot sent three bodi postmortem',\n",
       " 'sandeep yadav reach jeweleri shop chhoti bazar area carbin shop owner refus hand gold ornament fire shot',\n",
       " 'palwal haryana person lieuten armi within hour peopl kill differ place arrest psycho killer condit also seriou actual around clock tuesday night person came iron rod kept kill whoever saw way',\n",
       " 'mask dacoit raid hous retir section engin ramak lal loco late friday night pgi area south citi ramak wife indu srivastava taken hostag basi weapon knive',\n",
       " 'four muslim boy thrash local train near ballabhgarh thursday murder boy',\n",
       " 'haryana polic probe alleg rape woman west bengal two men took farmer protest site tikri border woman die hospit show symptom covid woman father alleg daughter rape gone tikri border member organ support farmer',\n",
       " 'haryana bahadurgarh year old innoc girl sexual assault young man tri make victim girl made nois strangl put death accus later threw dead bodi innoc girl bush abscond dead bodi innoc girl found panchayati land sankhol villag even found bush',\n",
       " 'haryana rohtak two bike ride youth die late tuesday night car collid bypass link jind hisar road',\n",
       " 'arm miscreant enter hous intent loot karnal haryana went coupl jump first floor save live coupl daughter tri catch miscreant stab ran away get miscreant caught cctv camera',\n",
       " 'robberi jewel showroom haryana rewari citi',\n",
       " 'minor girl abduct rape jind octob woman complain polic night octob tinku akalgarh villag abduct year old daughter hous went room empti field rape',\n",
       " 'rewari miscreant escap kill woman knife actual miscreant rob woman woman oppos miscreant adopt knife woman alon incid woman identifi year old darpan devi',\n",
       " 'basi complaint receiv girl mother polic told april peopl hous gone grandfath granddaught hous told time grandfath rape girl threaten kill told anyon howev return mother hous girl told everyth complaint given polic prem kumari investig offic women polic station said accus take action regist case dada',\n",
       " 'panchkula firoz banda use set scrap shop cad circl kill three companion firoz shot dead three miscreant',\n",
       " 'patel sajan kumar deliveri agent compani colleagu jigar patel way gurugram deliv rs lakh busi associ incid robberi happen',\n",
       " 'gang robberi dacoiti name sell herb panchkula',\n",
       " 'year old girl rape four month outsid school shopkeep year kept work babi girl somehow escap dread tortur could tell',\n",
       " 'year old youth serious injur bike collid destitut anim agroha hisar taken agroha medic colleg doctor declar dead get inform polic reach spot took bodi custodi sent postmortem',\n",
       " 'havoc high speed seen karnal indri road car driver hit two person due die spot collis strong vehicl badli damag',\n",
       " 'kavadiy hit canter near villag solpur nud angri kavadi block delhi alwar road today kaidiya dojiram son gangaram cast saini yasi chauma district alwar rajasthan reach near agon chowk villag solpur kavad canter hit admit hospit injur condit canter driver fled spot',\n",
       " 'kuldeep resid villag sampli deepak resid raliyawa friend go salhawa ride bike villag sampli go function meanwhil middl way high speed alto vehicl hit bike behind',\n",
       " 'case gang rape woman came light gurugram district haryana gang rape accus attack victim stomach knife injur done',\n",
       " 'hand feet employe work gunpoint hang wall tie ran away mare',\n",
       " 'haryana jind two accus arrest abduct girl student gangrap hurl casteist slur',\n",
       " 'come bhiwani toward kalanaur rohtak honda imag lost control crash tree near villag kharedi mor due two peopl car die peopl injur',\n",
       " 'thiev loot lakh hous umedgarh villag sonipat haryana spent money money woman build hous brother hous brought suspicion theft rais unknown youth came bike rai polic station regist case start investig',\n",
       " 'haryana polic alleg rape year old girl gurgaon arrest tantrik also former presid panchayat samiti spokesperson polic depart gave inform regard wednesday',\n",
       " 'robberi one crore rupe hous sweet merchant rewadi citi studi colleg polic carri incid robberi businessman hous case accus arrest good anoth abscond search accus total accus student kill two colleagu togeth incid execut accus commit crime watch video youtub execut',\n",
       " 'three pilgrim kill peopl injur road accid rohtak meham accid happen around pm hisar delhi highway contain collid pick vehicl devote go modinagar meerut uttar pradesh bagad dham rajasthan',\n",
       " 'convict son prosecutrix protect becam harass behav like anim rape mother drove commit suicid',\n",
       " 'anoth canter hit stand canter kavadi maujpur toll plaza near kgp expressway faridabad one kanwariya die injur endari nuh resid kanwadiya shailendra die spot injur admit human hospit ballabgarh canter driver fled canter regard mr date section ipc regist thana chayansa',\n",
       " 'girl told came contact accus rajesh last year live faridabad accus work privat compani live rent hous villag sihi accus rape sever time made video girl later came know accus marri wife live bihar rajesh start threaten girl start charg money share video social media humili girl sent obscen pictur brother matern uncl girl famili go period stress embarrass month',\n",
       " 'head shri ram ashram dak kanwar sangh die road accid late tuesday night ratia area fatehabad district cctv footag accid come fore activa collid thar scooter rider jump fell road sever feet away die spot due head injuri polic regist case thar driver take dead bodi custodi',\n",
       " 'young man repeatedli blackmail girl troubl blackmail girl took reveng lover way die day girlfriend burnt lover dead bodi pour petrol actual girlfriend nurs boyfriend use work compound retali nurs made lover sleep give overdos inject make unconsci day tri burn dead bodi pour petrol girlfriend took bone cloth anoth place burnt',\n",
       " 'year old girl gang rape haryana brutal murder decompos bodi rohtak district found',\n",
       " 'omiya locat chandni chowk four miscreant ride motorcycl yamunanagar stop cab enterpris deliveri agent associ basi gun bag full cash two lakh rupe seen loot',\n",
       " 'dead bodi year old girl found drain field titoli villag rohtak dead bodi girl found canal due less water canal dead bodi stuck untoward incid rule case privat part girl expos',\n",
       " 'sonepat husband strangl wife insist go home lockdown kill',\n",
       " 'accord horrif road accid near saan wali chungi citi heart girl serious injur speed car collis',\n",
       " 'bhavna name villag nathupur kundli polic station area sonipat haryana husband gaurav attack woman knife kin taken privat hospit sonepat condit remain critic ye bhavna resid villag nathupur sonepat got marri resid villag liwan wale gaurav done last month great fanfar feel first marriag came home celebr holi today went meet law pride reach made sit bike took field gaurav took field kill bhavna stab neck knife bhavna escap peopl ran toward villag bhavna mother said gaurav illicit relationship sister law due whole thing crime execut',\n",
       " 'girlfriend along husband brutal beat lover death prepar buri dead bodi midnight intent hide evid polic reach took dead bodi custodi took two includ girlfriend custodi',\n",
       " 'secur guard post madvi rohtak hit motorcycl naka point duti admit pgi rohtak injur condit die treatment',\n",
       " 'cia polic panipat district haryana arrest thiev accus arrest tube well field includ bike theft accus incid steal iron shutter plate cabl construct site open',\n",
       " 'bike rider kill brother injur car collid car sohna road palwal haryana hit car driver fled spot polic regist case hand dead bodi rel postmortem',\n",
       " 'case murder young man rewari santosh manoj weld work use drank alcohol togeth night controversi happen manoj hit santosh sever time head iron angl lie nearbi',\n",
       " 'rohtak district girl studi sixth class young man live neighborhood accus rape',\n",
       " 'horrif road accid took place jind panipat road tuesday afternoon five peopl famili die pain told peopl ride bike reach near desert villag hit canter deceas resid kharkada kalan hisar district whose dead bodi brought jind civil hospit postmortem',\n",
       " 'four peopl arrest connect shoot death two sister rk puram arrest polic gave inform revel made interrog four',\n",
       " 'three peopl girl return get aadhaar card made sonepat haryana allegedli rape',\n",
       " 'disput manoj yadav younger brother mantu yadav someth done time disput increas much mantu start fight elder brother manoj murder',\n",
       " 'collis haryana roadway bu kujar vehicl near villag igrah jind peopl travel kujar kill injur serious injur refer pgi rohtak admit civil hospit jind learn accid took place overtak cruiser driver deceas ravi age year librarian crsu resid madandedi hisar manoj age year hardeep age year vasiyan mundhal bhiwani sukhwind age year resid banda hedi mundal jind sanjay age year resid villag sivan kaithal rahul age year identifi kamod dadri vimla age year wife magan resid bhaklana hisar die treatment pgi',\n",
       " 'murder old man guard mango bhiwani old man guard mango garden murder',\n",
       " 'year old dalit woman allegedli gang rape rohtak event',\n",
       " 'teenag rape kill five year old girl panchkula haryana arrest friday',\n",
       " 'ladi tara troubl debt along accomplic manoj loot plan',\n",
       " 'famili yamuna nagar attend wed thiev took advantag opportun entir hous clean thiev stole valuabl worth lakh hous rajesh kumar work privat compani famili januari gone hoshiarpur attend marriag function thursday morn came back lock hous broken went insid saw everyth scatter thiev also broken lock cupboard kept insid hous thief stand hous motorcycl two led two ga cylind valuabl taken away rajesh accord kumar good worth two lakh rupe stolen',\n",
       " 'miscreant wear polic uniform thana nagal loot sugar mill loot truck came',\n",
       " 'nephew brutal murder matern aunt illeg relationship morn th june daughter search mother lalita murmu scream saw dead bodi mother lie nake soak blood backyard hous lalita murmu kill slit throat sharp weapon',\n",
       " 'four youth includ two real brother die tragic road accid near mandakola highway delhi vadodara expressway four youth resid shahjahanpur bareilli district sunday youth go visit balaji templ swift dezir car car went uncontrol collid pillar near mandakola highway',\n",
       " 'landlord accomplic lock tenant room way beaten death sound fight go room accus start music system loudli room injur hospit admit die treatment',\n",
       " 'robberi lakh rupe take elderli coupl hostag panchkula',\n",
       " 'man accus rape nine year old girl haryana gurugram threw hot milk child beat hard skull fractur went',\n",
       " 'man allegedli rape woman earlier haryana jind citi made porn video tell someon incid woman threaten dire consequ',\n",
       " 'dead bodi young man found hang tree near jind month ago kidnap',\n",
       " 'sonipat haryana youth first befriend victim rape made video threaten make viral widow commit suicid receiv threat',\n",
       " 'bike born robber first shot collect agent radiant compani go bank motorcycl want rob bag full money peopl pass nh start creat rucku',\n",
       " 'crimin shot dead secur guard bank robberi sonpur gave incid polic investig matter basi cctv',\n",
       " 'matter hisar citi neighborhood live live relationship woman accus pramod alia golu resid chuli khurd rape unnatur sex case regist alleg relationship woman alleg said year ago befriend instagram pramod pretext marriag kept rape continu also thrash complain return complaint pretext marriag got februari came home drunk rape',\n",
       " 'late wednesday night miscreant rob woman son move train loot later thrown move train critic condit admit privat hospit condit remain worrisom',\n",
       " 'new case bank robberi tunnel haryana gohana turn point come polic investig reveal four peopl also involv conspiraci rob bank arrest dig tunnel five thousand rupe given',\n",
       " 'incid vandal loot come light templ palwal attack vandal templ stole thousand pound cash valuabl donat box went',\n",
       " 'major incid theft come fore shastri coloni citi accus thief enter hous ladder cash rs lakh thousand clear hand accus wear shirt bodi',\n",
       " 'haryana yamuna nagar newli marri woman met husband rel tantrik allegedli gangrap woman father saturday kurukshetra accord complaint lodg marriag victim septemb year happen resid yamunanagar soon marriag law took father call said mental ill',\n",
       " 'two youth rape four youth molest rape tri kill tie mouth hand leg cloth throw villag pond famili member student reach search accus youth ran away',\n",
       " 'rohtak sunaria villag young man brutal murder street deceas identifi ravi mani mark knive found bodi ravi year old resid villag sunariya kalan use work driver neepura rohtak clock two three assail start stab ravi indiscrimin near pond near shiva templ due ravi die spot',\n",
       " 'pain accid took place even nation highway chhachhrauli yamunanagar tremend collis ashok leyland pickup truck due dozen peopl pickup injur taken hospit help two ambul',\n",
       " 'car met accid nation highway near villag pillukheda jind car driver shivraj resid villag jarana rajasthan suffer minor injuri',\n",
       " 'bumper car deceas open due start tie car stop roadsid tempo come behind crush',\n",
       " 'theft commit three hous villag bhagdana three hous stole gold silver jeweleri worth rs lakh cash went get inform polic reach spot inspect spot file complaint case theft regist',\n",
       " 'jain monk kill panchkula',\n",
       " 'betray love unnao girlfriend reach polic station poison front polic swallow step wood creat stir polic depart',\n",
       " 'hous femal judg post civil court locat district court complex thiev made away good worth lakh rupe break lock event time execut gone dehradun meet husband',\n",
       " 'rinku got drunk karnal around clock saturday night woke sleep daughter start ask mother daughter found answer lost temper beat daughter start beat sever daughter die spot',\n",
       " 'asi bhiwani dc haryana polic jhajjar district haryana gunman hous burgl thiev took cash jeweleri household item home stolen salhawa polic station regist case theft investig matter start',\n",
       " 'anger death youth accid palwal rel block delhi agra highway minut krishna alia kalu age gujjar resid kushalipur die hit unknown vehicl delhi agra highway polic explain got jam open',\n",
       " 'class girl student along two friend beaten five peopl haryana gurugram youth allegedli rape take hotel',\n",
       " 'mother kill year old child hisar peopl includ mother due illeg relationship bodi thrown side road allegedli kill child diya first attempt made kill give poison substanc death happen kill drown water',\n",
       " 'punjab haryana high court murthal gangrap case jat agit haryana polic reprimand high court said gangrap murthal evid',\n",
       " 'thiev stole cash good differ place narnaul thiev even hous god spare stole cash break glass pane templ went case report polic',\n",
       " 'narnaul youth assault businessman disput drive outsid shop fled toward main road stick hand',\n",
       " 'tire seven month ago near fauji dhaba delhi road rohtak haryana murder mohammad sadab resid bihar made punctur relat manendra alia munindra resid khijir nagar hardoi district work done cia ii arrest accus appear court saturday present',\n",
       " 'door room insid hous villag rai polic station area sonipat haryana three youth broke gang rape girl teenag mother complaint given polic',\n",
       " 'speed canter hit park car delhi jaipur highway accid canter drag car famili stand side distanc due includ children famili die tragic other injur admit nearbi hospit accid driver fled leav canter spot soon inform accid receiv sector polic station reach spot regist case start investig',\n",
       " 'cash deposit agenc cm new rajgaru nagar ludhiana robber loot rs crore offic incid took place howev inform incid robberi given polic got morn robber cash van stand outsid premis loot offic ran away',\n",
       " 'thiev stole jewelri worth crore panchkula diwali night',\n",
       " 'miscreant shot dead gangster kuldeep jaghina rajasthan today',\n",
       " 'tonight robberi incid bay citi haryana thiev broke jewelri store loot per report custom staff present shop time incid thiev enter store wear mask brandish gun',\n",
       " 'dead bodi young man recov room suspici circumst polic start investig murder suicid case incid panipat',\n",
       " 'gold jeweleri loot jeweleri shop major scam manipura district haryana incid took place last night shop owner gone away home take care shop accord sourc rig attempt made hatch four recoup scheme two men barg insid shop tie custom employe present shop threaten two men alreadi station dark color vehicl would help escap robber took away gold jeweleri mahshi ornament novelli restrain custom staff two robber wait outsid shop wait',\n",
       " 'man allegedli rape year old marri woman haryana ambala citi kidnap rape friendship woman social media later accus promis get woman job woman illeg alleg rape take hostag',\n",
       " 'thursday victim went friend hous stay night accus gave drink rape',\n",
       " 'mother son die horrif road accid near mangalor outpost incid told wednesday deceas identifi year old himanshu mother resid bhusli polic got post mortem done bodi hand rel time accus vehicl driver taken polic custodi start investig',\n",
       " 'arm robber break cash manag servic compani new rajguru nagar area loot huge amount offic robberi took place robber four secur guard cm secur attack compani cash abscond van full',\n",
       " 'shamdi villag sonipat old man sleep street brutal murder slit throat neighbor told famili deceas matter morn',\n",
       " 'akshay year old resid sirsa take kavad last night hit behind motorcycl near villag ban mod radaur kurukshetra taken chc ladwa due leg injuri',\n",
       " 'complaint regist regard unidentifi crimin element take away belong resid burglari hous residenti area hisar haryana tonight accord sourc theft happen night hous owner famili member sleep member crimin organ slowli care enter apart went room search belong thiev act swiftli loot jewelleri cash mobil phone valuabl resid woke morn investig theft regist complaint polic complaint',\n",
       " 'haryana panchkula woman alleg peopl held hostag kept rape four day peopl took hostag kept rape four day went look job held hostag guest hous chandigarh polic tomorrow complaint lodg alleg kept confin guest hous morni hill till juli accus took turn rape one accus known husband promis get job guest hous',\n",
       " 'haryana innoc girl die accid ganniki mor palwal aligarh road time three peopl includ woman serious injur undergo treatment polic regist case unknown driver',\n",
       " 'sonam agrotech cotton gin factori loot tuesday night khargon citi incid creat stir robber wear mask tight vest rob lakh robberi rs tight vest worn worker present factori robber gang pelt stone escap jump broken wall',\n",
       " 'news rape year old girl yamuna nagar haryana girl youth abduct name give lift car rape forest left',\n",
       " 'congress rajya sabha mp haryana shadil batra accus rape thought femal lawyer delhi made alleg',\n",
       " 'due mutual quarrel mirzapur villag young man die attack stick drop jetti',\n",
       " 'one villag near dadri headquart charkhi dadri district haryana case gang rape marri woman three youth',\n",
       " 'polic investig businessman servant murder lakh loot case yamuna nagar shravan singh murder sarabjit along associ sarabjit involv mani incid yamuna nagar also expos',\n",
       " 'pappu singh kill hit brick indira coloni faridabad crime accus suraj sunil dhode bunti golu bhalla etc arrest team branch raid search pappu singh set tea stall ymca accus firoz use give liquor pappu minor son vishnu pappu object firoz companion suraj sunil alia dhode bunti bhalla golu execut incid murder matter',\n",
       " 'asi attack knife area assail accus robberi asi take mayapuri polic station attack',\n",
       " 'armi fugit jawan made atm loot gang haryana punjab rob atm',\n",
       " 'swift car ram canter park road collis sever three friend badli crush car',\n",
       " 'panipat servant took master hostag loot hous incid took place wife gone stay sister hous day robberi left owner tie ran away',\n",
       " 'three men allegedli rape dalit woman move car gang rape took woman car narwana tohana road made sit',\n",
       " 'haryana roadway bu hit traffic policeman travel bike turn behind bella vista hotel sector panchkula policeman die accid age deceas policeman year name arun kumar mehra live famili raipurrani panchkula',\n",
       " 'theft lakh saral kendra locat mini secretariat karnal haryana thiev took away dvr evid wednesday night simpl center built small secretariat thiev made away cash worth lakh thiev broke locker everyth captur third eye e cctv camera case theft later thiev took away dvr record box cctv camera dvr surviv polic could got big clue',\n",
       " 'swift dzire car accid auto near villag dhana kalan delhi hisar road passeng auto injur sent home first aid civil hospit hansi',\n",
       " 'woman die accid near banchari villag nation highway palwal district husband serious injur complaint injur polic regist case unknown driver unknown vehicl polic hand dead bodi rel post mortem',\n",
       " 'thursday bhola left sweet shop say want give birth girl leav hous girl reach home till late even guardian start search famili girl child went bhola hous arriv rape year old girl hid bodi contain',\n",
       " 'boyfriend reach farmhous girlfriend three friend togeth made girl drink tea mix intoxic anymor boyfriend hand girl friend friend gang rape girl regain conscious boyfriend three friend matter fatehabad haryana',\n",
       " 'thiev loot lakh rupe break hous sector karnal haryana clean hand cash jewelri told first thiev broke hous drank alcohol sit stole valuabl hous landlord said lakh rupe stolen',\n",
       " 'accus commit rape year old minor girl arrest team women polic station ballabhgarh bihar case victim girl start remain ill go hospit octob found girl pregnant five month accus abscond soon came know girl pregnant',\n",
       " 'newli marri woman murder dowri jind attempt burn dead bodi',\n",
       " 'incid robberi accus made total rs lakh cash kg clean hand gold total valu gold loot accus crore told rs',\n",
       " 'speed canter took live three migrant labor jhajjar district haryana friday morn migrant labor along colleagu go gurugram jharli power plant scorpio vehicl search work accid happen reach near villag silani dozen migrant labor scorpio resid canter driver fled spot accid',\n",
       " 'divyang satpal live aichra kalan villag jind district haryana death wife along brother strangul death gave appear accid',\n",
       " 'two unknown tuesday gaur citi societi panchkula person knock door flat time woman famili child year thiev ask drink water hous enter loot good knife point',\n",
       " 'sandeep come sister law hous two day ago wife khushi come raghunathpura saturday morn around sandeep khushi disput someth kept plow agricultur machineri hous hit wife head khushi die spot',\n",
       " 'man kill wife lover suspicion illicit relationship gurugram along two companion carri heinou murder wife prime accus lost temper discov extra marit affair kill wife thrash k lover threw third floor build could murder shown suicid',\n",
       " 'friday even fight two parti minor argument regard drainag dirti water kaithal quarrel old man serious injur attack rod die treatment',\n",
       " 'case rape pregnant goat come light haryana haryana peopl rape pregnant goat mewat die went howev owner goat lodg complaint polic juli',\n",
       " 'model haryana repeatedli rape photograph shamli district western uttar pradesh pretext marriag',\n",
       " 'dead bodi young man lie field kaithal polic reach spot basi number motorcycl lie near dead bodi inform deceas youth collect youth identifi vika alia bunti kurukshetra district polic inform rel deceas rel identifi dead bodi famili member deceas youth alleg girlfriend jyoti call vika kurukshetra thrash laughingli',\n",
       " 'three passeng rob ola cab driver gurugram friday give inform polic said accus ask driver iphon wallet snatch base complaint file cab driver sachin kumar accord report incid took place sector around state complaint drop passeng gurugram railway station kumar got book ola app around pm three peopl got car got board',\n",
       " 'husband fatehabad woman file rape complaint anil brother law sunil along mother jump canal due brother die die',\n",
       " 'six month marriag thanesar newli marri woman hang commit suicid girl hail odisha marri youth thanesar marri fall love instagram',\n",
       " 'kidnap girl student garhi polic station area jind haryana case rape come fore',\n",
       " 'burnt bodi found suv car recov cow shed jind haryana blood stain junaid nasir kill haryana bharatpur resid junaid nasir char bodi found vehicl haryana bhiwani district februari famili deceas alleg member bajrang dal beat murder',\n",
       " 'grandfath servant rape kill year old girl incid carri parent gone',\n",
       " 'cruiser vehicl carri person villag kharkada hansi collid dwala stand side road driver coach tri save motorcyclist back near villag rampura nation highway hisar delhi road due person travel kajar die spot one woman injur sent medic colleg agroha',\n",
       " 'singh resid sector die saturday late even ride scooti go get milk near mill reach mill speed behind car hit scooti car drag metr',\n",
       " 'mukesh resid charkhi dadri along wife son go chuchchakwa toward charkhi dadri motorcycl hit unknown dumper behind mukesh die spot due collis wife rubi admit pgi rohtak mukesh son saurabh admit gener hospit jhajjar',\n",
       " 'famili member girl say sister law accus forc girl drink tea call made unconsci mix intoxic tea minor thrown roof rape',\n",
       " 'gangrap case girl student gohana sonepat haryana come four peopl along th class student went shop buy good gangrap godown']"
      ]
     },
     "execution_count": 7,
     "metadata": {},
     "output_type": "execute_result"
    }
   ],
   "source": [
    "texts"
   ]
  },
  {
   "cell_type": "code",
   "execution_count": 8,
   "metadata": {},
   "outputs": [],
   "source": [
    "from sklearn.feature_extraction.text import CountVectorizer\n",
    "matrix = CountVectorizer(max_features=1000)\n",
    "vectors = matrix.fit_transform(texts).toarray()"
   ]
  },
  {
   "cell_type": "code",
   "execution_count": 9,
   "metadata": {},
   "outputs": [
    {
     "name": "stdout",
     "output_type": "stream",
     "text": [
      "[[0 0 0 ... 0 0 0]\n",
      " [0 0 0 ... 0 0 0]\n",
      " [0 0 1 ... 0 0 0]\n",
      " ...\n",
      " [0 0 0 ... 0 0 0]\n",
      " [0 0 0 ... 0 0 0]\n",
      " [0 0 0 ... 0 0 0]]\n",
      "(352, 1000)\n"
     ]
    }
   ],
   "source": [
    "print(vectors)\n",
    "print(vectors.shape)"
   ]
  },
  {
   "cell_type": "code",
   "execution_count": 10,
   "metadata": {},
   "outputs": [],
   "source": [
    "from sklearn.model_selection import train_test_split\n",
    "vectors_train, vectors_val, topics_train, topics_val = train_test_split(vectors, topics, test_size=0.4)"
   ]
  },
  {
   "cell_type": "code",
   "execution_count": 11,
   "metadata": {},
   "outputs": [
    {
     "data": {
      "text/html": [
       "<style>#sk-container-id-1 {color: black;background-color: white;}#sk-container-id-1 pre{padding: 0;}#sk-container-id-1 div.sk-toggleable {background-color: white;}#sk-container-id-1 label.sk-toggleable__label {cursor: pointer;display: block;width: 100%;margin-bottom: 0;padding: 0.3em;box-sizing: border-box;text-align: center;}#sk-container-id-1 label.sk-toggleable__label-arrow:before {content: \"▸\";float: left;margin-right: 0.25em;color: #696969;}#sk-container-id-1 label.sk-toggleable__label-arrow:hover:before {color: black;}#sk-container-id-1 div.sk-estimator:hover label.sk-toggleable__label-arrow:before {color: black;}#sk-container-id-1 div.sk-toggleable__content {max-height: 0;max-width: 0;overflow: hidden;text-align: left;background-color: #f0f8ff;}#sk-container-id-1 div.sk-toggleable__content pre {margin: 0.2em;color: black;border-radius: 0.25em;background-color: #f0f8ff;}#sk-container-id-1 input.sk-toggleable__control:checked~div.sk-toggleable__content {max-height: 200px;max-width: 100%;overflow: auto;}#sk-container-id-1 input.sk-toggleable__control:checked~label.sk-toggleable__label-arrow:before {content: \"▾\";}#sk-container-id-1 div.sk-estimator input.sk-toggleable__control:checked~label.sk-toggleable__label {background-color: #d4ebff;}#sk-container-id-1 div.sk-label input.sk-toggleable__control:checked~label.sk-toggleable__label {background-color: #d4ebff;}#sk-container-id-1 input.sk-hidden--visually {border: 0;clip: rect(1px 1px 1px 1px);clip: rect(1px, 1px, 1px, 1px);height: 1px;margin: -1px;overflow: hidden;padding: 0;position: absolute;width: 1px;}#sk-container-id-1 div.sk-estimator {font-family: monospace;background-color: #f0f8ff;border: 1px dotted black;border-radius: 0.25em;box-sizing: border-box;margin-bottom: 0.5em;}#sk-container-id-1 div.sk-estimator:hover {background-color: #d4ebff;}#sk-container-id-1 div.sk-parallel-item::after {content: \"\";width: 100%;border-bottom: 1px solid gray;flex-grow: 1;}#sk-container-id-1 div.sk-label:hover label.sk-toggleable__label {background-color: #d4ebff;}#sk-container-id-1 div.sk-serial::before {content: \"\";position: absolute;border-left: 1px solid gray;box-sizing: border-box;top: 0;bottom: 0;left: 50%;z-index: 0;}#sk-container-id-1 div.sk-serial {display: flex;flex-direction: column;align-items: center;background-color: white;padding-right: 0.2em;padding-left: 0.2em;position: relative;}#sk-container-id-1 div.sk-item {position: relative;z-index: 1;}#sk-container-id-1 div.sk-parallel {display: flex;align-items: stretch;justify-content: center;background-color: white;position: relative;}#sk-container-id-1 div.sk-item::before, #sk-container-id-1 div.sk-parallel-item::before {content: \"\";position: absolute;border-left: 1px solid gray;box-sizing: border-box;top: 0;bottom: 0;left: 50%;z-index: -1;}#sk-container-id-1 div.sk-parallel-item {display: flex;flex-direction: column;z-index: 1;position: relative;background-color: white;}#sk-container-id-1 div.sk-parallel-item:first-child::after {align-self: flex-end;width: 50%;}#sk-container-id-1 div.sk-parallel-item:last-child::after {align-self: flex-start;width: 50%;}#sk-container-id-1 div.sk-parallel-item:only-child::after {width: 0;}#sk-container-id-1 div.sk-dashed-wrapped {border: 1px dashed gray;margin: 0 0.4em 0.5em 0.4em;box-sizing: border-box;padding-bottom: 0.4em;background-color: white;}#sk-container-id-1 div.sk-label label {font-family: monospace;font-weight: bold;display: inline-block;line-height: 1.2em;}#sk-container-id-1 div.sk-label-container {text-align: center;}#sk-container-id-1 div.sk-container {/* jupyter's `normalize.less` sets `[hidden] { display: none; }` but bootstrap.min.css set `[hidden] { display: none !important; }` so we also need the `!important` here to be able to override the default hidden behavior on the sphinx rendered scikit-learn.org. See: https://github.com/scikit-learn/scikit-learn/issues/21755 */display: inline-block !important;position: relative;}#sk-container-id-1 div.sk-text-repr-fallback {display: none;}</style><div id=\"sk-container-id-1\" class=\"sk-top-container\"><div class=\"sk-text-repr-fallback\"><pre>GaussianNB()</pre><b>In a Jupyter environment, please rerun this cell to show the HTML representation or trust the notebook. <br />On GitHub, the HTML representation is unable to render, please try loading this page with nbviewer.org.</b></div><div class=\"sk-container\" hidden><div class=\"sk-item\"><div class=\"sk-estimator sk-toggleable\"><input class=\"sk-toggleable__control sk-hidden--visually\" id=\"sk-estimator-id-1\" type=\"checkbox\" checked><label for=\"sk-estimator-id-1\" class=\"sk-toggleable__label sk-toggleable__label-arrow\">GaussianNB</label><div class=\"sk-toggleable__content\"><pre>GaussianNB()</pre></div></div></div></div></div>"
      ],
      "text/plain": [
       "GaussianNB()"
      ]
     },
     "execution_count": 11,
     "metadata": {},
     "output_type": "execute_result"
    }
   ],
   "source": [
    "from sklearn.naive_bayes import GaussianNB\n",
    "classifier = GaussianNB()\n",
    "classifier.fit(vectors_train, topics_train)"
   ]
  },
  {
   "cell_type": "code",
   "execution_count": 12,
   "metadata": {},
   "outputs": [
    {
     "name": "stdout",
     "output_type": "stream",
     "text": [
      "              precision    recall  f1-score   support\n",
      "\n",
      "    accident       0.89      0.81      0.85        31\n",
      "      murder       0.54      0.66      0.59        32\n",
      "        rape       0.82      0.79      0.80        42\n",
      "       theft       0.85      0.81      0.83        36\n",
      "\n",
      "    accuracy                           0.77       141\n",
      "   macro avg       0.78      0.76      0.77       141\n",
      "weighted avg       0.78      0.77      0.77       141\n",
      "\n"
     ]
    }
   ],
   "source": [
    "# Predict with the testing set\n",
    "topics_pred = classifier.predict(vectors_val)\n",
    "\n",
    "# ...and measure the accuracy of the results\n",
    "from sklearn.metrics import classification_report\n",
    "print(classification_report(topics_val, topics_pred))"
   ]
  },
  {
   "cell_type": "code",
   "execution_count": 13,
   "metadata": {},
   "outputs": [],
   "source": [
    "newcomplaints = [\n",
    "    \"I was a victim of theft. My wallet got stolen.\",\n",
    "    \"I witnessed a car accident on Main Street.\",\n",
    "    \"My sister has been killed .\",\n",
    "    \"my package worth 50$ was stolen.\",\n",
    "    \"There has been a murder in my neighborhood. Please investigate.\",\n",
    "    \"I suspect my coworker of stealing office supplies.\",\n",
    "]\n",
    "\n",
    "newvectors = matrix.transform(newcomplaints).toarray()"
   ]
  },
  {
   "cell_type": "code",
   "execution_count": 14,
   "metadata": {},
   "outputs": [
    {
     "data": {
      "text/plain": [
       "[array(['theft', 'theft', 'rape', 'theft', 'rape', 'rape'], dtype='<U8')]"
      ]
     },
     "execution_count": 14,
     "metadata": {},
     "output_type": "execute_result"
    }
   ],
   "source": [
    "predictions= [classifier.predict(newvectors)]\n",
    "predictions"
   ]
  },
  {
   "cell_type": "code",
   "execution_count": 17,
   "metadata": {},
   "outputs": [],
   "source": [
    "#test on test data\n",
    "# test= pd.read_csv('testdata.csv')\n",
    "complaints= test['complaint']\n",
    "newvectors = matrix.transform(complaints).toarray()\n",
    "predictions= classifier.predict(newvectors)\n",
    "# predictions= predictions.reshape(-1,1)\n",
    "# predictions"
   ]
  },
  {
   "cell_type": "code",
   "execution_count": 20,
   "metadata": {},
   "outputs": [
    {
     "name": "stdout",
     "output_type": "stream",
     "text": [
      "              precision    recall  f1-score   support\n",
      "\n",
      "    accident       0.58      1.00      0.73        11\n",
      "      murder       0.70      0.70      0.70        10\n",
      "        rape       0.56      0.56      0.56         9\n",
      "       theft       1.00      0.53      0.69        17\n",
      "\n",
      "    accuracy                           0.68        47\n",
      "   macro avg       0.71      0.70      0.67        47\n",
      "weighted avg       0.75      0.68      0.68        47\n",
      "\n",
      "0.6808510638297872\n"
     ]
    }
   ],
   "source": [
    "print(classification_report(test['category'], predictions))\n",
    "print(accuracy_score(test['category'], predictions))"
   ]
  },
  {
   "cell_type": "code",
   "execution_count": 21,
   "metadata": {},
   "outputs": [
    {
     "data": {
      "text/html": [
       "<style>#sk-container-id-2 {color: black;background-color: white;}#sk-container-id-2 pre{padding: 0;}#sk-container-id-2 div.sk-toggleable {background-color: white;}#sk-container-id-2 label.sk-toggleable__label {cursor: pointer;display: block;width: 100%;margin-bottom: 0;padding: 0.3em;box-sizing: border-box;text-align: center;}#sk-container-id-2 label.sk-toggleable__label-arrow:before {content: \"▸\";float: left;margin-right: 0.25em;color: #696969;}#sk-container-id-2 label.sk-toggleable__label-arrow:hover:before {color: black;}#sk-container-id-2 div.sk-estimator:hover label.sk-toggleable__label-arrow:before {color: black;}#sk-container-id-2 div.sk-toggleable__content {max-height: 0;max-width: 0;overflow: hidden;text-align: left;background-color: #f0f8ff;}#sk-container-id-2 div.sk-toggleable__content pre {margin: 0.2em;color: black;border-radius: 0.25em;background-color: #f0f8ff;}#sk-container-id-2 input.sk-toggleable__control:checked~div.sk-toggleable__content {max-height: 200px;max-width: 100%;overflow: auto;}#sk-container-id-2 input.sk-toggleable__control:checked~label.sk-toggleable__label-arrow:before {content: \"▾\";}#sk-container-id-2 div.sk-estimator input.sk-toggleable__control:checked~label.sk-toggleable__label {background-color: #d4ebff;}#sk-container-id-2 div.sk-label input.sk-toggleable__control:checked~label.sk-toggleable__label {background-color: #d4ebff;}#sk-container-id-2 input.sk-hidden--visually {border: 0;clip: rect(1px 1px 1px 1px);clip: rect(1px, 1px, 1px, 1px);height: 1px;margin: -1px;overflow: hidden;padding: 0;position: absolute;width: 1px;}#sk-container-id-2 div.sk-estimator {font-family: monospace;background-color: #f0f8ff;border: 1px dotted black;border-radius: 0.25em;box-sizing: border-box;margin-bottom: 0.5em;}#sk-container-id-2 div.sk-estimator:hover {background-color: #d4ebff;}#sk-container-id-2 div.sk-parallel-item::after {content: \"\";width: 100%;border-bottom: 1px solid gray;flex-grow: 1;}#sk-container-id-2 div.sk-label:hover label.sk-toggleable__label {background-color: #d4ebff;}#sk-container-id-2 div.sk-serial::before {content: \"\";position: absolute;border-left: 1px solid gray;box-sizing: border-box;top: 0;bottom: 0;left: 50%;z-index: 0;}#sk-container-id-2 div.sk-serial {display: flex;flex-direction: column;align-items: center;background-color: white;padding-right: 0.2em;padding-left: 0.2em;position: relative;}#sk-container-id-2 div.sk-item {position: relative;z-index: 1;}#sk-container-id-2 div.sk-parallel {display: flex;align-items: stretch;justify-content: center;background-color: white;position: relative;}#sk-container-id-2 div.sk-item::before, #sk-container-id-2 div.sk-parallel-item::before {content: \"\";position: absolute;border-left: 1px solid gray;box-sizing: border-box;top: 0;bottom: 0;left: 50%;z-index: -1;}#sk-container-id-2 div.sk-parallel-item {display: flex;flex-direction: column;z-index: 1;position: relative;background-color: white;}#sk-container-id-2 div.sk-parallel-item:first-child::after {align-self: flex-end;width: 50%;}#sk-container-id-2 div.sk-parallel-item:last-child::after {align-self: flex-start;width: 50%;}#sk-container-id-2 div.sk-parallel-item:only-child::after {width: 0;}#sk-container-id-2 div.sk-dashed-wrapped {border: 1px dashed gray;margin: 0 0.4em 0.5em 0.4em;box-sizing: border-box;padding-bottom: 0.4em;background-color: white;}#sk-container-id-2 div.sk-label label {font-family: monospace;font-weight: bold;display: inline-block;line-height: 1.2em;}#sk-container-id-2 div.sk-label-container {text-align: center;}#sk-container-id-2 div.sk-container {/* jupyter's `normalize.less` sets `[hidden] { display: none; }` but bootstrap.min.css set `[hidden] { display: none !important; }` so we also need the `!important` here to be able to override the default hidden behavior on the sphinx rendered scikit-learn.org. See: https://github.com/scikit-learn/scikit-learn/issues/21755 */display: inline-block !important;position: relative;}#sk-container-id-2 div.sk-text-repr-fallback {display: none;}</style><div id=\"sk-container-id-2\" class=\"sk-top-container\"><div class=\"sk-text-repr-fallback\"><pre>SVC()</pre><b>In a Jupyter environment, please rerun this cell to show the HTML representation or trust the notebook. <br />On GitHub, the HTML representation is unable to render, please try loading this page with nbviewer.org.</b></div><div class=\"sk-container\" hidden><div class=\"sk-item\"><div class=\"sk-estimator sk-toggleable\"><input class=\"sk-toggleable__control sk-hidden--visually\" id=\"sk-estimator-id-2\" type=\"checkbox\" checked><label for=\"sk-estimator-id-2\" class=\"sk-toggleable__label sk-toggleable__label-arrow\">SVC</label><div class=\"sk-toggleable__content\"><pre>SVC()</pre></div></div></div></div></div>"
      ],
      "text/plain": [
       "SVC()"
      ]
     },
     "execution_count": 21,
     "metadata": {},
     "output_type": "execute_result"
    }
   ],
   "source": [
    "from sklearn.svm import SVC\n",
    "classifier = SVC()\n",
    "classifier.fit(vectors_train, topics_train)"
   ]
  },
  {
   "cell_type": "code",
   "execution_count": 22,
   "metadata": {},
   "outputs": [
    {
     "name": "stdout",
     "output_type": "stream",
     "text": [
      "              precision    recall  f1-score   support\n",
      "\n",
      "    accident       0.93      0.87      0.90        31\n",
      "      murder       0.63      0.81      0.71        32\n",
      "        rape       0.89      0.81      0.85        42\n",
      "       theft       0.91      0.83      0.87        36\n",
      "\n",
      "    accuracy                           0.83       141\n",
      "   macro avg       0.84      0.83      0.83       141\n",
      "weighted avg       0.85      0.83      0.83       141\n",
      "\n"
     ]
    }
   ],
   "source": [
    "# Predict with the testing set\n",
    "topics_pred = classifier.predict(vectors_val)\n",
    "\n",
    "# ...and measure the accuracy of the results\n",
    "from sklearn.metrics import classification_report\n",
    "print(classification_report(topics_val, topics_pred))"
   ]
  },
  {
   "cell_type": "code",
   "execution_count": 23,
   "metadata": {},
   "outputs": [],
   "source": [
    "newcomplaints = [\n",
    "    \"I was a victim of theft. My wallet got stolen.\",\n",
    "    \"I witnessed a car accident on Main Street.\",\n",
    "    \"My sister has been killed .\",\n",
    "    \"my package worth 50$ was stolen.\",\n",
    "    \"There has been a murder in my neighborhood. Please investigate.\",\n",
    "    \"I suspect my coworker of stealing office supplies.\",\n",
    "]\n",
    "\n",
    "newvectors = matrix.transform(newcomplaints).toarray()"
   ]
  },
  {
   "cell_type": "code",
   "execution_count": 24,
   "metadata": {},
   "outputs": [
    {
     "data": {
      "text/plain": [
       "[array(['theft', 'murder', 'murder', 'theft', 'murder', 'murder'],\n",
       "       dtype=object)]"
      ]
     },
     "execution_count": 24,
     "metadata": {},
     "output_type": "execute_result"
    }
   ],
   "source": [
    "predictions= [classifier.predict(newvectors)]\n",
    "predictions"
   ]
  },
  {
   "cell_type": "code",
   "execution_count": 25,
   "metadata": {},
   "outputs": [],
   "source": [
    "#test on test data\n",
    "# test= pd.read_csv('testdata.csv')\n",
    "complaints= test['complaint']\n",
    "newvectors = matrix.transform(complaints).toarray()\n",
    "predictions= classifier.predict(newvectors)\n",
    "# predictions= predictions.reshape(-1,1)\n",
    "# predictions"
   ]
  },
  {
   "cell_type": "code",
   "execution_count": 28,
   "metadata": {},
   "outputs": [
    {
     "name": "stdout",
     "output_type": "stream",
     "text": [
      "              precision    recall  f1-score   support\n",
      "\n",
      "    accident       0.83      0.91      0.87        11\n",
      "      murder       0.47      0.90      0.62        10\n",
      "        rape       1.00      0.67      0.80         9\n",
      "       theft       1.00      0.59      0.74        17\n",
      "\n",
      "    accuracy                           0.74        47\n",
      "   macro avg       0.83      0.77      0.76        47\n",
      "weighted avg       0.85      0.74      0.76        47\n",
      "\n",
      "0.7446808510638298\n"
     ]
    }
   ],
   "source": [
    "print(classification_report(test['category'], predictions))\n",
    "print(accuracy_score(test['category'], predictions))"
   ]
  },
  {
   "cell_type": "code",
   "execution_count": 29,
   "metadata": {},
   "outputs": [
    {
     "data": {
      "text/html": [
       "<style>#sk-container-id-3 {color: black;background-color: white;}#sk-container-id-3 pre{padding: 0;}#sk-container-id-3 div.sk-toggleable {background-color: white;}#sk-container-id-3 label.sk-toggleable__label {cursor: pointer;display: block;width: 100%;margin-bottom: 0;padding: 0.3em;box-sizing: border-box;text-align: center;}#sk-container-id-3 label.sk-toggleable__label-arrow:before {content: \"▸\";float: left;margin-right: 0.25em;color: #696969;}#sk-container-id-3 label.sk-toggleable__label-arrow:hover:before {color: black;}#sk-container-id-3 div.sk-estimator:hover label.sk-toggleable__label-arrow:before {color: black;}#sk-container-id-3 div.sk-toggleable__content {max-height: 0;max-width: 0;overflow: hidden;text-align: left;background-color: #f0f8ff;}#sk-container-id-3 div.sk-toggleable__content pre {margin: 0.2em;color: black;border-radius: 0.25em;background-color: #f0f8ff;}#sk-container-id-3 input.sk-toggleable__control:checked~div.sk-toggleable__content {max-height: 200px;max-width: 100%;overflow: auto;}#sk-container-id-3 input.sk-toggleable__control:checked~label.sk-toggleable__label-arrow:before {content: \"▾\";}#sk-container-id-3 div.sk-estimator input.sk-toggleable__control:checked~label.sk-toggleable__label {background-color: #d4ebff;}#sk-container-id-3 div.sk-label input.sk-toggleable__control:checked~label.sk-toggleable__label {background-color: #d4ebff;}#sk-container-id-3 input.sk-hidden--visually {border: 0;clip: rect(1px 1px 1px 1px);clip: rect(1px, 1px, 1px, 1px);height: 1px;margin: -1px;overflow: hidden;padding: 0;position: absolute;width: 1px;}#sk-container-id-3 div.sk-estimator {font-family: monospace;background-color: #f0f8ff;border: 1px dotted black;border-radius: 0.25em;box-sizing: border-box;margin-bottom: 0.5em;}#sk-container-id-3 div.sk-estimator:hover {background-color: #d4ebff;}#sk-container-id-3 div.sk-parallel-item::after {content: \"\";width: 100%;border-bottom: 1px solid gray;flex-grow: 1;}#sk-container-id-3 div.sk-label:hover label.sk-toggleable__label {background-color: #d4ebff;}#sk-container-id-3 div.sk-serial::before {content: \"\";position: absolute;border-left: 1px solid gray;box-sizing: border-box;top: 0;bottom: 0;left: 50%;z-index: 0;}#sk-container-id-3 div.sk-serial {display: flex;flex-direction: column;align-items: center;background-color: white;padding-right: 0.2em;padding-left: 0.2em;position: relative;}#sk-container-id-3 div.sk-item {position: relative;z-index: 1;}#sk-container-id-3 div.sk-parallel {display: flex;align-items: stretch;justify-content: center;background-color: white;position: relative;}#sk-container-id-3 div.sk-item::before, #sk-container-id-3 div.sk-parallel-item::before {content: \"\";position: absolute;border-left: 1px solid gray;box-sizing: border-box;top: 0;bottom: 0;left: 50%;z-index: -1;}#sk-container-id-3 div.sk-parallel-item {display: flex;flex-direction: column;z-index: 1;position: relative;background-color: white;}#sk-container-id-3 div.sk-parallel-item:first-child::after {align-self: flex-end;width: 50%;}#sk-container-id-3 div.sk-parallel-item:last-child::after {align-self: flex-start;width: 50%;}#sk-container-id-3 div.sk-parallel-item:only-child::after {width: 0;}#sk-container-id-3 div.sk-dashed-wrapped {border: 1px dashed gray;margin: 0 0.4em 0.5em 0.4em;box-sizing: border-box;padding-bottom: 0.4em;background-color: white;}#sk-container-id-3 div.sk-label label {font-family: monospace;font-weight: bold;display: inline-block;line-height: 1.2em;}#sk-container-id-3 div.sk-label-container {text-align: center;}#sk-container-id-3 div.sk-container {/* jupyter's `normalize.less` sets `[hidden] { display: none; }` but bootstrap.min.css set `[hidden] { display: none !important; }` so we also need the `!important` here to be able to override the default hidden behavior on the sphinx rendered scikit-learn.org. See: https://github.com/scikit-learn/scikit-learn/issues/21755 */display: inline-block !important;position: relative;}#sk-container-id-3 div.sk-text-repr-fallback {display: none;}</style><div id=\"sk-container-id-3\" class=\"sk-top-container\"><div class=\"sk-text-repr-fallback\"><pre>RandomForestClassifier()</pre><b>In a Jupyter environment, please rerun this cell to show the HTML representation or trust the notebook. <br />On GitHub, the HTML representation is unable to render, please try loading this page with nbviewer.org.</b></div><div class=\"sk-container\" hidden><div class=\"sk-item\"><div class=\"sk-estimator sk-toggleable\"><input class=\"sk-toggleable__control sk-hidden--visually\" id=\"sk-estimator-id-3\" type=\"checkbox\" checked><label for=\"sk-estimator-id-3\" class=\"sk-toggleable__label sk-toggleable__label-arrow\">RandomForestClassifier</label><div class=\"sk-toggleable__content\"><pre>RandomForestClassifier()</pre></div></div></div></div></div>"
      ],
      "text/plain": [
       "RandomForestClassifier()"
      ]
     },
     "execution_count": 29,
     "metadata": {},
     "output_type": "execute_result"
    }
   ],
   "source": [
    "from sklearn.ensemble import RandomForestClassifier\n",
    "classifier = RandomForestClassifier()\n",
    "classifier.fit(vectors_train, topics_train)"
   ]
  },
  {
   "cell_type": "code",
   "execution_count": 30,
   "metadata": {},
   "outputs": [
    {
     "name": "stdout",
     "output_type": "stream",
     "text": [
      "              precision    recall  f1-score   support\n",
      "\n",
      "    accident       0.97      0.90      0.93        31\n",
      "      murder       0.76      0.91      0.83        32\n",
      "        rape       0.95      0.88      0.91        42\n",
      "       theft       0.91      0.89      0.90        36\n",
      "\n",
      "    accuracy                           0.89       141\n",
      "   macro avg       0.90      0.89      0.89       141\n",
      "weighted avg       0.90      0.89      0.90       141\n",
      "\n"
     ]
    }
   ],
   "source": [
    "# Predict with the testing set\n",
    "topics_pred = classifier.predict(vectors_val)\n",
    "\n",
    "# ...and measure the accuracy of the results\n",
    "from sklearn.metrics import classification_report\n",
    "print(classification_report(topics_val, topics_pred))"
   ]
  },
  {
   "cell_type": "code",
   "execution_count": 31,
   "metadata": {},
   "outputs": [],
   "source": [
    "newcomplaints = [\n",
    "    \"I was a victim of theft. My wallet got stolen.\",\n",
    "    \"I witnessed a car accident on Main Street.\",\n",
    "    \"My sister has been killed .\",\n",
    "    \"my package worth 50$ was stolen.\",\n",
    "    \"There has been a murder in my neighborhood. Please investigate.\",\n",
    "    \"I suspect my coworker of stealing office supplies.\",\n",
    "]\n",
    "\n",
    "newvectors = matrix.transform(newcomplaints).toarray()"
   ]
  },
  {
   "cell_type": "code",
   "execution_count": 32,
   "metadata": {},
   "outputs": [
    {
     "data": {
      "text/plain": [
       "[array(['theft', 'murder', 'murder', 'murder', 'murder', 'murder'],\n",
       "       dtype=object)]"
      ]
     },
     "execution_count": 32,
     "metadata": {},
     "output_type": "execute_result"
    }
   ],
   "source": [
    "predictions= [classifier.predict(newvectors)]\n",
    "predictions"
   ]
  },
  {
   "cell_type": "code",
   "execution_count": 33,
   "metadata": {},
   "outputs": [],
   "source": [
    "#test on test data\n",
    "# test= pd.read_csv('testdata.csv')\n",
    "complaints= test['complaint']\n",
    "newvectors = matrix.transform(complaints).toarray()\n",
    "predictions= classifier.predict(newvectors)\n",
    "# predictions= predictions.reshape(-1,1)\n",
    "# predictions"
   ]
  },
  {
   "cell_type": "code",
   "execution_count": 34,
   "metadata": {},
   "outputs": [
    {
     "name": "stdout",
     "output_type": "stream",
     "text": [
      "              precision    recall  f1-score   support\n",
      "\n",
      "    accident       0.62      0.91      0.74        11\n",
      "      murder       0.45      0.90      0.60        10\n",
      "        rape       1.00      0.44      0.62         9\n",
      "       theft       1.00      0.41      0.58        17\n",
      "\n",
      "    accuracy                           0.64        47\n",
      "   macro avg       0.77      0.67      0.63        47\n",
      "weighted avg       0.80      0.64      0.63        47\n",
      "\n",
      "0.6382978723404256\n"
     ]
    }
   ],
   "source": [
    "print(classification_report(test['category'], predictions))\n",
    "print(accuracy_score(test['category'], predictions))"
   ]
  }
 ],
 "metadata": {
  "kernelspec": {
   "display_name": "Python 3",
   "language": "python",
   "name": "python3"
  },
  "language_info": {
   "codemirror_mode": {
    "name": "ipython",
    "version": 3
   },
   "file_extension": ".py",
   "mimetype": "text/x-python",
   "name": "python",
   "nbconvert_exporter": "python",
   "pygments_lexer": "ipython3",
   "version": "3.8.0"
  },
  "orig_nbformat": 4
 },
 "nbformat": 4,
 "nbformat_minor": 2
}
