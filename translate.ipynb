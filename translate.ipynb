{
 "cells": [
  {
   "cell_type": "code",
   "execution_count": 3,
   "metadata": {},
   "outputs": [
    {
     "ename": "SyntaxError",
     "evalue": "invalid decimal literal (1879824740.py, line 4)",
     "output_type": "error",
     "traceback": [
      "\u001b[1;36m  Input \u001b[1;32mIn [3]\u001b[1;36m\u001b[0m\n\u001b[1;33m    pip install googletrans==3.1.0a0\u001b[0m\n\u001b[1;37m                                 ^\u001b[0m\n\u001b[1;31mSyntaxError\u001b[0m\u001b[1;31m:\u001b[0m invalid decimal literal\n"
     ]
    }
   ],
   "source": [
    "import pip\n",
    "\n",
    "\n",
    "pip install googletrans==3.1.0a0\n"
   ]
  },
  {
   "cell_type": "code",
   "execution_count": 1,
   "metadata": {},
   "outputs": [],
   "source": [
    "import pandas as pd\n",
    "from googletrans import Translator"
   ]
  },
  {
   "cell_type": "code",
   "execution_count": 2,
   "metadata": {},
   "outputs": [
    {
     "name": "stdout",
     "output_type": "stream",
     "text": [
      "                                             complaint\n",
      "0    माजरी चौक पंचकुला के पास घग्गर पुल पर दो कार क...\n",
      "1    हरियाणा के पलवल में डिलीवरी के दौरान एक अधिक ख...\n",
      "2    रोहतक के महम में सड़क हादसे में तीन श्रद्धालुओ...\n",
      "3    यमुनानगर के जगाधरी की जड़ौदा गेट स्थित अखिल मे...\n",
      "4    यमुनानगर के छछरौली के नेशनल हाईवे 907 पर शाम क...\n",
      "..                                                 ...\n",
      "176  पलवल में एक सवार शख्स से रोड पर चलते हुए दो लो...\n",
      "177  आज बदमाशों ने एक पेट्रोल पंप से दिनदहाड़े 25 ल...\n",
      "178  हरियाणा के हिसार में भाटला डाटा हाईवे पर बदमाश...\n",
      "179   करनाल शहर में एक महिला का मोबाइल फोन छीनने के...\n",
      "180  आज रात को हरियाणा के जींद शहर में एक रोडवेज़ ध...\n",
      "\n",
      "[181 rows x 1 columns]\n"
     ]
    }
   ],
   "source": [
    "data = pd.read_csv(\"../../full data/data.csv\")\n",
    "print(data)"
   ]
  },
  {
   "cell_type": "code",
   "execution_count": 3,
   "metadata": {},
   "outputs": [],
   "source": [
    "english= pd.DataFrame(columns=['complaint'])"
   ]
  },
  {
   "cell_type": "code",
   "execution_count": 4,
   "metadata": {},
   "outputs": [],
   "source": [
    "translator = Translator()\n",
    "translations = {}\n",
    "for column in data.columns:\n",
    "    #print(column)\n",
    "    unique = data[column].unique()\n",
    "   # print(unique)\n",
    "    for element in unique:\n",
    "        translations[element] = translator.translate(element).text\n",
    "for i in translations.items():\n",
    "    #add translation to new row in Complaints column of dataframe\n",
    "    english.loc[len(english),'complaint'] = i[1]"
   ]
  },
  {
   "cell_type": "code",
   "execution_count": 5,
   "metadata": {},
   "outputs": [
    {
     "data": {
      "text/html": [
       "<div>\n",
       "<style scoped>\n",
       "    .dataframe tbody tr th:only-of-type {\n",
       "        vertical-align: middle;\n",
       "    }\n",
       "\n",
       "    .dataframe tbody tr th {\n",
       "        vertical-align: top;\n",
       "    }\n",
       "\n",
       "    .dataframe thead th {\n",
       "        text-align: right;\n",
       "    }\n",
       "</style>\n",
       "<table border=\"1\" class=\"dataframe\">\n",
       "  <thead>\n",
       "    <tr style=\"text-align: right;\">\n",
       "      <th></th>\n",
       "      <th>complaint</th>\n",
       "    </tr>\n",
       "  </thead>\n",
       "  <tbody>\n",
       "    <tr>\n",
       "      <th>0</th>\n",
       "      <td>Two cars collided head-on at Ghaggar bridge ne...</td>\n",
       "    </tr>\n",
       "    <tr>\n",
       "      <th>1</th>\n",
       "      <td>A pregnant woman died due to excessive bleedin...</td>\n",
       "    </tr>\n",
       "    <tr>\n",
       "      <th>2</th>\n",
       "      <td>Three pilgrims were killed and 24 people were ...</td>\n",
       "    </tr>\n",
       "    <tr>\n",
       "      <th>3</th>\n",
       "      <td>While working in Akhil Metal Factory located a...</td>\n",
       "    </tr>\n",
       "    <tr>\n",
       "      <th>4</th>\n",
       "      <td>A painful accident took place in the evening o...</td>\n",
       "    </tr>\n",
       "    <tr>\n",
       "      <th>...</th>\n",
       "      <td>...</td>\n",
       "    </tr>\n",
       "    <tr>\n",
       "      <th>175</th>\n",
       "      <td>In Palwal, two people looted 40 lakhs from a r...</td>\n",
       "    </tr>\n",
       "    <tr>\n",
       "      <th>176</th>\n",
       "      <td>Today, miscreants looted Rs 25 lakh from a pet...</td>\n",
       "    </tr>\n",
       "    <tr>\n",
       "      <th>177</th>\n",
       "      <td>In Haryana's Hisar, on the Bhatla Data Highway...</td>\n",
       "    </tr>\n",
       "    <tr>\n",
       "      <th>178</th>\n",
       "      <td>A 27-year-old man was arrested along with his ...</td>\n",
       "    </tr>\n",
       "    <tr>\n",
       "      <th>179</th>\n",
       "      <td>Tonight a roadways section incident took place...</td>\n",
       "    </tr>\n",
       "  </tbody>\n",
       "</table>\n",
       "<p>180 rows × 1 columns</p>\n",
       "</div>"
      ],
      "text/plain": [
       "                                             complaint\n",
       "0    Two cars collided head-on at Ghaggar bridge ne...\n",
       "1    A pregnant woman died due to excessive bleedin...\n",
       "2    Three pilgrims were killed and 24 people were ...\n",
       "3    While working in Akhil Metal Factory located a...\n",
       "4    A painful accident took place in the evening o...\n",
       "..                                                 ...\n",
       "175  In Palwal, two people looted 40 lakhs from a r...\n",
       "176  Today, miscreants looted Rs 25 lakh from a pet...\n",
       "177  In Haryana's Hisar, on the Bhatla Data Highway...\n",
       "178  A 27-year-old man was arrested along with his ...\n",
       "179  Tonight a roadways section incident took place...\n",
       "\n",
       "[180 rows x 1 columns]"
      ]
     },
     "execution_count": 5,
     "metadata": {},
     "output_type": "execute_result"
    }
   ],
   "source": [
    "english"
   ]
  },
  {
   "cell_type": "code",
   "execution_count": 6,
   "metadata": {},
   "outputs": [],
   "source": [
    "english.to_csv('english.csv', index=False)"
   ]
  }
 ],
 "metadata": {
  "kernelspec": {
   "display_name": "Python 3",
   "language": "python",
   "name": "python3"
  },
  "language_info": {
   "codemirror_mode": {
    "name": "ipython",
    "version": 3
   },
   "file_extension": ".py",
   "mimetype": "text/x-python",
   "name": "python",
   "nbconvert_exporter": "python",
   "pygments_lexer": "ipython3",
   "version": "3.8.0"
  },
  "orig_nbformat": 4
 },
 "nbformat": 4,
 "nbformat_minor": 2
}
